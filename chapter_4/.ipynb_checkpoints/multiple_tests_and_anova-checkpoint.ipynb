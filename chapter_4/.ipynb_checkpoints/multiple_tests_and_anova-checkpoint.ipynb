{
 "cells": [
  {
   "cell_type": "markdown",
   "id": "e4491eb0-2b0e-47b2-89bb-d64aef60ee4d",
   "metadata": {},
   "source": [
    "# Multiple Tests and ANOVA"
   ]
  },
  {
   "cell_type": "code",
   "execution_count": 1,
   "id": "b17986b5-15fb-4ca6-8e20-2a85acbc9a18",
   "metadata": {},
   "outputs": [],
   "source": [
    "import requests\n",
    "import re\n",
    "from collections import namedtuple\n",
    "\n",
    "import numpy as np\n",
    "import pandas as pd\n",
    "from matplotlib import pyplot as plt\n",
    "import statsmodels.api as sm\n",
    "from statsmodels.stats.weightstats import ttest_ind\n",
    "from statsmodels.stats.multitest import multipletests\n",
    "from statsmodels.stats.anova import anova_lm\n",
    "from statsmodels.stats.oneway import anova_oneway\n",
    "from statsmodels.formula.api import ols"
   ]
  },
  {
   "cell_type": "markdown",
   "id": "67e8a562-7290-4aa9-8284-d432adf1b068",
   "metadata": {},
   "source": [
    "This notebook uses the [Auto MPG Data Set](https://archive.ics.uci.edu/ml/datasets/Auto+MPG) from the [UCI Machine Learning Repository](https://archive.ics.uci.edu/ml/index.php).\n",
    "\n",
    "Dua, D. and Graff, C. (2019). UCI Machine Learning Repository [http://archive.ics.uci.edu/ml]. Irvine, CA: University of California, School of Information and Computer Science."
   ]
  },
  {
   "cell_type": "markdown",
   "id": "71103c62-6368-4534-8c8d-a30ea72d54a0",
   "metadata": {},
   "source": [
    "## Get Data"
   ]
  },
  {
   "cell_type": "code",
   "execution_count": 2,
   "id": "f9af2c70-2c0c-4d37-9b3e-3b6aed2961d8",
   "metadata": {},
   "outputs": [
    {
     "name": "stdout",
     "output_type": "stream",
     "text": [
      "1. Title: Auto-Mpg Data\n",
      "\n",
      "2. Sources:\n",
      "   (a) Origin:  This dataset was taken from the StatLib library which is\n",
      "                maintained at Carnegie Mellon University. The dataset was \n",
      "                used in the 1983 American Statistical Association Exposition.\n",
      "   (c) Date: July 7, 1993\n",
      "\n",
      "3. Past Usage:\n",
      "    -  See 2b (above)\n",
      "    -  Quinlan,R. (1993). Combining Instance-Based and Model-Based Learning.\n",
      "       In Proceedings on the Tenth International Conference of Machine \n",
      "       Learning, 236-243, University of Massachusetts, Amherst. Morgan\n",
      "       Kaufmann.\n",
      "\n",
      "4. Relevant Information:\n",
      "\n",
      "   This dataset is a slightly modified version of the dataset provided in\n",
      "   the StatLib library.  In line with the use by Ross Quinlan (1993) in\n",
      "   predicting the attribute \"mpg\", 8 of the original instances were removed \n",
      "   because they had unknown values for the \"mpg\" attribute.  The original \n",
      "   dataset is available in the file \"auto-mpg.data-original\".\n",
      "\n",
      "   \"The data concerns city-cycle fuel consumption in miles per gallon,\n",
      "    to be predicted in terms of 3 multivalued discrete and 5 continuous\n",
      "    attributes.\" (Quinlan, 1993)\n",
      "\n",
      "5. Number of Instances: 398\n",
      "\n",
      "6. Number of Attributes: 9 including the class attribute\n",
      "\n",
      "7. Attribute Information:\n",
      "\n",
      "    1. mpg:           continuous\n",
      "    2. cylinders:     multi-valued discrete\n",
      "    3. displacement:  continuous\n",
      "    4. horsepower:    continuous\n",
      "    5. weight:        continuous\n",
      "    6. acceleration:  continuous\n",
      "    7. model year:    multi-valued discrete\n",
      "    8. origin:        multi-valued discrete\n",
      "    9. car name:      string (unique for each instance)\n",
      "\n",
      "8. Missing Attribute Values:  horsepower has 6 missing values\n",
      "\n",
      "\n"
     ]
    }
   ],
   "source": [
    "data_url = \"https://archive.ics.uci.edu/ml/machine-learning-databases/auto-mpg/auto-mpg.data\"\n",
    "metadata_url = \"https://archive.ics.uci.edu/ml/machine-learning-databases/auto-mpg/auto-mpg.names\"\n",
    "\n",
    "# get metadata\n",
    "metadata = requests.get(metadata_url)\n",
    "metadata = metadata.content.decode(\"utf-8\")\n",
    "print(metadata)"
   ]
  },
  {
   "cell_type": "code",
   "execution_count": 3,
   "id": "f2c7e510-80c5-4a63-9c2d-912b1f172e0a",
   "metadata": {},
   "outputs": [],
   "source": [
    "variables = {}\n",
    "lines = metadata.split('\\n\\n')[9].split('\\n')\n",
    "for line in lines:\n",
    "    line = re.search(r\"\\d.\\s([\\s\\w]+):\\s+([()\\s\\w-]+)\", line)\n",
    "    variables[line.group(1).replace(' ', '_')] = line.group(2).replace(' ', '_')"
   ]
  },
  {
   "cell_type": "markdown",
   "id": "d9d887af-d733-49a3-8542-386229cf84cc",
   "metadata": {},
   "source": [
    "Variable names and associated data types"
   ]
  },
  {
   "cell_type": "code",
   "execution_count": 4,
   "id": "58adcb88-16c4-4a99-862f-ec26027bef14",
   "metadata": {},
   "outputs": [
    {
     "data": {
      "text/plain": [
       "{'mpg': 'continuous',\n",
       " 'cylinders': 'multi-valued_discrete',\n",
       " 'displacement': 'continuous',\n",
       " 'horsepower': 'continuous',\n",
       " 'weight': 'continuous',\n",
       " 'acceleration': 'continuous',\n",
       " 'model_year': 'multi-valued_discrete',\n",
       " 'origin': 'multi-valued_discrete',\n",
       " 'car_name': 'string_(unique_for_each_instance)'}"
      ]
     },
     "execution_count": 4,
     "metadata": {},
     "output_type": "execute_result"
    }
   ],
   "source": [
    "variables"
   ]
  },
  {
   "cell_type": "markdown",
   "id": "7882ee6c-17ef-453d-8528-120823cec7d6",
   "metadata": {},
   "source": [
    "Fetch data and look at head of dataframe"
   ]
  },
  {
   "cell_type": "code",
   "execution_count": 5,
   "id": "19e39c10-3bee-4762-9708-95e32a9af8df",
   "metadata": {},
   "outputs": [],
   "source": [
    "names = list(variables.keys())\n",
    "\n",
    "data = pd.read_csv(\n",
    "    data_url,\n",
    "    header=None,\n",
    "    delim_whitespace=True,\n",
    "    names=names,\n",
    ")"
   ]
  },
  {
   "cell_type": "code",
   "execution_count": 6,
   "id": "03502d89-d27c-4338-a666-9258c7a1e459",
   "metadata": {},
   "outputs": [
    {
     "data": {
      "text/html": [
       "<div>\n",
       "<style scoped>\n",
       "    .dataframe tbody tr th:only-of-type {\n",
       "        vertical-align: middle;\n",
       "    }\n",
       "\n",
       "    .dataframe tbody tr th {\n",
       "        vertical-align: top;\n",
       "    }\n",
       "\n",
       "    .dataframe thead th {\n",
       "        text-align: right;\n",
       "    }\n",
       "</style>\n",
       "<table border=\"1\" class=\"dataframe\">\n",
       "  <thead>\n",
       "    <tr style=\"text-align: right;\">\n",
       "      <th></th>\n",
       "      <th>mpg</th>\n",
       "      <th>cylinders</th>\n",
       "      <th>displacement</th>\n",
       "      <th>horsepower</th>\n",
       "      <th>weight</th>\n",
       "      <th>acceleration</th>\n",
       "      <th>model_year</th>\n",
       "      <th>origin</th>\n",
       "      <th>car_name</th>\n",
       "    </tr>\n",
       "  </thead>\n",
       "  <tbody>\n",
       "    <tr>\n",
       "      <th>0</th>\n",
       "      <td>18.0</td>\n",
       "      <td>8</td>\n",
       "      <td>307.0</td>\n",
       "      <td>130.0</td>\n",
       "      <td>3504.0</td>\n",
       "      <td>12.0</td>\n",
       "      <td>70</td>\n",
       "      <td>1</td>\n",
       "      <td>chevrolet chevelle malibu</td>\n",
       "    </tr>\n",
       "    <tr>\n",
       "      <th>1</th>\n",
       "      <td>15.0</td>\n",
       "      <td>8</td>\n",
       "      <td>350.0</td>\n",
       "      <td>165.0</td>\n",
       "      <td>3693.0</td>\n",
       "      <td>11.5</td>\n",
       "      <td>70</td>\n",
       "      <td>1</td>\n",
       "      <td>buick skylark 320</td>\n",
       "    </tr>\n",
       "    <tr>\n",
       "      <th>2</th>\n",
       "      <td>18.0</td>\n",
       "      <td>8</td>\n",
       "      <td>318.0</td>\n",
       "      <td>150.0</td>\n",
       "      <td>3436.0</td>\n",
       "      <td>11.0</td>\n",
       "      <td>70</td>\n",
       "      <td>1</td>\n",
       "      <td>plymouth satellite</td>\n",
       "    </tr>\n",
       "    <tr>\n",
       "      <th>3</th>\n",
       "      <td>16.0</td>\n",
       "      <td>8</td>\n",
       "      <td>304.0</td>\n",
       "      <td>150.0</td>\n",
       "      <td>3433.0</td>\n",
       "      <td>12.0</td>\n",
       "      <td>70</td>\n",
       "      <td>1</td>\n",
       "      <td>amc rebel sst</td>\n",
       "    </tr>\n",
       "    <tr>\n",
       "      <th>4</th>\n",
       "      <td>17.0</td>\n",
       "      <td>8</td>\n",
       "      <td>302.0</td>\n",
       "      <td>140.0</td>\n",
       "      <td>3449.0</td>\n",
       "      <td>10.5</td>\n",
       "      <td>70</td>\n",
       "      <td>1</td>\n",
       "      <td>ford torino</td>\n",
       "    </tr>\n",
       "  </tbody>\n",
       "</table>\n",
       "</div>"
      ],
      "text/plain": [
       "    mpg  cylinders  displacement horsepower  weight  acceleration  model_year  \\\n",
       "0  18.0          8         307.0      130.0  3504.0          12.0          70   \n",
       "1  15.0          8         350.0      165.0  3693.0          11.5          70   \n",
       "2  18.0          8         318.0      150.0  3436.0          11.0          70   \n",
       "3  16.0          8         304.0      150.0  3433.0          12.0          70   \n",
       "4  17.0          8         302.0      140.0  3449.0          10.5          70   \n",
       "\n",
       "   origin                   car_name  \n",
       "0       1  chevrolet chevelle malibu  \n",
       "1       1          buick skylark 320  \n",
       "2       1         plymouth satellite  \n",
       "3       1              amc rebel sst  \n",
       "4       1                ford torino  "
      ]
     },
     "execution_count": 6,
     "metadata": {},
     "output_type": "execute_result"
    }
   ],
   "source": [
    "data.head()"
   ]
  },
  {
   "cell_type": "markdown",
   "id": "7d9b17df-8c02-46bc-b85d-8071840d734a",
   "metadata": {},
   "source": [
    "## Multiple Tests Example"
   ]
  },
  {
   "cell_type": "markdown",
   "id": "53320af3-fb7c-4c9d-9be9-8f546b42d882",
   "metadata": {},
   "source": [
    "Let's say we are interested in determining whether there is a significant difference between MPG of vehicles shipped from the origins.\n",
    "There are three origins, so we will run three hypothesis tests and apply a p-value correction.\n",
    "We will let the significance level be 0.01."
   ]
  },
  {
   "cell_type": "code",
   "execution_count": 7,
   "id": "ab28e12b-7ab7-4218-be6d-dba30540568f",
   "metadata": {},
   "outputs": [
    {
     "data": {
      "text/plain": [
       "1    249\n",
       "3     79\n",
       "2     70\n",
       "Name: origin, dtype: int64"
      ]
     },
     "execution_count": 7,
     "metadata": {},
     "output_type": "execute_result"
    }
   ],
   "source": [
    "data.origin.value_counts()"
   ]
  },
  {
   "cell_type": "markdown",
   "id": "1db1e279-75e7-48ed-a5fd-d34d43ef00ce",
   "metadata": {},
   "source": [
    "Taking a look at the descritive statistics, the mean mpg of vehicles from origin 1 appears to be different than the mpg means of vehicles from origins 2 and 3."
   ]
  },
  {
   "cell_type": "code",
   "execution_count": 8,
   "id": "6878629c-b4eb-43e9-b4ad-62e07228916b",
   "metadata": {},
   "outputs": [
    {
     "data": {
      "text/html": [
       "<div>\n",
       "<style scoped>\n",
       "    .dataframe tbody tr th:only-of-type {\n",
       "        vertical-align: middle;\n",
       "    }\n",
       "\n",
       "    .dataframe tbody tr th {\n",
       "        vertical-align: top;\n",
       "    }\n",
       "\n",
       "    .dataframe thead th {\n",
       "        text-align: right;\n",
       "    }\n",
       "</style>\n",
       "<table border=\"1\" class=\"dataframe\">\n",
       "  <thead>\n",
       "    <tr style=\"text-align: right;\">\n",
       "      <th></th>\n",
       "      <th>mpg</th>\n",
       "    </tr>\n",
       "    <tr>\n",
       "      <th>origin</th>\n",
       "      <th></th>\n",
       "    </tr>\n",
       "  </thead>\n",
       "  <tbody>\n",
       "    <tr>\n",
       "      <th>1</th>\n",
       "      <td>20.083534</td>\n",
       "    </tr>\n",
       "    <tr>\n",
       "      <th>2</th>\n",
       "      <td>27.891429</td>\n",
       "    </tr>\n",
       "    <tr>\n",
       "      <th>3</th>\n",
       "      <td>30.450633</td>\n",
       "    </tr>\n",
       "  </tbody>\n",
       "</table>\n",
       "</div>"
      ],
      "text/plain": [
       "              mpg\n",
       "origin           \n",
       "1       20.083534\n",
       "2       27.891429\n",
       "3       30.450633"
      ]
     },
     "execution_count": 8,
     "metadata": {},
     "output_type": "execute_result"
    }
   ],
   "source": [
    "# look at mean mpg for each origin\n",
    "data[['origin','mpg']].groupby('origin').mean()"
   ]
  },
  {
   "cell_type": "code",
   "execution_count": 9,
   "id": "9313bc0d-8a83-4407-899e-d28e87558add",
   "metadata": {},
   "outputs": [],
   "source": [
    "# get mpgs for each origin\n",
    "mpg_1 = data[data.origin==1].sample(60, random_state=42).mpg\n",
    "mpg_2 = data[data.origin==2].sample(60, random_state=42).mpg\n",
    "mpg_3 = data[data.origin==3].sample(60, random_state=42).mpg"
   ]
  },
  {
   "cell_type": "markdown",
   "id": "9be96480-4cc0-461b-9092-e95451471c40",
   "metadata": {},
   "source": [
    "### Assumptions\n",
    "\n",
    "For the purposes of this example, we will assume that the sample are independantly selected (though it is unclear whether this is clear).\n",
    "Assessments of normality and equal varaince are shown below.\n",
    "\n",
    "#### Normality\n",
    "\n",
    "QQ plots for the three datasets are shown below.\n",
    "While might be some deviations from normality, the deviations do not appear to be significant."
   ]
  },
  {
   "cell_type": "code",
   "execution_count": 10,
   "id": "c39576eb-24e6-422b-b129-923eb3ee90f0",
   "metadata": {},
   "outputs": [
    {
     "data": {
      "image/png": "[encoded data removed]",
      "text/plain": [
       "<Figure size 432x288 with 1 Axes>"
      ]
     },
     "metadata": {
      "needs_background": "light"
     },
     "output_type": "display_data"
    }
   ],
   "source": [
    "sm.qqplot(mpg_1, line='s')\n",
    "plt.title('QQ Plot for MPG from Origin 1')\n",
    "plt.show()"
   ]
  },
  {
   "cell_type": "code",
   "execution_count": 11,
   "id": "add01866-b6e1-423d-948e-229c8c7408e8",
   "metadata": {},
   "outputs": [
    {
     "data": {
      "image/png": "[encoded data removed]",
      "text/plain": [
       "<Figure size 432x288 with 1 Axes>"
      ]
     },
     "metadata": {
      "needs_background": "light"
     },
     "output_type": "display_data"
    }
   ],
   "source": [
    "sm.qqplot(mpg_2, line='s')\n",
    "plt.title('QQ Plot for MPG from Origin 2')\n",
    "plt.show()"
   ]
  },
  {
   "cell_type": "code",
   "execution_count": 12,
   "id": "673b41b4-2bca-481b-bd0e-0a46dcda7373",
   "metadata": {},
   "outputs": [
    {
     "data": {
      "image/png": "[encoded data removed]",
      "text/plain": [
       "<Figure size 432x288 with 1 Axes>"
      ]
     },
     "metadata": {
      "needs_background": "light"
     },
     "output_type": "display_data"
    }
   ],
   "source": [
    "sm.qqplot(mpg_3, line='s')\n",
    "plt.title('QQ Plot for MPG from Origin 3')\n",
    "plt.show()"
   ]
  },
  {
   "cell_type": "markdown",
   "id": "a1bb6299-2e2a-41bf-b640-1c2f679da3cc",
   "metadata": {},
   "source": [
    "#### Equal Variance\n",
    "\n",
    "Based on the plot below, the groups of data do not appear to have significantly different variances."
   ]
  },
  {
   "cell_type": "code",
   "execution_count": 13,
   "id": "28df7526-bbde-477c-8e4f-f283256c12ea",
   "metadata": {},
   "outputs": [
    {
     "data": {
      "image/png": "[encoded data removed]",
      "text/plain": [
       "<Figure size 432x288 with 1 Axes>"
      ]
     },
     "metadata": {
      "needs_background": "light"
     },
     "output_type": "display_data"
    }
   ],
   "source": [
    "plt.boxplot([mpg_1, mpg_2, mpg_3])\n",
    "plt.xlabel('origin')\n",
    "plt.ylabel('mpg')\n",
    "plt.title('MPG by Origin');"
   ]
  },
  {
   "cell_type": "markdown",
   "id": "45e5645f-7b18-4418-b517-733c20d157f1",
   "metadata": {},
   "source": [
    "### Hypothesis Tests\n",
    "\n",
    "In this section, we will perform the following:\n",
    "\n",
    "* perform the individual tests\n",
    "* apply the p-value corrections and get the results \n",
    "* verify the bonferroni-corrected p-values are what we expect"
   ]
  },
  {
   "cell_type": "code",
   "execution_count": 14,
   "id": "bb83e2a7-ec2a-4e35-93de-ef6676847ced",
   "metadata": {},
   "outputs": [],
   "source": [
    "# store the values in a namedtuple\n",
    "TestResult = namedtuple('TestResult', 'stat p_value df')"
   ]
  },
  {
   "cell_type": "markdown",
   "id": "b5e99aed-5eb4-4dd2-a7c0-c0112fe0566f",
   "metadata": {},
   "source": [
    "#### Perform Individual Tests\n",
    "\n",
    "The following cell computes a t-test for each individual test in the family.\n",
    "Then the p-values for each test are displayed.\n",
    "We can see that the group 1 means appears to be different from the other two means based on the t-test p-values.\n",
    "But, there doesn't appear to be a significant difference between groups 2 and 3."
   ]
  },
  {
   "cell_type": "code",
   "execution_count": 15,
   "id": "1a96ba90-8549-4ebe-a39a-21130317d3a1",
   "metadata": {},
   "outputs": [],
   "source": [
    "test_1v2 = TestResult(*ttest_ind(mpg_1, mpg_2))\n",
    "test_1v3 = TestResult(*ttest_ind(mpg_1, mpg_3))\n",
    "test_2v3 = TestResult(*ttest_ind(mpg_2, mpg_3))"
   ]
  },
  {
   "cell_type": "markdown",
   "id": "50777b80-22f5-4f4c-933e-a0bca2d83d8b",
   "metadata": {},
   "source": [
    "**Note:** `ttest_ind` performs a two-sided test by default."
   ]
  },
  {
   "cell_type": "code",
   "execution_count": 16,
   "id": "bdd21860-d7ae-415f-b996-04cdfc5f8194",
   "metadata": {},
   "outputs": [
    {
     "name": "stdout",
     "output_type": "stream",
     "text": [
      "The p-values from the tests are [7.946116336281346e-12, 4.608511957238898e-19, 0.0420926104552266]\n"
     ]
    }
   ],
   "source": [
    "pvalues = [result.p_value for result in [test_1v2, test_1v3, test_2v3]]\n",
    "print(f\"The p-values from the tests are {pvalues}\")"
   ]
  },
  {
   "cell_type": "markdown",
   "id": "805e69c5-5849-4c72-a6a5-474a62f5d2a2",
   "metadata": {},
   "source": [
    "#### Correct p-values and Get Resuluts"
   ]
  },
  {
   "cell_type": "code",
   "execution_count": 17,
   "id": "84c9875b-771a-45e9-ab5f-24a862441f4d",
   "metadata": {},
   "outputs": [],
   "source": [
    "reject, corrected_pvalues, *_ = multipletests(pvalues, alpha=0.01, method='bonferroni')"
   ]
  },
  {
   "cell_type": "code",
   "execution_count": 18,
   "id": "22819fe5-d592-45dd-9d1c-d30a74aab672",
   "metadata": {},
   "outputs": [
    {
     "name": "stdout",
     "output_type": "stream",
     "text": [
      "The bonferroni-corrected p-values are [2.38383490e-11 1.38255359e-18 1.26277831e-01]\n"
     ]
    }
   ],
   "source": [
    "print(f\"The bonferroni-corrected p-values are {corrected_pvalues}\")"
   ]
  },
  {
   "cell_type": "code",
   "execution_count": 19,
   "id": "d891059a-f808-40c7-9b66-7cdd1c25d1e8",
   "metadata": {},
   "outputs": [
    {
     "name": "stdout",
     "output_type": "stream",
     "text": [
      "Test results:\n",
      "Reject difference in mean group 1, group 2: True\n",
      "Reject difference in mean group 1, group 3: True\n",
      "Reject difference in mean group 2, group 3: False\n"
     ]
    }
   ],
   "source": [
    "print(\"Test results:\")\n",
    "print(f\"Reject difference in mean group 1, group 2: {reject[0]}\")\n",
    "print(f\"Reject difference in mean group 1, group 3: {reject[1]}\")\n",
    "print(f\"Reject difference in mean group 2, group 3: {reject[2]}\")"
   ]
  },
  {
   "cell_type": "markdown",
   "id": "a8a2b4b2-81a5-4dca-8ec1-c44396fde3b5",
   "metadata": {},
   "source": [
    "The results show that we *reject the null hypthesis* for the comparisons of the mean of group 1 with the mean of groups 2 and 3.\n",
    "We *fail to reject the null hypothesis* for the comparison of the mean of group 2 and the mean of group 3."
   ]
  },
  {
   "cell_type": "markdown",
   "id": "136dd296-18a3-4337-be0c-3c9b8f3cfee5",
   "metadata": {},
   "source": [
    "#### Verifying Bonferroni Correction\n",
    "\n",
    "Let take these results and verify that the bonferroni correction was applied.\n",
    "Recall from the chapter that the bonferroni correction expressed by the following expression where $p_i$ is the test p-value, $\\alpha$ is the FWER, and $m$ is the number of individual tests in the family.\n",
    "\n",
    "$$\n",
    "p_i \\leq \\frac{\\alpha}{m}\n",
    "$$\n",
    "\n",
    "This can be rearranged as \n",
    "\n",
    "$$\n",
    "p_i * m \\leq \\alpha\n",
    "$$\n",
    "\n",
    "meaning, we can check the bonferroni correction by multiplying the individual test p-values by the number of tests (there are three tests)."
   ]
  },
  {
   "cell_type": "code",
   "execution_count": 20,
   "id": "ddd886b3-ba1b-4da6-a99f-bb794b1ff50c",
   "metadata": {},
   "outputs": [
    {
     "name": "stdout",
     "output_type": "stream",
     "text": [
      "The corrected value is 2.383834900884404e-11 and the individual pvalue multiplied by 3 is 2.383834900884404e-11\n",
      "The corrected value is 1.3825535871716694e-18 and the individual pvalue multiplied by 3 is 1.3825535871716694e-18\n",
      "The corrected value is 0.1262778313656798 and the individual pvalue multiplied by 3 is 0.1262778313656798\n"
     ]
    }
   ],
   "source": [
    "for pvalue, bonf_pvalue in zip(pvalues, corrected_pvalues):\n",
    "    print(f\"The corrected value is {bonf_pvalue} and the individual pvalue multiplied by 3 is {pvalue*3}\")"
   ]
  },
  {
   "cell_type": "markdown",
   "id": "024a1585-e06c-43ad-b55c-6e7438d6e376",
   "metadata": {},
   "source": [
    "Yep, our understanding of the bonferroni method checks out!\n",
    "\n",
    "**Note:** the bonferroni correction is a conservative correction to the p-value,\n",
    "meaning it tends to make a larger correction than other correction methods.\n",
    "There are other correction methods implemented within statsmodels, which can be found \n",
    "[here](https://www.statsmodels.org/dev/generated/statsmodels.stats.multitest.multipletests.html)."
   ]
  },
  {
   "cell_type": "markdown",
   "id": "183ec558-16ea-417b-82ad-3bb2e13804ce",
   "metadata": {},
   "source": [
    "## ANOVA Example\n",
    "\n",
    "In this ANOVA example, we can continue using the MPG data from the previous example.\n",
    "Since we have already performed the pairwise tests, we expect that ANOVA should find a positive result (reject the null hypothesis).\n",
    "There are two common methods for calculating an ANOVA in `statsmodels` we will show both common methods here.\n",
    "Note that both methods produce the same statistic and p-value with the given options.\n",
    "\n",
    "Since we evaluated the test assumptions in the previous section, we will not repeat the disucssion here.\n",
    "\n",
    "### First Method for Calculating ANOVA\n",
    "\n",
    "The following show how to calculate an ANONA directly.\n",
    "Printing the ANOVA object, shows alot of information including \n",
    "\n",
    "**Note:** In this case, we are assuming that the varainces are equal between datasets i.e. `use_var='equal'`, which is NOT the default behavior of this function."
   ]
  },
  {
   "cell_type": "code",
   "execution_count": 21,
   "id": "d8eb514e-a7ef-473f-9108-bd74fcda86cc",
   "metadata": {},
   "outputs": [
    {
     "name": "stdout",
     "output_type": "stream",
     "text": [
      "statistic = 98.54179491075868\n",
      "pvalue = 1.915486418412936e-35\n",
      "df = (2.0, 395.0)\n",
      "df_num = 2.0\n",
      "df_denom = 395.0\n",
      "nobs_t = 398.0\n",
      "n_groups = 3\n",
      "means = [20.08353414 27.89142857 30.45063291]\n",
      "nobs = [249.  70.  79.]\n",
      "vars_ = [40.99702617 45.21122981 37.08868549]\n",
      "use_var = equal\n",
      "welch_correction = True\n",
      "tuple = (98.54179491075868, 1.915486418412936e-35)\n"
     ]
    }
   ],
   "source": [
    "anova = anova_oneway(data.mpg, data.origin, use_var='equal')\n",
    "print(anova)"
   ]
  },
  {
   "cell_type": "markdown",
   "id": "bfececfd-3a1c-47c4-9bcf-fdb3ff49f7b1",
   "metadata": {},
   "source": [
    "### Second Method for Calculating ANOVA\n",
    "\n",
    "In the following cell, a linear model is fit and an ANOVA is calculated from the model fit.\n",
    "Don't worry about the linear model fit, we will talk more about linear models in later chapters.\n",
    "For now, our interest is with the table in the next cell.\n",
    "This method provide a \"ANOVA table\", which is commonly used to calculate ANOVA by hand.\n",
    "\n",
    "**Note:** the first argument to `ols` is an \"R-style\" formula, which is a notation that comes from the R programming language.\n",
    "This is a notation that statsmodels adopted because many in the community were already familiar with the notation.\n",
    "More information on R-style formulas can be found [here](https://www.statsmodels.org/dev/example_formulas.html#categorical-variables).\n",
    "We can think of the formula used here as \"mpg explained by categories of origin\"."
   ]
  },
  {
   "cell_type": "code",
   "execution_count": 22,
   "id": "d2578645-28e8-4caf-9700-e0e55b512a17",
   "metadata": {},
   "outputs": [],
   "source": [
    "origin_lm = ols(\"mpg ~ C(origin)\", data=data).fit()\n",
    "anova = anova_lm(origin_lm)"
   ]
  },
  {
   "cell_type": "code",
   "execution_count": 23,
   "id": "7f94420c-fa55-471c-b3c3-ece6a4ea7bbd",
   "metadata": {},
   "outputs": [
    {
     "name": "stdout",
     "output_type": "stream",
     "text": [
      "              df        sum_sq      mean_sq          F        PR(>F)\n",
      "C(origin)    2.0   8072.820662  4036.410331  98.541795  1.915486e-35\n",
      "Residual   395.0  16179.754815    40.961405        NaN           NaN\n"
     ]
    }
   ],
   "source": [
    "print(anova)"
   ]
  },
  {
   "cell_type": "markdown",
   "id": "3e2309a1-9799-46e9-b6a5-fe5ddd85d1e9",
   "metadata": {},
   "source": [
    "## Second ANOVA Example\n",
    "\n",
    "In this next example, lets take a look at mean mpg by year.\n",
    "We should probably expect that the mean mpg will increase over the years.\n",
    "Though we are not making claims of causation.\n",
    "\n",
    "From the descriptive statistics below, it appears that the mean mpg increase over time."
   ]
  },
  {
   "cell_type": "code",
   "execution_count": 24,
   "id": "7b4d7244-d396-43db-98c6-5e75bd360d28",
   "metadata": {},
   "outputs": [
    {
     "data": {
      "text/html": [
       "<div>\n",
       "<style scoped>\n",
       "    .dataframe tbody tr th:only-of-type {\n",
       "        vertical-align: middle;\n",
       "    }\n",
       "\n",
       "    .dataframe tbody tr th {\n",
       "        vertical-align: top;\n",
       "    }\n",
       "\n",
       "    .dataframe thead th {\n",
       "        text-align: right;\n",
       "    }\n",
       "</style>\n",
       "<table border=\"1\" class=\"dataframe\">\n",
       "  <thead>\n",
       "    <tr style=\"text-align: right;\">\n",
       "      <th></th>\n",
       "      <th>mpg</th>\n",
       "    </tr>\n",
       "    <tr>\n",
       "      <th>model_year</th>\n",
       "      <th></th>\n",
       "    </tr>\n",
       "  </thead>\n",
       "  <tbody>\n",
       "    <tr>\n",
       "      <th>70</th>\n",
       "      <td>17.689655</td>\n",
       "    </tr>\n",
       "    <tr>\n",
       "      <th>71</th>\n",
       "      <td>21.250000</td>\n",
       "    </tr>\n",
       "    <tr>\n",
       "      <th>72</th>\n",
       "      <td>18.714286</td>\n",
       "    </tr>\n",
       "    <tr>\n",
       "      <th>73</th>\n",
       "      <td>17.100000</td>\n",
       "    </tr>\n",
       "    <tr>\n",
       "      <th>74</th>\n",
       "      <td>22.703704</td>\n",
       "    </tr>\n",
       "    <tr>\n",
       "      <th>75</th>\n",
       "      <td>20.266667</td>\n",
       "    </tr>\n",
       "    <tr>\n",
       "      <th>76</th>\n",
       "      <td>21.573529</td>\n",
       "    </tr>\n",
       "    <tr>\n",
       "      <th>77</th>\n",
       "      <td>23.375000</td>\n",
       "    </tr>\n",
       "    <tr>\n",
       "      <th>78</th>\n",
       "      <td>24.061111</td>\n",
       "    </tr>\n",
       "    <tr>\n",
       "      <th>79</th>\n",
       "      <td>25.093103</td>\n",
       "    </tr>\n",
       "    <tr>\n",
       "      <th>80</th>\n",
       "      <td>33.696552</td>\n",
       "    </tr>\n",
       "    <tr>\n",
       "      <th>81</th>\n",
       "      <td>30.334483</td>\n",
       "    </tr>\n",
       "    <tr>\n",
       "      <th>82</th>\n",
       "      <td>31.709677</td>\n",
       "    </tr>\n",
       "  </tbody>\n",
       "</table>\n",
       "</div>"
      ],
      "text/plain": [
       "                  mpg\n",
       "model_year           \n",
       "70          17.689655\n",
       "71          21.250000\n",
       "72          18.714286\n",
       "73          17.100000\n",
       "74          22.703704\n",
       "75          20.266667\n",
       "76          21.573529\n",
       "77          23.375000\n",
       "78          24.061111\n",
       "79          25.093103\n",
       "80          33.696552\n",
       "81          30.334483\n",
       "82          31.709677"
      ]
     },
     "execution_count": 24,
     "metadata": {},
     "output_type": "execute_result"
    }
   ],
   "source": [
    "data[['model_year','mpg']].groupby('model_year').mean()"
   ]
  },
  {
   "cell_type": "markdown",
   "id": "75d6769f-4db9-4e1e-833d-ebe840a1f01c",
   "metadata": {},
   "source": [
    "### Assumptions\n",
    "\n",
    "For the purposes of this example, we will assume that the sample are independantly selected (though it is unclear whether this is clear).\n",
    "Assessments of normality and equal varaince are shown below.\n",
    "\n",
    "#### Normality\n",
    "\n",
    "QQ plots for the mpg data for each year is shown below.\n",
    "Mostly the groups of data appear to be close to normally distributed.\n",
    "The mpg data for year 78 show some skewness and may present an issue.\n",
    "However, ANOVA is relatively rebost against violations of normality, so we will continue the analysis."
   ]
  },
  {
   "cell_type": "code",
   "execution_count": 25,
   "id": "ee825b49-9fc6-44d9-84f7-c97ffc94f308",
   "metadata": {},
   "outputs": [
    {
     "data": {
      "image/png": "[encoded data removed]",
      "text/plain": [
       "<Figure size 1152x864 with 16 Axes>"
      ]
     },
     "metadata": {
      "needs_background": "light"
     },
     "output_type": "display_data"
    }
   ],
   "source": [
    "model_years = data.model_year.unique()\n",
    "mpgs_by_year = {}\n",
    "for year in model_years:\n",
    "    mpgs_by_year[year] = data[data.model_year==year].mpg.values\n",
    "\n",
    "fig, axes = plt.subplots(ncols=4, nrows=4, sharex=True, figsize=(4*4, 4*3))\n",
    "flat_axes = np.ravel(axes)\n",
    "for year, ax in zip(list(mpgs_by_year.keys()), flat_axes):\n",
    "    sm.qqplot(mpgs_by_year[year], line='s', ax=ax)\n",
    "    ax.set_title(f'Year {year} QQ Plot')\n",
    "for idx in range(len(mpgs_by_year.keys()), len(flat_axes)):\n",
    "    flat_axes[idx].set_visible(False)\n",
    "plt.tight_layout()"
   ]
  },
  {
   "cell_type": "markdown",
   "id": "63c221c6-ae04-4a4c-8a5e-685dda5db4e2",
   "metadata": {},
   "source": [
    "#### Equal Variance\n",
    "\n",
    "Based on the plot below, the groups of data do appear to show differences in variances.\n",
    "We can account for this by using a correction for unqueal variances in the calculations."
   ]
  },
  {
   "cell_type": "code",
   "execution_count": 26,
   "id": "395e2e2e-ee87-4995-99ab-3f5b00ec97d7",
   "metadata": {},
   "outputs": [
    {
     "data": {
      "image/png": "[encoded data removed]",
      "text/plain": [
       "<Figure size 432x288 with 1 Axes>"
      ]
     },
     "metadata": {
      "needs_background": "light"
     },
     "output_type": "display_data"
    }
   ],
   "source": [
    "model_years = sorted(data.model_year.unique())\n",
    "mpg_lists = []\n",
    "for year in model_years:\n",
    "    mpg_lists.append(data[data.model_year==year].mpg.values)\n",
    "plt.boxplot(mpg_lists);"
   ]
  },
  {
   "cell_type": "markdown",
   "id": "e88183de-ef3a-43dc-837a-7c37ec0cf3f8",
   "metadata": {},
   "source": [
    "### ANOVA Results\n",
    "\n",
    "Calculating ANOVA for the data, results in a significant p-value (much less than 0.01).\n",
    "This means we reject the null hypothesis.\n",
    "\n",
    "The ANOVA only tells us that there are differences in the group means.\n",
    "It doesn't provide any indication of which group means are different.\n",
    "To answer that question we would need to perform pairwise tests as shown in the previous section."
   ]
  },
  {
   "cell_type": "code",
   "execution_count": 27,
   "id": "6432e63b-c2d3-43cc-a4e9-207f937cb1cf",
   "metadata": {},
   "outputs": [
    {
     "name": "stdout",
     "output_type": "stream",
     "text": [
      "statistic = 25.683891651163314\n",
      "pvalue = 2.64832663641238e-30\n",
      "df = (12.0, 147.02775456724348)\n",
      "df_num = 12.0\n",
      "df_denom = 147.02775456724348\n",
      "nobs_t = 398.0\n",
      "n_groups = 13\n",
      "means = [17.68965517 21.25       18.71428571 17.1        22.7037037  20.26666667\n",
      "     21.57352941 23.375      24.06111111 25.09310345 33.69655172 30.33448276\n",
      "     31.70967742]\n",
      "nobs = [29. 28. 28. 40. 27. 30. 34. 28. 36. 29. 29. 29. 31.]\n",
      "vars_ = [28.50738916 43.4537037  29.54497354 22.09230769 41.21652422 24.4091954\n",
      "     34.68382353 44.56712963 47.58301587 46.16137931 49.53320197 31.26448276\n",
      "     29.07956989]\n",
      "use_var = unequal\n",
      "welch_correction = True\n",
      "tuple = (25.683891651163314, 2.64832663641238e-30)\n"
     ]
    }
   ],
   "source": [
    "# note use_var='unequal' is the default of anova_oneway\n",
    "anova = anova_oneway(data.mpg, data.model_year, use_var='unequal')\n",
    "print(anova)"
   ]
  }
 ],
 "metadata": {
  "kernelspec": {
   "display_name": "Python 3 (ipykernel)",
   "language": "python",
   "name": "python3"
  },
  "language_info": {
   "codemirror_mode": {
    "name": "ipython",
    "version": 3
   },
   "file_extension": ".py",
   "mimetype": "text/x-python",
   "name": "python",
   "nbconvert_exporter": "python",
   "pygments_lexer": "ipython3",
   "version": "3.8.0"
  }
 },
 "nbformat": 4,
 "nbformat_minor": 5
}
