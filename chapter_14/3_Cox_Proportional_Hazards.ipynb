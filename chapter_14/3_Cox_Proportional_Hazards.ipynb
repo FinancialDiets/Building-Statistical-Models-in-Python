{
 "cells": [
  {
   "cell_type": "markdown",
   "id": "849fe082-e67f-4c2a-a1d9-2b09767028b8",
   "metadata": {},
   "source": [
    "# Cox Proportional Hazards Regression Model Process"
   ]
  },
  {
   "cell_type": "markdown",
   "id": "515190da-d78a-4537-8328-2a3b95ba7b7c",
   "metadata": {
    "tags": []
   },
   "source": [
    "## 1.\tIn our multivariate case, we have the null hypotheses for each variable that survival time is equal across each variable.\n",
    "We will use the Stanford heart transplant dataset which lists survival of the patients waiting for transplant in the Stanford heart transplant program. We will use age, year, surgery, and transplant status as predictors for the hazard ratio for stopping, which ends either in death or transplant."
   ]
  },
  {
   "cell_type": "code",
   "execution_count": 62,
   "id": "77d81355-05b1-4463-afdc-3a9e59ac6c3c",
   "metadata": {},
   "outputs": [
    {
     "data": {
      "text/plain": [
       "0    103\n",
       "1     69\n",
       "Name: transplant, dtype: int64"
      ]
     },
     "execution_count": 62,
     "metadata": {},
     "output_type": "execute_result"
    }
   ],
   "source": [
    "sm.datasets.get_rdataset('heart', package='survival').data['transplant'].value_counts()"
   ]
  },
  {
   "cell_type": "code",
   "execution_count": 7,
   "id": "7d887116-7664-4f42-b302-e2b06336f504",
   "metadata": {},
   "outputs": [],
   "source": [
    "import statsmodels.api as sm\n",
    "\n",
    "data = sm.datasets.get_rdataset('heart', package='survival').data\n",
    "### Survival of patients on the waiting list for the Stanford heart transplant program.\n",
    "# surgery:\tprior bypass surgery (prior bypass surgery 1=yes)\n",
    "# age:\tage (in years)\n",
    "# transplant:\ttransplant indicator (received transplant 1=yes)\n",
    "# start, stop, event:\tEntry and exit time and status for this interval of time\n",
    "# age:\tage-48 years\n",
    "# year:\tyear of acceptance (in years after 1 Nov 1967)\n",
    "# id:\tpatient id\n",
    "train_data = data.iloc[0:171]\n",
    "test_data = data.iloc[171:]\n",
    "\n",
    "exog=train_data[['age','year','surgery']]#train_data[['age','year','surgery','transplant']]\n",
    "endog=train_data['stop']"
   ]
  },
  {
   "cell_type": "code",
   "execution_count": 26,
   "id": "543fdb45-e9dd-4148-bfa2-da72dfec73cf",
   "metadata": {},
   "outputs": [
    {
     "data": {
      "text/html": [
       "<div>\n",
       "<style scoped>\n",
       "    .dataframe tbody tr th:only-of-type {\n",
       "        vertical-align: middle;\n",
       "    }\n",
       "\n",
       "    .dataframe tbody tr th {\n",
       "        vertical-align: top;\n",
       "    }\n",
       "\n",
       "    .dataframe thead th {\n",
       "        text-align: right;\n",
       "    }\n",
       "</style>\n",
       "<table border=\"1\" class=\"dataframe\">\n",
       "  <thead>\n",
       "    <tr style=\"text-align: right;\">\n",
       "      <th></th>\n",
       "      <th>start</th>\n",
       "      <th>stop</th>\n",
       "      <th>event</th>\n",
       "      <th>age</th>\n",
       "      <th>year</th>\n",
       "      <th>surgery</th>\n",
       "      <th>transplant</th>\n",
       "      <th>id</th>\n",
       "    </tr>\n",
       "  </thead>\n",
       "  <tbody>\n",
       "    <tr>\n",
       "      <th>0</th>\n",
       "      <td>0.0</td>\n",
       "      <td>50.0</td>\n",
       "      <td>1</td>\n",
       "      <td>-17.155373</td>\n",
       "      <td>0.123203</td>\n",
       "      <td>0</td>\n",
       "      <td>0</td>\n",
       "      <td>1</td>\n",
       "    </tr>\n",
       "    <tr>\n",
       "      <th>1</th>\n",
       "      <td>0.0</td>\n",
       "      <td>6.0</td>\n",
       "      <td>1</td>\n",
       "      <td>3.835729</td>\n",
       "      <td>0.254620</td>\n",
       "      <td>0</td>\n",
       "      <td>0</td>\n",
       "      <td>2</td>\n",
       "    </tr>\n",
       "    <tr>\n",
       "      <th>2</th>\n",
       "      <td>0.0</td>\n",
       "      <td>1.0</td>\n",
       "      <td>0</td>\n",
       "      <td>6.297057</td>\n",
       "      <td>0.265572</td>\n",
       "      <td>0</td>\n",
       "      <td>0</td>\n",
       "      <td>3</td>\n",
       "    </tr>\n",
       "    <tr>\n",
       "      <th>3</th>\n",
       "      <td>1.0</td>\n",
       "      <td>16.0</td>\n",
       "      <td>1</td>\n",
       "      <td>6.297057</td>\n",
       "      <td>0.265572</td>\n",
       "      <td>0</td>\n",
       "      <td>1</td>\n",
       "      <td>3</td>\n",
       "    </tr>\n",
       "    <tr>\n",
       "      <th>4</th>\n",
       "      <td>0.0</td>\n",
       "      <td>36.0</td>\n",
       "      <td>0</td>\n",
       "      <td>-7.737166</td>\n",
       "      <td>0.490075</td>\n",
       "      <td>0</td>\n",
       "      <td>0</td>\n",
       "      <td>4</td>\n",
       "    </tr>\n",
       "  </tbody>\n",
       "</table>\n",
       "</div>"
      ],
      "text/plain": [
       "   start  stop  event        age      year  surgery  transplant  id\n",
       "0    0.0  50.0      1 -17.155373  0.123203        0           0   1\n",
       "1    0.0   6.0      1   3.835729  0.254620        0           0   2\n",
       "2    0.0   1.0      0   6.297057  0.265572        0           0   3\n",
       "3    1.0  16.0      1   6.297057  0.265572        0           1   3\n",
       "4    0.0  36.0      0  -7.737166  0.490075        0           0   4"
      ]
     },
     "execution_count": 26,
     "metadata": {},
     "output_type": "execute_result"
    }
   ],
   "source": [
    "data.head()"
   ]
  },
  {
   "cell_type": "markdown",
   "id": "e6ebf4f5-b8c8-41bc-9614-d394fd901ccb",
   "metadata": {},
   "source": [
    "## 2. Estimate survival using the Kaplan-Meier Estimate, which will account for right-censoring in the data.\n",
    "Right-censoring occurs when the event variable is equal to one. We can see 171 enter at point 0. On the first day (stop=1), coresponding to index column \"event_at\" equal to 1, we have right-censoring for three patients. We observed the event take place for one patient (observed=1) and the other two patients were censored. Below, we show the corresponding data. Patient with id 45 stops, but restarts the same day, then survives until day 45. Same for patient id 3, which survives until day 16. Patient id = 15 does not re-enter for follow-up; we assume since they did not receive a transplant they did not survive. It's also noted patient 3 had a previous heart surgery so may have been at elevated risk for declined survival rate."
   ]
  },
  {
   "cell_type": "code",
   "execution_count": 46,
   "id": "1644eb7a-b933-4f22-976b-c99e80d35b69",
   "metadata": {},
   "outputs": [
    {
     "data": {
      "text/plain": [
       "1800.0"
      ]
     },
     "execution_count": 46,
     "metadata": {},
     "output_type": "execute_result"
    }
   ],
   "source": [
    "data['stop'].max()"
   ]
  },
  {
   "cell_type": "code",
   "execution_count": 84,
   "id": "9d58c1a4-1cb7-44f5-9876-243e39f5a7d0",
   "metadata": {},
   "outputs": [
    {
     "data": {
      "text/html": [
       "<div>\n",
       "<style scoped>\n",
       "    .dataframe tbody tr th:only-of-type {\n",
       "        vertical-align: middle;\n",
       "    }\n",
       "\n",
       "    .dataframe tbody tr th {\n",
       "        vertical-align: top;\n",
       "    }\n",
       "\n",
       "    .dataframe thead th {\n",
       "        text-align: right;\n",
       "    }\n",
       "</style>\n",
       "<table border=\"1\" class=\"dataframe\">\n",
       "  <thead>\n",
       "    <tr style=\"text-align: right;\">\n",
       "      <th></th>\n",
       "      <th>event_at</th>\n",
       "      <th>removed</th>\n",
       "      <th>observed</th>\n",
       "      <th>censored</th>\n",
       "      <th>entrance</th>\n",
       "      <th>at_risk</th>\n",
       "    </tr>\n",
       "  </thead>\n",
       "  <tbody>\n",
       "    <tr>\n",
       "      <th>0</th>\n",
       "      <td>0.0</td>\n",
       "      <td>0</td>\n",
       "      <td>0</td>\n",
       "      <td>0</td>\n",
       "      <td>172</td>\n",
       "      <td>172</td>\n",
       "    </tr>\n",
       "    <tr>\n",
       "      <th>1</th>\n",
       "      <td>1.0</td>\n",
       "      <td>3</td>\n",
       "      <td>1</td>\n",
       "      <td>2</td>\n",
       "      <td>0</td>\n",
       "      <td>172</td>\n",
       "    </tr>\n",
       "    <tr>\n",
       "      <th>2</th>\n",
       "      <td>2.0</td>\n",
       "      <td>6</td>\n",
       "      <td>3</td>\n",
       "      <td>3</td>\n",
       "      <td>0</td>\n",
       "      <td>169</td>\n",
       "    </tr>\n",
       "    <tr>\n",
       "      <th>3</th>\n",
       "      <td>3.0</td>\n",
       "      <td>6</td>\n",
       "      <td>3</td>\n",
       "      <td>3</td>\n",
       "      <td>0</td>\n",
       "      <td>163</td>\n",
       "    </tr>\n",
       "    <tr>\n",
       "      <th>4</th>\n",
       "      <td>4.0</td>\n",
       "      <td>2</td>\n",
       "      <td>0</td>\n",
       "      <td>2</td>\n",
       "      <td>0</td>\n",
       "      <td>157</td>\n",
       "    </tr>\n",
       "    <tr>\n",
       "      <th>...</th>\n",
       "      <td>...</td>\n",
       "      <td>...</td>\n",
       "      <td>...</td>\n",
       "      <td>...</td>\n",
       "      <td>...</td>\n",
       "      <td>...</td>\n",
       "    </tr>\n",
       "    <tr>\n",
       "      <th>107</th>\n",
       "      <td>1401.0</td>\n",
       "      <td>1</td>\n",
       "      <td>0</td>\n",
       "      <td>1</td>\n",
       "      <td>0</td>\n",
       "      <td>5</td>\n",
       "    </tr>\n",
       "    <tr>\n",
       "      <th>108</th>\n",
       "      <td>1408.0</td>\n",
       "      <td>1</td>\n",
       "      <td>0</td>\n",
       "      <td>1</td>\n",
       "      <td>0</td>\n",
       "      <td>4</td>\n",
       "    </tr>\n",
       "    <tr>\n",
       "      <th>109</th>\n",
       "      <td>1572.0</td>\n",
       "      <td>1</td>\n",
       "      <td>0</td>\n",
       "      <td>1</td>\n",
       "      <td>0</td>\n",
       "      <td>3</td>\n",
       "    </tr>\n",
       "    <tr>\n",
       "      <th>110</th>\n",
       "      <td>1587.0</td>\n",
       "      <td>1</td>\n",
       "      <td>0</td>\n",
       "      <td>1</td>\n",
       "      <td>0</td>\n",
       "      <td>2</td>\n",
       "    </tr>\n",
       "    <tr>\n",
       "      <th>111</th>\n",
       "      <td>1800.0</td>\n",
       "      <td>1</td>\n",
       "      <td>0</td>\n",
       "      <td>1</td>\n",
       "      <td>0</td>\n",
       "      <td>1</td>\n",
       "    </tr>\n",
       "  </tbody>\n",
       "</table>\n",
       "<p>112 rows × 6 columns</p>\n",
       "</div>"
      ],
      "text/plain": [
       "     event_at  removed  observed  censored  entrance  at_risk\n",
       "0         0.0        0         0         0       172      172\n",
       "1         1.0        3         1         2         0      172\n",
       "2         2.0        6         3         3         0      169\n",
       "3         3.0        6         3         3         0      163\n",
       "4         4.0        2         0         2         0      157\n",
       "..        ...      ...       ...       ...       ...      ...\n",
       "107    1401.0        1         0         1         0        5\n",
       "108    1408.0        1         0         1         0        4\n",
       "109    1572.0        1         0         1         0        3\n",
       "110    1587.0        1         0         1         0        2\n",
       "111    1800.0        1         0         1         0        1\n",
       "\n",
       "[112 rows x 6 columns]"
      ]
     },
     "execution_count": 84,
     "metadata": {},
     "output_type": "execute_result"
    }
   ],
   "source": [
    "from lifelines import KaplanMeierFitter\n",
    "import matplotlib.pyplot as plt\n",
    "\n",
    "KaplanMeierFitter = KaplanMeierFitter()\n",
    "# durations corresponds to survival time\n",
    "# event_observed corresponds to whether the transplant or death occured\n",
    "KaplanMeierFitter.fit(durations=data['stop'], event_observed=data['event'])\n",
    "KaplanMeierFitter.event_table.reset_index().to_clipboard()\n",
    "KaplanMeierFitter.event_table.reset_index()"
   ]
  },
  {
   "cell_type": "code",
   "execution_count": 16,
   "id": "51b21f33-b6c4-47ce-a5a4-8d64d17b5bdc",
   "metadata": {},
   "outputs": [
    {
     "data": {
      "text/html": [
       "<div>\n",
       "<style scoped>\n",
       "    .dataframe tbody tr th:only-of-type {\n",
       "        vertical-align: middle;\n",
       "    }\n",
       "\n",
       "    .dataframe tbody tr th {\n",
       "        vertical-align: top;\n",
       "    }\n",
       "\n",
       "    .dataframe thead th {\n",
       "        text-align: right;\n",
       "    }\n",
       "</style>\n",
       "<table border=\"1\" class=\"dataframe\">\n",
       "  <thead>\n",
       "    <tr style=\"text-align: right;\">\n",
       "      <th></th>\n",
       "      <th>start</th>\n",
       "      <th>stop</th>\n",
       "      <th>event</th>\n",
       "      <th>age</th>\n",
       "      <th>year</th>\n",
       "      <th>surgery</th>\n",
       "      <th>transplant</th>\n",
       "      <th>id</th>\n",
       "    </tr>\n",
       "  </thead>\n",
       "  <tbody>\n",
       "    <tr>\n",
       "      <th>2</th>\n",
       "      <td>0.0</td>\n",
       "      <td>1.0</td>\n",
       "      <td>0</td>\n",
       "      <td>6.297057</td>\n",
       "      <td>0.265572</td>\n",
       "      <td>0</td>\n",
       "      <td>0</td>\n",
       "      <td>3</td>\n",
       "    </tr>\n",
       "    <tr>\n",
       "      <th>21</th>\n",
       "      <td>0.0</td>\n",
       "      <td>1.0</td>\n",
       "      <td>1</td>\n",
       "      <td>5.815195</td>\n",
       "      <td>0.991102</td>\n",
       "      <td>1</td>\n",
       "      <td>0</td>\n",
       "      <td>15</td>\n",
       "    </tr>\n",
       "    <tr>\n",
       "      <th>70</th>\n",
       "      <td>0.0</td>\n",
       "      <td>1.0</td>\n",
       "      <td>0</td>\n",
       "      <td>-11.816564</td>\n",
       "      <td>3.263518</td>\n",
       "      <td>0</td>\n",
       "      <td>0</td>\n",
       "      <td>45</td>\n",
       "    </tr>\n",
       "  </tbody>\n",
       "</table>\n",
       "</div>"
      ],
      "text/plain": [
       "    start  stop  event        age      year  surgery  transplant  id\n",
       "2     0.0   1.0      0   6.297057  0.265572        0           0   3\n",
       "21    0.0   1.0      1   5.815195  0.991102        1           0  15\n",
       "70    0.0   1.0      0 -11.816564  3.263518        0           0  45"
      ]
     },
     "execution_count": 16,
     "metadata": {},
     "output_type": "execute_result"
    }
   ],
   "source": [
    "train_data.loc[train_data['stop']==1].to_clipboard(index=False)\n",
    "train_data.loc[train_data['stop']==1]"
   ]
  },
  {
   "cell_type": "code",
   "execution_count": 18,
   "id": "3f651ffb-6d60-4dba-83a3-891198b21bfe",
   "metadata": {},
   "outputs": [
    {
     "data": {
      "text/html": [
       "<div>\n",
       "<style scoped>\n",
       "    .dataframe tbody tr th:only-of-type {\n",
       "        vertical-align: middle;\n",
       "    }\n",
       "\n",
       "    .dataframe tbody tr th {\n",
       "        vertical-align: top;\n",
       "    }\n",
       "\n",
       "    .dataframe thead th {\n",
       "        text-align: right;\n",
       "    }\n",
       "</style>\n",
       "<table border=\"1\" class=\"dataframe\">\n",
       "  <thead>\n",
       "    <tr style=\"text-align: right;\">\n",
       "      <th></th>\n",
       "      <th>start</th>\n",
       "      <th>stop</th>\n",
       "      <th>event</th>\n",
       "      <th>age</th>\n",
       "      <th>year</th>\n",
       "      <th>surgery</th>\n",
       "      <th>transplant</th>\n",
       "      <th>id</th>\n",
       "    </tr>\n",
       "  </thead>\n",
       "  <tbody>\n",
       "    <tr>\n",
       "      <th>2</th>\n",
       "      <td>0.0</td>\n",
       "      <td>1.0</td>\n",
       "      <td>0</td>\n",
       "      <td>6.297057</td>\n",
       "      <td>0.265572</td>\n",
       "      <td>0</td>\n",
       "      <td>0</td>\n",
       "      <td>3</td>\n",
       "    </tr>\n",
       "    <tr>\n",
       "      <th>3</th>\n",
       "      <td>1.0</td>\n",
       "      <td>16.0</td>\n",
       "      <td>1</td>\n",
       "      <td>6.297057</td>\n",
       "      <td>0.265572</td>\n",
       "      <td>0</td>\n",
       "      <td>1</td>\n",
       "      <td>3</td>\n",
       "    </tr>\n",
       "    <tr>\n",
       "      <th>21</th>\n",
       "      <td>0.0</td>\n",
       "      <td>1.0</td>\n",
       "      <td>1</td>\n",
       "      <td>5.815195</td>\n",
       "      <td>0.991102</td>\n",
       "      <td>1</td>\n",
       "      <td>0</td>\n",
       "      <td>15</td>\n",
       "    </tr>\n",
       "    <tr>\n",
       "      <th>70</th>\n",
       "      <td>0.0</td>\n",
       "      <td>1.0</td>\n",
       "      <td>0</td>\n",
       "      <td>-11.816564</td>\n",
       "      <td>3.263518</td>\n",
       "      <td>0</td>\n",
       "      <td>0</td>\n",
       "      <td>45</td>\n",
       "    </tr>\n",
       "    <tr>\n",
       "      <th>71</th>\n",
       "      <td>1.0</td>\n",
       "      <td>45.0</td>\n",
       "      <td>1</td>\n",
       "      <td>-11.816564</td>\n",
       "      <td>3.263518</td>\n",
       "      <td>0</td>\n",
       "      <td>1</td>\n",
       "      <td>45</td>\n",
       "    </tr>\n",
       "  </tbody>\n",
       "</table>\n",
       "</div>"
      ],
      "text/plain": [
       "    start  stop  event        age      year  surgery  transplant  id\n",
       "2     0.0   1.0      0   6.297057  0.265572        0           0   3\n",
       "3     1.0  16.0      1   6.297057  0.265572        0           1   3\n",
       "21    0.0   1.0      1   5.815195  0.991102        1           0  15\n",
       "70    0.0   1.0      0 -11.816564  3.263518        0           0  45\n",
       "71    1.0  45.0      1 -11.816564  3.263518        0           1  45"
      ]
     },
     "execution_count": 18,
     "metadata": {},
     "output_type": "execute_result"
    }
   ],
   "source": [
    "train_data.loc[train_data['id'].isin([3, 15,45])].to_clipboard(index=False)\n",
    "train_data.loc[train_data['id'].isin([3, 15,45])]"
   ]
  },
  {
   "cell_type": "markdown",
   "id": "081a58f1-59fc-4cd2-a515-7f680192b1d3",
   "metadata": {},
   "source": [
    "### To verify patient 45 is the only patient stopped on day 45, we look to see the number who were removed on day 45, which is one patient. We can also see patient 45 received a heart transplant on day index 45."
   ]
  },
  {
   "cell_type": "code",
   "execution_count": 22,
   "id": "3f2f5e99-ea0e-40a0-aa23-a8ab84a2b54d",
   "metadata": {},
   "outputs": [
    {
     "data": {
      "text/html": [
       "<div>\n",
       "<style scoped>\n",
       "    .dataframe tbody tr th:only-of-type {\n",
       "        vertical-align: middle;\n",
       "    }\n",
       "\n",
       "    .dataframe tbody tr th {\n",
       "        vertical-align: top;\n",
       "    }\n",
       "\n",
       "    .dataframe thead th {\n",
       "        text-align: right;\n",
       "    }\n",
       "</style>\n",
       "<table border=\"1\" class=\"dataframe\">\n",
       "  <thead>\n",
       "    <tr style=\"text-align: right;\">\n",
       "      <th></th>\n",
       "      <th>start</th>\n",
       "      <th>stop</th>\n",
       "      <th>event</th>\n",
       "      <th>age</th>\n",
       "      <th>year</th>\n",
       "      <th>surgery</th>\n",
       "      <th>transplant</th>\n",
       "      <th>id</th>\n",
       "    </tr>\n",
       "  </thead>\n",
       "  <tbody>\n",
       "    <tr>\n",
       "      <th>71</th>\n",
       "      <td>1.0</td>\n",
       "      <td>45.0</td>\n",
       "      <td>1</td>\n",
       "      <td>-11.816564</td>\n",
       "      <td>3.263518</td>\n",
       "      <td>0</td>\n",
       "      <td>1</td>\n",
       "      <td>45</td>\n",
       "    </tr>\n",
       "  </tbody>\n",
       "</table>\n",
       "</div>"
      ],
      "text/plain": [
       "    start  stop  event        age      year  surgery  transplant  id\n",
       "71    1.0  45.0      1 -11.816564  3.263518        0           1  45"
      ]
     },
     "execution_count": 22,
     "metadata": {},
     "output_type": "execute_result"
    }
   ],
   "source": [
    "train_data.loc[train_data['stop']==45].to_clipboard()\n",
    "train_data.loc[train_data['stop']==45]"
   ]
  },
  {
   "cell_type": "code",
   "execution_count": 20,
   "id": "3fae4b6c-ee68-4cf5-8728-c80fbea4a450",
   "metadata": {},
   "outputs": [
    {
     "data": {
      "text/html": [
       "<div>\n",
       "<style scoped>\n",
       "    .dataframe tbody tr th:only-of-type {\n",
       "        vertical-align: middle;\n",
       "    }\n",
       "\n",
       "    .dataframe tbody tr th {\n",
       "        vertical-align: top;\n",
       "    }\n",
       "\n",
       "    .dataframe thead th {\n",
       "        text-align: right;\n",
       "    }\n",
       "</style>\n",
       "<table border=\"1\" class=\"dataframe\">\n",
       "  <thead>\n",
       "    <tr style=\"text-align: right;\">\n",
       "      <th></th>\n",
       "      <th>removed</th>\n",
       "      <th>observed</th>\n",
       "      <th>censored</th>\n",
       "      <th>entrance</th>\n",
       "      <th>at_risk</th>\n",
       "    </tr>\n",
       "    <tr>\n",
       "      <th>event_at</th>\n",
       "      <th></th>\n",
       "      <th></th>\n",
       "      <th></th>\n",
       "      <th></th>\n",
       "      <th></th>\n",
       "    </tr>\n",
       "  </thead>\n",
       "  <tbody>\n",
       "    <tr>\n",
       "      <th>45.0</th>\n",
       "      <td>1</td>\n",
       "      <td>1</td>\n",
       "      <td>0</td>\n",
       "      <td>0</td>\n",
       "      <td>87</td>\n",
       "    </tr>\n",
       "  </tbody>\n",
       "</table>\n",
       "</div>"
      ],
      "text/plain": [
       "          removed  observed  censored  entrance  at_risk\n",
       "event_at                                                \n",
       "45.0            1         1         0         0       87"
      ]
     },
     "execution_count": 20,
     "metadata": {},
     "output_type": "execute_result"
    }
   ],
   "source": [
    "KaplanMeierFitter.event_table.loc[KaplanMeierFitter.event_table.index==45.0].to_clipboard()\n",
    "KaplanMeierFitter.event_table.loc[KaplanMeierFitter.event_table.index==45.0]"
   ]
  },
  {
   "cell_type": "code",
   "execution_count": 86,
   "id": "1407931c-4d76-4ba6-9447-52a91306db5e",
   "metadata": {},
   "outputs": [],
   "source": [
    "from lifelines import KaplanMeierFitter\n",
    "import matplotlib.pyplot as plt\n",
    "\n",
    "\n",
    "KaplanMeierFitter_n = KaplanMeierFitter()\n",
    "KaplanMeierFitter_y = KaplanMeierFitter()\n",
    "\n",
    "KaplanMeierFitter_n.fit(durations=data.loc[data['transplant']==0]['stop'], event_observed=data.loc[data['transplant']==0]['event'], label='no transplant')\n",
    "KaplanMeierFitter_y.fit(durations=data.loc[data['transplant']==1]['stop'], event_observed=data.loc[data['transplant']==1]['event'], label='transplant');"
   ]
  },
  {
   "cell_type": "code",
   "execution_count": 88,
   "id": "78bff6bc-ed23-4bc6-a444-7c28a7489ab8",
   "metadata": {},
   "outputs": [
    {
     "data": {
      "image/png": "[encoded data removed]",
      "text/plain": [
       "<Figure size 432x288 with 1 Axes>"
      ]
     },
     "metadata": {
      "needs_background": "light"
     },
     "output_type": "display_data"
    }
   ],
   "source": [
    "KaplanMeierFitter_y.plot()\n",
    "KaplanMeierFitter_n.plot()\n",
    "plt.ylabel('Survival Probability')\n",
    "plt.xlabel('Days Elapsed')\n",
    "plt.title('Kaplan-Meier Survival Estimates')\n",
    "plt.savefig('KaplanMeierEstimation.png', dpi=300, facecolor='w', bbox_inches = \"tight\");"
   ]
  },
  {
   "cell_type": "code",
   "execution_count": 89,
   "id": "b0cacd8e-9a36-4d61-b643-1b34c4f02989",
   "metadata": {},
   "outputs": [
    {
     "name": "stdout",
     "output_type": "stream",
     "text": [
      "Non-Transplant Survival Probability at day 300:  0.3545098269168237\n",
      "Transplant Survival Probability at day 300:  0.4911598783770023\n"
     ]
    }
   ],
   "source": [
    "print('Non-Transplant Survival Probability at day 300: ', KaplanMeierFitter_n.predict(300))\n",
    "print('Transplant Survival Probability at day 300: ', KaplanMeierFitter_y.predict(300))"
   ]
  },
  {
   "cell_type": "markdown",
   "id": "ed2358f2-7a82-49c6-83ea-1bc2fe18e3d4",
   "metadata": {},
   "source": [
    "## 3. Log-rank test to determine if survivor curves are statistically different.\n",
    "At this step, we investigate if there is any statistical significance in survival between transplant and non-transplant groups. If there is no statistical significance, it would not be useful to understand the relationships between the covariates and their impacts on survival. We looked at contingency table analysis using the Chi-Square Test of Independence earlier in the book. This is essentially the log-rank test here, where we compare the survival distributions of the two groups (transplant vs. non-transplant). We use this approach because the data is right-censored, and thus right-skewed; as such, we are working with non-parametric distributions. The null hypothesis is that the hazard ratio between the two groups is equal to 1, which would mean they are equal in terms of survival or hazard risk."
   ]
  },
  {
   "cell_type": "code",
   "execution_count": 94,
   "id": "7b9c2a7e-c127-4700-abab-b24339e15705",
   "metadata": {},
   "outputs": [
    {
     "data": {
      "text/html": [
       "<div>\n",
       "<style scoped>\n",
       "    .dataframe tbody tr th:only-of-type {\n",
       "        vertical-align: middle;\n",
       "    }\n",
       "\n",
       "    .dataframe tbody tr th {\n",
       "        vertical-align: top;\n",
       "    }\n",
       "\n",
       "    .dataframe thead th {\n",
       "        text-align: right;\n",
       "    }\n",
       "</style>\n",
       "<table border=\"1\" class=\"dataframe\">\n",
       "  <tbody>\n",
       "    <tr>\n",
       "      <th>t_0</th>\n",
       "      <td>-1</td>\n",
       "    </tr>\n",
       "    <tr>\n",
       "      <th>null_distribution</th>\n",
       "      <td>chi squared</td>\n",
       "    </tr>\n",
       "    <tr>\n",
       "      <th>degrees_of_freedom</th>\n",
       "      <td>1</td>\n",
       "    </tr>\n",
       "    <tr>\n",
       "      <th>test_name</th>\n",
       "      <td>logrank_test</td>\n",
       "    </tr>\n",
       "  </tbody>\n",
       "</table>\n",
       "</div><table border=\"1\" class=\"dataframe\">\n",
       "  <thead>\n",
       "    <tr style=\"text-align: right;\">\n",
       "      <th></th>\n",
       "      <th>test_statistic</th>\n",
       "      <th>p</th>\n",
       "      <th>-log2(p)</th>\n",
       "    </tr>\n",
       "  </thead>\n",
       "  <tbody>\n",
       "    <tr>\n",
       "      <th>0</th>\n",
       "      <td>4.03</td>\n",
       "      <td>0.04</td>\n",
       "      <td>4.48</td>\n",
       "    </tr>\n",
       "  </tbody>\n",
       "</table>"
      ],
      "text/latex": [
       "\\begin{tabular}{lrrr}\n",
       " & test_statistic & p & -log2(p) \\\\\n",
       "0 & 4.03 & 0.04 & 4.48 \\\\\n",
       "\\end{tabular}\n"
      ],
      "text/plain": [
       "<lifelines.StatisticalResult: logrank_test>\n",
       "               t_0 = -1\n",
       " null_distribution = chi squared\n",
       "degrees_of_freedom = 1\n",
       "         test_name = logrank_test\n",
       "\n",
       "---\n",
       " test_statistic    p  -log2(p)\n",
       "           4.03 0.04      4.48"
      ]
     },
     "execution_count": 94,
     "metadata": {},
     "output_type": "execute_result"
    }
   ],
   "source": [
    "from lifelines.statistics import logrank_test\n",
    "\n",
    "lr_results = logrank_test(durations_A=data.loc[data['transplant']==0]['stop'],\n",
    "                          durations_B=data.loc[data['transplant']==1]['stop'],\n",
    "                          event_observed_A=data.loc[data['transplant']==0]['event'],\n",
    "                          event_observed_B=data.loc[data['transplant']==1]['event'])\n",
    "\n",
    "lr_results"
   ]
  },
  {
   "cell_type": "code",
   "execution_count": 99,
   "id": "49ec36ba-eac0-41d7-8ff5-f2481669b986",
   "metadata": {},
   "outputs": [
    {
     "name": "stdout",
     "output_type": "stream",
     "text": [
      "chi squared\n"
     ]
    }
   ],
   "source": [
    "print(lr_results.null_distribution)"
   ]
  },
  {
   "cell_type": "code",
   "execution_count": 105,
   "id": "bc27ab3d-91f4-484b-aced-4e04ee69db31",
   "metadata": {},
   "outputs": [
    {
     "data": {
      "text/html": [
       "<div>\n",
       "<style scoped>\n",
       "    .dataframe tbody tr th:only-of-type {\n",
       "        vertical-align: middle;\n",
       "    }\n",
       "\n",
       "    .dataframe tbody tr th {\n",
       "        vertical-align: top;\n",
       "    }\n",
       "\n",
       "    .dataframe thead th {\n",
       "        text-align: right;\n",
       "    }\n",
       "</style>\n",
       "<table border=\"1\" class=\"dataframe\">\n",
       "  <thead>\n",
       "    <tr style=\"text-align: right;\">\n",
       "      <th></th>\n",
       "      <th>test_statistic</th>\n",
       "      <th>p</th>\n",
       "      <th>-log2(p)</th>\n",
       "    </tr>\n",
       "  </thead>\n",
       "  <tbody>\n",
       "    <tr>\n",
       "      <th>0</th>\n",
       "      <td>4.02651</td>\n",
       "      <td>0.044791</td>\n",
       "      <td>4.480663</td>\n",
       "    </tr>\n",
       "  </tbody>\n",
       "</table>\n",
       "</div>"
      ],
      "text/plain": [
       "   test_statistic         p  -log2(p)\n",
       "0         4.02651  0.044791  4.480663"
      ]
     },
     "execution_count": 105,
     "metadata": {},
     "output_type": "execute_result"
    }
   ],
   "source": [
    "lr_results.summary.to_clipboard()\n",
    "lr_results.summary"
   ]
  },
  {
   "cell_type": "markdown",
   "id": "72d73ccc-a93d-49be-850e-3af84c9b12af",
   "metadata": {
    "tags": []
   },
   "source": [
    "## 4. Cox Proportional-Hazards Regression\n",
    "Here, we run the Cox Proportional Hazards test and analyze the p-values and confidence intervals for the terms included to identify if they have statistical significance with respect to influence over survival rate. We look at the hazard ratio to determine any effects they have provide.\n",
    "<br>\n",
    "<br>\n",
    "We can see three of our four terms are significant at the 5% level of significance for predicting survival; our surgery variable does not appear to be based on the p-value. The 95% confidence interval for surgery does not contain 0, however, which suggests statistical significance. The difference is because the p-value is calculated based on the test statistic with respect to the critical value, which are estimated using the log of the hazard ratio and the confidence interval is based on the hazard ratio itself. This discrepancy could mean the surgery variable is significant, but also that it may not be. Since we aren’t statistically certain, we should err on the side of caution and not consider it useful when predicting future survival.<br>\n",
    "<br>\n",
    "Note that exp(coef) corresponds to the hazard ratio and coef is the log of the hazard ratio. This follows the equation we provided earlier for the expected hazard value at base time, t.\n",
    "<br>\n",
    "<br>\n",
    "We can say, based on the hazard ratio (exp(coef)) of 1.03, that a single unit increase in age over age 48 results in an increase of hazard by a factor of 1.03, or 3%. With respect to our transplant variable, we can say with a 95% level of confidence that having the heart transplant decreased hazard by a factor of 0.54, which is equivalent to 46%."
   ]
  },
  {
   "cell_type": "code",
   "execution_count": 107,
   "id": "82ed1f3a-0e25-4e18-a752-971ee56e3e16",
   "metadata": {},
   "outputs": [
    {
     "data": {
      "text/html": [
       "<div>\n",
       "<style scoped>\n",
       "    .dataframe tbody tr th:only-of-type {\n",
       "        vertical-align: middle;\n",
       "    }\n",
       "\n",
       "    .dataframe tbody tr th {\n",
       "        vertical-align: top;\n",
       "    }\n",
       "\n",
       "    .dataframe thead th {\n",
       "        text-align: right;\n",
       "    }\n",
       "</style>\n",
       "<table border=\"1\" class=\"dataframe\">\n",
       "  <tbody>\n",
       "    <tr>\n",
       "      <th>model</th>\n",
       "      <td>lifelines.CoxPHFitter</td>\n",
       "    </tr>\n",
       "    <tr>\n",
       "      <th>duration col</th>\n",
       "      <td>'stop'</td>\n",
       "    </tr>\n",
       "    <tr>\n",
       "      <th>event col</th>\n",
       "      <td>'event'</td>\n",
       "    </tr>\n",
       "    <tr>\n",
       "      <th>baseline estimation</th>\n",
       "      <td>breslow</td>\n",
       "    </tr>\n",
       "    <tr>\n",
       "      <th>number of observations</th>\n",
       "      <td>171</td>\n",
       "    </tr>\n",
       "    <tr>\n",
       "      <th>number of events observed</th>\n",
       "      <td>74</td>\n",
       "    </tr>\n",
       "    <tr>\n",
       "      <th>partial log-likelihood</th>\n",
       "      <td>-298.47</td>\n",
       "    </tr>\n",
       "    <tr>\n",
       "      <th>time fit was run</th>\n",
       "      <td>2023-03-17 16:23:26 UTC</td>\n",
       "    </tr>\n",
       "  </tbody>\n",
       "</table>\n",
       "</div><table border=\"1\" class=\"dataframe\">\n",
       "  <thead>\n",
       "    <tr style=\"text-align: right;\">\n",
       "      <th style=\"min-width: 12px;\"></th>\n",
       "      <th style=\"min-width: 12px;\">coef</th>\n",
       "      <th style=\"min-width: 12px;\">exp(coef)</th>\n",
       "      <th style=\"min-width: 12px;\">se(coef)</th>\n",
       "      <th style=\"min-width: 12px;\">coef lower 95%</th>\n",
       "      <th style=\"min-width: 12px;\">coef upper 95%</th>\n",
       "      <th style=\"min-width: 12px;\">exp(coef) lower 95%</th>\n",
       "      <th style=\"min-width: 12px;\">exp(coef) upper 95%</th>\n",
       "      <th style=\"min-width: 12px;\">cmp to</th>\n",
       "      <th style=\"min-width: 12px;\">z</th>\n",
       "      <th style=\"min-width: 12px;\">p</th>\n",
       "      <th style=\"min-width: 12px;\">-log2(p)</th>\n",
       "    </tr>\n",
       "  </thead>\n",
       "  <tbody>\n",
       "    <tr>\n",
       "      <th>age</th>\n",
       "      <td>0.03</td>\n",
       "      <td>1.03</td>\n",
       "      <td>0.01</td>\n",
       "      <td>0.01</td>\n",
       "      <td>0.06</td>\n",
       "      <td>1.01</td>\n",
       "      <td>1.06</td>\n",
       "      <td>0.00</td>\n",
       "      <td>2.35</td>\n",
       "      <td>0.02</td>\n",
       "      <td>5.74</td>\n",
       "    </tr>\n",
       "    <tr>\n",
       "      <th>year</th>\n",
       "      <td>-0.16</td>\n",
       "      <td>0.85</td>\n",
       "      <td>0.07</td>\n",
       "      <td>-0.30</td>\n",
       "      <td>-0.02</td>\n",
       "      <td>0.74</td>\n",
       "      <td>0.98</td>\n",
       "      <td>0.00</td>\n",
       "      <td>-2.25</td>\n",
       "      <td>0.02</td>\n",
       "      <td>5.35</td>\n",
       "    </tr>\n",
       "    <tr>\n",
       "      <th>surgery</th>\n",
       "      <td>-0.64</td>\n",
       "      <td>0.53</td>\n",
       "      <td>0.37</td>\n",
       "      <td>-1.36</td>\n",
       "      <td>0.08</td>\n",
       "      <td>0.26</td>\n",
       "      <td>1.08</td>\n",
       "      <td>0.00</td>\n",
       "      <td>-1.74</td>\n",
       "      <td>0.08</td>\n",
       "      <td>3.62</td>\n",
       "    </tr>\n",
       "    <tr>\n",
       "      <th>transplant</th>\n",
       "      <td>-0.62</td>\n",
       "      <td>0.54</td>\n",
       "      <td>0.27</td>\n",
       "      <td>-1.15</td>\n",
       "      <td>-0.08</td>\n",
       "      <td>0.32</td>\n",
       "      <td>0.92</td>\n",
       "      <td>0.00</td>\n",
       "      <td>-2.26</td>\n",
       "      <td>0.02</td>\n",
       "      <td>5.41</td>\n",
       "    </tr>\n",
       "  </tbody>\n",
       "</table><br><div>\n",
       "<style scoped>\n",
       "    .dataframe tbody tr th:only-of-type {\n",
       "        vertical-align: middle;\n",
       "    }\n",
       "\n",
       "    .dataframe tbody tr th {\n",
       "        vertical-align: top;\n",
       "    }\n",
       "\n",
       "    .dataframe thead th {\n",
       "        text-align: right;\n",
       "    }\n",
       "</style>\n",
       "<table border=\"1\" class=\"dataframe\">\n",
       "  <tbody>\n",
       "    <tr>\n",
       "      <th>Concordance</th>\n",
       "      <td>0.67</td>\n",
       "    </tr>\n",
       "    <tr>\n",
       "      <th>Partial AIC</th>\n",
       "      <td>604.95</td>\n",
       "    </tr>\n",
       "    <tr>\n",
       "      <th>log-likelihood ratio test</th>\n",
       "      <td>21.22 on 4 df</td>\n",
       "    </tr>\n",
       "    <tr>\n",
       "      <th>-log2(p) of ll-ratio test</th>\n",
       "      <td>11.77</td>\n",
       "    </tr>\n",
       "  </tbody>\n",
       "</table>\n",
       "</div>"
      ],
      "text/latex": [
       "\\begin{tabular}{lrrrrrrrrrrr}\n",
       " & coef & exp(coef) & se(coef) & coef lower 95% & coef upper 95% & exp(coef) lower 95% & exp(coef) upper 95% & cmp to & z & p & -log2(p) \\\\\n",
       "covariate &  &  &  &  &  &  &  &  &  &  &  \\\\\n",
       "age & 0.03 & 1.03 & 0.01 & 0.01 & 0.06 & 1.01 & 1.06 & 0.00 & 2.35 & 0.02 & 5.74 \\\\\n",
       "year & -0.16 & 0.85 & 0.07 & -0.30 & -0.02 & 0.74 & 0.98 & 0.00 & -2.25 & 0.02 & 5.35 \\\\\n",
       "surgery & -0.64 & 0.53 & 0.37 & -1.36 & 0.08 & 0.26 & 1.08 & 0.00 & -1.74 & 0.08 & 3.62 \\\\\n",
       "transplant & -0.62 & 0.54 & 0.27 & -1.15 & -0.08 & 0.32 & 0.92 & 0.00 & -2.26 & 0.02 & 5.41 \\\\\n",
       "\\end{tabular}\n"
      ],
      "text/plain": [
       "<lifelines.CoxPHFitter: fitted with 171 total observations, 97 right-censored observations>\n",
       "             duration col = 'stop'\n",
       "                event col = 'event'\n",
       "      baseline estimation = breslow\n",
       "   number of observations = 171\n",
       "number of events observed = 74\n",
       "   partial log-likelihood = -298.47\n",
       "         time fit was run = 2023-03-17 16:23:26 UTC\n",
       "\n",
       "---\n",
       "             coef  exp(coef)   se(coef)   coef lower 95%   coef upper 95%  exp(coef) lower 95%  exp(coef) upper 95%\n",
       "covariate                                                                                                          \n",
       "age          0.03       1.03       0.01             0.01             0.06                 1.01                 1.06\n",
       "year        -0.16       0.85       0.07            -0.30            -0.02                 0.74                 0.98\n",
       "surgery     -0.64       0.53       0.37            -1.36             0.08                 0.26                 1.08\n",
       "transplant  -0.62       0.54       0.27            -1.15            -0.08                 0.32                 0.92\n",
       "\n",
       "             cmp to     z    p   -log2(p)\n",
       "covariate                                \n",
       "age            0.00  2.35 0.02       5.74\n",
       "year           0.00 -2.25 0.02       5.35\n",
       "surgery        0.00 -1.74 0.08       3.62\n",
       "transplant     0.00 -2.26 0.02       5.41\n",
       "---\n",
       "Concordance = 0.67\n",
       "Partial AIC = 604.95\n",
       "log-likelihood ratio test = 21.22 on 4 df\n",
       "-log2(p) of ll-ratio test = 11.77"
      ]
     },
     "metadata": {},
     "output_type": "display_data"
    }
   ],
   "source": [
    "from lifelines import CoxPHFitter\n",
    "\n",
    "CoxPHFitter = CoxPHFitter()\n",
    "\n",
    "CoxPHFitter.fit(df=train_data[['age','year','surgery','transplant','stop','event']], duration_col='stop', event_col='event')\n",
    "CoxPHFitter.print_summary()"
   ]
  },
  {
   "cell_type": "markdown",
   "id": "3c4606a9-4624-4ec9-8690-6766631bd373",
   "metadata": {},
   "source": [
    "Below, we can see age, which applies only a 3% increase in hazard does not explain much variance in the results. The age range spans roughly 9 years throuh 64 years of age. Without other covariates, we cannot say exactly why this might be, but including more covariates could prove helpful in understanding this variable more. Of the significant variables, transplant has notably the largest impact on survival outcomes. "
   ]
  },
  {
   "cell_type": "code",
   "execution_count": 121,
   "id": "7fd20c52-455b-4b1e-a6c2-8b5200923035",
   "metadata": {},
   "outputs": [
    {
     "data": {
      "image/png": "[encoded data removed]",
      "text/plain": [
       "<Figure size 432x288 with 1 Axes>"
      ]
     },
     "metadata": {
      "needs_background": "light"
     },
     "output_type": "display_data"
    }
   ],
   "source": [
    "plt.title('Coefficients within Confidence Intervals')\n",
    "CoxPHFitter.plot()\n",
    "plt.savefig('Coefficients.png', dpi=300, facecolor='w', bbox_inches = \"tight\");"
   ]
  },
  {
   "cell_type": "markdown",
   "id": "73c1fade-10fe-4353-b2cf-fa94cdfdbdba",
   "metadata": {},
   "source": [
    "We can see the assumption of a constant hazard ratio between all patients in the survival function plot in Figure 14.x, below. This is why it is important to prevent informative censoring. Let's assume this assumption is met."
   ]
  },
  {
   "cell_type": "code",
   "execution_count": 121,
   "id": "ad6ad126-0ffc-4e4b-a6d8-72d96750bf64",
   "metadata": {},
   "outputs": [
    {
     "data": {
      "image/png": "[encoded data removed]",
      "text/plain": [
       "<Figure size 432x288 with 1 Axes>"
      ]
     },
     "metadata": {
      "needs_background": "light"
     },
     "output_type": "display_data"
    }
   ],
   "source": [
    "CoxPHFitter.predict_survival_function(train_data[['age','year','surgery','transplant']]).plot()\n",
    "plt.xlabel('Survival Time')\n",
    "plt.ylabel('Survival Probability')\n",
    "plt.title('Survival Function for All Patients')\n",
    "plt.legend().set_visible(False)\n",
    "plt.savefig('SurvivalFunctionAll.png', dpi=300, facecolor='w', bbox_inches = \"tight\");"
   ]
  },
  {
   "cell_type": "markdown",
   "id": "3afab031-4cfa-4ac9-b240-2cc893c9b950",
   "metadata": {},
   "source": [
    "We can again see this with the survival function of the average in the next figure, Figure 14.x as well as for our test (holdout) patient in the following figure, Figure 14.x as well."
   ]
  },
  {
   "cell_type": "code",
   "execution_count": 122,
   "id": "bfbaefe0-f7aa-4cb2-a2e4-ec3cf49d8afb",
   "metadata": {},
   "outputs": [
    {
     "data": {
      "image/png": "[encoded data removed]",
      "text/plain": [
       "<Figure size 432x288 with 1 Axes>"
      ]
     },
     "metadata": {
      "needs_background": "light"
     },
     "output_type": "display_data"
    }
   ],
   "source": [
    "CoxPHFitter.predict_survival_function(train_data[['age','year','surgery','transplant']].mean()).plot()\n",
    "plt.xlabel('Survival Time')\n",
    "plt.ylabel('Survival Probability')\n",
    "plt.title('Mean Survival Function')\n",
    "plt.legend().set_visible(False)\n",
    "plt.savefig('SurvivalFunctionMean.png', dpi=300, facecolor='w', bbox_inches = \"tight\");"
   ]
  },
  {
   "cell_type": "markdown",
   "id": "eb5ce743-8eab-43ff-8d68-09aa7d0f6304",
   "metadata": {},
   "source": [
    "## 5. Predict using Cox Proportional Hazards\n",
    "Under the assumption the requirements for the Cox Proportional Hazards model can be assumed met, we can then use our variables for our holdout data to predict the survival function for that patient, patient 171, below, in Figure 14.x."
   ]
  },
  {
   "cell_type": "code",
   "execution_count": 123,
   "id": "839532d8-262b-44b7-a00a-9a97c6c4e8ce",
   "metadata": {},
   "outputs": [
    {
     "data": {
      "image/png": "[encoded data removed]",
      "text/plain": [
       "<Figure size 432x288 with 1 Axes>"
      ]
     },
     "metadata": {
      "needs_background": "light"
     },
     "output_type": "display_data"
    }
   ],
   "source": [
    "CoxPHFitter.predict_survival_function(test_data[['age','year','surgery','transplant']]).plot()\n",
    "plt.xlabel('Survival Time')\n",
    "plt.ylabel('Survival Probability')\n",
    "plt.title('Survival Function for Holdout')\n",
    "plt.savefig('SurvivalFunctionHoldout.png', dpi=300, facecolor='w', bbox_inches = \"tight\");"
   ]
  },
  {
   "cell_type": "code",
   "execution_count": 119,
   "id": "c0b318f4-6eae-4199-a550-417975412e91",
   "metadata": {},
   "outputs": [
    {
     "data": {
      "text/html": [
       "<div>\n",
       "<style scoped>\n",
       "    .dataframe tbody tr th:only-of-type {\n",
       "        vertical-align: middle;\n",
       "    }\n",
       "\n",
       "    .dataframe tbody tr th {\n",
       "        vertical-align: top;\n",
       "    }\n",
       "\n",
       "    .dataframe thead th {\n",
       "        text-align: right;\n",
       "    }\n",
       "</style>\n",
       "<table border=\"1\" class=\"dataframe\">\n",
       "  <thead>\n",
       "    <tr style=\"text-align: right;\">\n",
       "      <th></th>\n",
       "      <th>171</th>\n",
       "    </tr>\n",
       "  </thead>\n",
       "  <tbody>\n",
       "    <tr>\n",
       "      <th>1.0</th>\n",
       "      <td>0.990153</td>\n",
       "    </tr>\n",
       "    <tr>\n",
       "      <th>2.0</th>\n",
       "      <td>0.960369</td>\n",
       "    </tr>\n",
       "    <tr>\n",
       "      <th>3.0</th>\n",
       "      <td>0.930393</td>\n",
       "    </tr>\n",
       "    <tr>\n",
       "      <th>4.0</th>\n",
       "      <td>0.930393</td>\n",
       "    </tr>\n",
       "    <tr>\n",
       "      <th>4.5</th>\n",
       "      <td>0.930393</td>\n",
       "    </tr>\n",
       "    <tr>\n",
       "      <th>...</th>\n",
       "      <td>...</td>\n",
       "    </tr>\n",
       "    <tr>\n",
       "      <th>1401.0</th>\n",
       "      <td>0.016530</td>\n",
       "    </tr>\n",
       "    <tr>\n",
       "      <th>1408.0</th>\n",
       "      <td>0.016530</td>\n",
       "    </tr>\n",
       "    <tr>\n",
       "      <th>1572.0</th>\n",
       "      <td>0.016530</td>\n",
       "    </tr>\n",
       "    <tr>\n",
       "      <th>1587.0</th>\n",
       "      <td>0.016530</td>\n",
       "    </tr>\n",
       "    <tr>\n",
       "      <th>1800.0</th>\n",
       "      <td>0.016530</td>\n",
       "    </tr>\n",
       "  </tbody>\n",
       "</table>\n",
       "<p>111 rows × 1 columns</p>\n",
       "</div>"
      ],
      "text/plain": [
       "             171\n",
       "1.0     0.990153\n",
       "2.0     0.960369\n",
       "3.0     0.930393\n",
       "4.0     0.930393\n",
       "4.5     0.930393\n",
       "...          ...\n",
       "1401.0  0.016530\n",
       "1408.0  0.016530\n",
       "1572.0  0.016530\n",
       "1587.0  0.016530\n",
       "1800.0  0.016530\n",
       "\n",
       "[111 rows x 1 columns]"
      ]
     },
     "execution_count": 119,
     "metadata": {},
     "output_type": "execute_result"
    }
   ],
   "source": [
    "CoxPHFitter.predict_survival_function(test_data[['age','year','surgery','transplant','stop','event']])"
   ]
  }
 ],
 "metadata": {
  "kernelspec": {
   "display_name": "Python 3",
   "language": "python",
   "name": "python3"
  },
  "language_info": {
   "codemirror_mode": {
    "name": "ipython",
    "version": 3
   },
   "file_extension": ".py",
   "mimetype": "text/x-python",
   "name": "python",
   "nbconvert_exporter": "python",
   "pygments_lexer": "ipython3",
   "version": "3.8.3"
  }
 },
 "nbformat": 4,
 "nbformat_minor": 5
}
