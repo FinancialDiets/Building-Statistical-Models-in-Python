{
 "cells": [
  {
   "cell_type": "code",
   "execution_count": 1,
   "id": "141da8e1-6b87-4523-9a9e-7ff46c7368df",
   "metadata": {},
   "outputs": [],
   "source": [
    "import pandas as pd\n",
    "import matplotlib.pyplot as plt\n",
    "from statsmodels.distributions.empirical_distribution import ECDF\n",
    "\n",
    "from lifelines import datasets\n",
    "from lifelines import plotting\n",
    "from lifelines.fitters.kaplan_meier_fitter import KaplanMeierFitter"
   ]
  },
  {
   "cell_type": "markdown",
   "id": "246c0a31-5e85-41da-8034-e701dc9de614",
   "metadata": {},
   "source": [
    "## Working with Lifelines"
   ]
  },
  {
   "cell_type": "code",
   "execution_count": 2,
   "id": "030e9db6-e055-4416-94b9-8b6ad412e5a6",
   "metadata": {},
   "outputs": [],
   "source": [
    "data = datasets.load_larynx()"
   ]
  },
  {
   "cell_type": "code",
   "execution_count": 3,
   "id": "a548578e-e501-4ef2-b64f-8ada68710588",
   "metadata": {},
   "outputs": [
    {
     "data": {
      "text/html": [
       "<div>\n",
       "<style scoped>\n",
       "    .dataframe tbody tr th:only-of-type {\n",
       "        vertical-align: middle;\n",
       "    }\n",
       "\n",
       "    .dataframe tbody tr th {\n",
       "        vertical-align: top;\n",
       "    }\n",
       "\n",
       "    .dataframe thead th {\n",
       "        text-align: right;\n",
       "    }\n",
       "</style>\n",
       "<table border=\"1\" class=\"dataframe\">\n",
       "  <thead>\n",
       "    <tr style=\"text-align: right;\">\n",
       "      <th></th>\n",
       "      <th>time</th>\n",
       "      <th>age</th>\n",
       "      <th>death</th>\n",
       "      <th>Stage_II</th>\n",
       "      <th>Stage_III</th>\n",
       "      <th>Stage_IV</th>\n",
       "    </tr>\n",
       "  </thead>\n",
       "  <tbody>\n",
       "    <tr>\n",
       "      <th>0</th>\n",
       "      <td>0.6</td>\n",
       "      <td>77</td>\n",
       "      <td>1</td>\n",
       "      <td>0</td>\n",
       "      <td>0</td>\n",
       "      <td>0</td>\n",
       "    </tr>\n",
       "    <tr>\n",
       "      <th>1</th>\n",
       "      <td>1.3</td>\n",
       "      <td>53</td>\n",
       "      <td>1</td>\n",
       "      <td>0</td>\n",
       "      <td>0</td>\n",
       "      <td>0</td>\n",
       "    </tr>\n",
       "    <tr>\n",
       "      <th>2</th>\n",
       "      <td>2.4</td>\n",
       "      <td>45</td>\n",
       "      <td>1</td>\n",
       "      <td>0</td>\n",
       "      <td>0</td>\n",
       "      <td>0</td>\n",
       "    </tr>\n",
       "    <tr>\n",
       "      <th>3</th>\n",
       "      <td>2.5</td>\n",
       "      <td>57</td>\n",
       "      <td>0</td>\n",
       "      <td>0</td>\n",
       "      <td>0</td>\n",
       "      <td>0</td>\n",
       "    </tr>\n",
       "    <tr>\n",
       "      <th>4</th>\n",
       "      <td>3.2</td>\n",
       "      <td>58</td>\n",
       "      <td>1</td>\n",
       "      <td>0</td>\n",
       "      <td>0</td>\n",
       "      <td>0</td>\n",
       "    </tr>\n",
       "  </tbody>\n",
       "</table>\n",
       "</div>"
      ],
      "text/plain": [
       "   time  age  death  Stage_II  Stage_III  Stage_IV\n",
       "0   0.6   77      1         0          0         0\n",
       "1   1.3   53      1         0          0         0\n",
       "2   2.4   45      1         0          0         0\n",
       "3   2.5   57      0         0          0         0\n",
       "4   3.2   58      1         0          0         0"
      ]
     },
     "execution_count": 3,
     "metadata": {},
     "output_type": "execute_result"
    }
   ],
   "source": [
    "data.head()"
   ]
  },
  {
   "cell_type": "code",
   "execution_count": 4,
   "id": "e4cc6095-55fb-4354-b406-385e1ef9720f",
   "metadata": {},
   "outputs": [
    {
     "data": {
      "text/plain": [
       "(array([12.,  5.,  8.,  5., 12.,  9.,  8.,  3.,  9.,  6.,  5.,  3.,  0.,\n",
       "         3.,  2.]),\n",
       " array([ 0.1       ,  0.80666667,  1.51333333,  2.22      ,  2.92666667,\n",
       "         3.63333333,  4.34      ,  5.04666667,  5.75333333,  6.46      ,\n",
       "         7.16666667,  7.87333333,  8.58      ,  9.28666667,  9.99333333,\n",
       "        10.7       ]),\n",
       " <BarContainer object of 15 artists>)"
      ]
     },
     "execution_count": 4,
     "metadata": {},
     "output_type": "execute_result"
    },
    {
     "data": {
      "image/png": "[encoded data removed]",
      "text/plain": [
       "<Figure size 432x288 with 1 Axes>"
      ]
     },
     "metadata": {
      "needs_background": "light"
     },
     "output_type": "display_data"
    }
   ],
   "source": [
    "plt.hist(data.time, bins = 15)"
   ]
  },
  {
   "cell_type": "code",
   "execution_count": 5,
   "id": "631e2561-184e-4546-8503-93d492ce9452",
   "metadata": {},
   "outputs": [
    {
     "data": {
      "text/plain": [
       "(array([ 2.,  1.,  2.,  5.,  6.,  5.,  1.,  5.,  5.,  6.,  8.,  5., 11.,\n",
       "         6.,  5.,  3.,  7.,  3.,  1.,  3.]),\n",
       " array([41.  , 43.25, 45.5 , 47.75, 50.  , 52.25, 54.5 , 56.75, 59.  ,\n",
       "        61.25, 63.5 , 65.75, 68.  , 70.25, 72.5 , 74.75, 77.  , 79.25,\n",
       "        81.5 , 83.75, 86.  ]),\n",
       " <BarContainer object of 20 artists>)"
      ]
     },
     "execution_count": 5,
     "metadata": {},
     "output_type": "execute_result"
    },
    {
     "data": {
      "image/png": "[encoded data removed]",
      "text/plain": [
       "<Figure size 432x288 with 1 Axes>"
      ]
     },
     "metadata": {
      "needs_background": "light"
     },
     "output_type": "display_data"
    }
   ],
   "source": [
    "plt.hist(data.age, bins=20)"
   ]
  },
  {
   "cell_type": "code",
   "execution_count": 18,
   "id": "902a7012-c82e-4c99-96ad-3c9c2f905272",
   "metadata": {},
   "outputs": [
    {
     "data": {
      "text/plain": [
       "45"
      ]
     },
     "execution_count": 18,
     "metadata": {},
     "output_type": "execute_result"
    }
   ],
   "source": [
    "data.age.max() - data.age.min()"
   ]
  },
  {
   "cell_type": "code",
   "execution_count": 6,
   "id": "b6b98706-0e4e-4289-8246-a4eab479dad7",
   "metadata": {},
   "outputs": [
    {
     "data": {
      "text/plain": [
       "Stage_II     17\n",
       "Stage_III    27\n",
       "Stage_IV     13\n",
       "dtype: int64"
      ]
     },
     "execution_count": 6,
     "metadata": {},
     "output_type": "execute_result"
    }
   ],
   "source": [
    "stages = data.columns[3:]\n",
    "data[stages].sum()"
   ]
  },
  {
   "cell_type": "code",
   "execution_count": 7,
   "id": "592302b9-e405-46fc-8cd0-d0bafdcf0486",
   "metadata": {},
   "outputs": [
    {
     "data": {
      "image/png": "[encoded data removed]",
      "text/plain": [
       "<Figure size 432x288 with 1 Axes>"
      ]
     },
     "metadata": {
      "needs_background": "light"
     },
     "output_type": "display_data"
    }
   ],
   "source": [
    "plotting.plot_lifetimes(data.time.sample(20));"
   ]
  },
  {
   "cell_type": "code",
   "execution_count": 8,
   "id": "267315ec-1f65-4810-83ad-bc7e2774dadc",
   "metadata": {},
   "outputs": [
    {
     "data": {
      "text/plain": [
       "<lifelines.KaplanMeierFitter:\"KM_estimate\", fitted with 90 total observations, 40 right-censored observations>"
      ]
     },
     "execution_count": 8,
     "metadata": {},
     "output_type": "execute_result"
    }
   ],
   "source": [
    "kmf = KaplanMeierFitter()\n",
    "kmf.fit(data.time, data.death)"
   ]
  },
  {
   "cell_type": "code",
   "execution_count": 9,
   "id": "294b51a4-7b60-4946-a417-a6641e24763f",
   "metadata": {},
   "outputs": [
    {
     "data": {
      "text/html": [
       "<div>\n",
       "<style scoped>\n",
       "    .dataframe tbody tr th:only-of-type {\n",
       "        vertical-align: middle;\n",
       "    }\n",
       "\n",
       "    .dataframe tbody tr th {\n",
       "        vertical-align: top;\n",
       "    }\n",
       "\n",
       "    .dataframe thead th {\n",
       "        text-align: right;\n",
       "    }\n",
       "</style>\n",
       "<table border=\"1\" class=\"dataframe\">\n",
       "  <thead>\n",
       "    <tr style=\"text-align: right;\">\n",
       "      <th></th>\n",
       "      <th>KM_estimate</th>\n",
       "    </tr>\n",
       "    <tr>\n",
       "      <th>timeline</th>\n",
       "      <th></th>\n",
       "    </tr>\n",
       "  </thead>\n",
       "  <tbody>\n",
       "    <tr>\n",
       "      <th>0.0</th>\n",
       "      <td>1.000000</td>\n",
       "    </tr>\n",
       "    <tr>\n",
       "      <th>0.1</th>\n",
       "      <td>0.988889</td>\n",
       "    </tr>\n",
       "    <tr>\n",
       "      <th>0.2</th>\n",
       "      <td>0.977778</td>\n",
       "    </tr>\n",
       "    <tr>\n",
       "      <th>0.3</th>\n",
       "      <td>0.944444</td>\n",
       "    </tr>\n",
       "    <tr>\n",
       "      <th>0.4</th>\n",
       "      <td>0.933333</td>\n",
       "    </tr>\n",
       "  </tbody>\n",
       "</table>\n",
       "</div>"
      ],
      "text/plain": [
       "          KM_estimate\n",
       "timeline             \n",
       "0.0          1.000000\n",
       "0.1          0.988889\n",
       "0.2          0.977778\n",
       "0.3          0.944444\n",
       "0.4          0.933333"
      ]
     },
     "execution_count": 9,
     "metadata": {},
     "output_type": "execute_result"
    }
   ],
   "source": [
    "kmf.survival_function_.head()"
   ]
  },
  {
   "cell_type": "code",
   "execution_count": 11,
   "id": "8e61c79c-deb1-4588-a290-26df2f7a3222",
   "metadata": {},
   "outputs": [
    {
     "data": {
      "image/png": "[encoded data removed]",
      "text/plain": [
       "<Figure size 432x288 with 1 Axes>"
      ]
     },
     "metadata": {
      "needs_background": "light"
     },
     "output_type": "display_data"
    }
   ],
   "source": [
    "fig, ax = plt.subplots(1)\n",
    "kmf.survival_function_.plot(ax=ax)\n",
    "ci = kmf.confidence_interval_survival_function_\n",
    "index = ci.index\n",
    "ci_low, ci_high = ci.values[:, 0], ci.values[:, 1]\n",
    "ax.fill_between(index, ci_low, ci_high, color='gray', alpha=0.3)\n",
    "#fig.savefig(\"kmf_all.png\", dpi=300)"
   ]
  },
  {
   "cell_type": "markdown",
   "id": "5ec6406f-4afa-4e4a-ad59-7e87d57fa415",
   "metadata": {},
   "source": [
    "## Age Group"
   ]
  },
  {
   "cell_type": "code",
   "execution_count": 25,
   "id": "4fb3f95e-2807-4586-92be-a1c7f3015134",
   "metadata": {},
   "outputs": [],
   "source": [
    "split = 65\n",
    "data['older'] = data.age.apply(lambda x: 1 if x >= split else 0)\n",
    "data['younger'] = data.age.apply(lambda x: 1 if x < split else 0)"
   ]
  },
  {
   "cell_type": "code",
   "execution_count": 26,
   "id": "c99f123c-bc42-48ae-990d-976f3a050c3c",
   "metadata": {},
   "outputs": [
    {
     "data": {
      "text/plain": [
       "True"
      ]
     },
     "execution_count": 26,
     "metadata": {},
     "output_type": "execute_result"
    }
   ],
   "source": [
    "# verify that the number of older and younger matches the number\n",
    "# of records in the datasets\n",
    "data[['older', 'younger']].sum().sum() == data.shape[0]"
   ]
  },
  {
   "cell_type": "code",
   "execution_count": 27,
   "id": "86e973b4-c6e2-4fd8-839a-71540ccbb676",
   "metadata": {},
   "outputs": [],
   "source": [
    "older = data[data.older == 1]\n",
    "younger = data[data.younger == 1]"
   ]
  },
  {
   "cell_type": "code",
   "execution_count": 28,
   "id": "2b2e0279-62a5-4888-9693-6eda5153dbea",
   "metadata": {},
   "outputs": [],
   "source": [
    "older_kmf = KaplanMeierFitter().fit(older.time, older.death)\n",
    "yonger_kmf = KaplanMeierFitter().fit(younger.time, younger.death)"
   ]
  },
  {
   "cell_type": "code",
   "execution_count": 29,
   "id": "a45ab486-5073-4588-abef-cfb157596173",
   "metadata": {},
   "outputs": [],
   "source": [
    "def plot_survival(ax, fitter, with_ci=True, label=None):\n",
    "    \"\"\"Plot a survival function from a fitter\"\"\"\n",
    "    sf = fitter.survival_function_\n",
    "    ax.plot(sf.index, sf.values.flatten(), label=label)\n",
    "    if with_ci:\n",
    "        ci = fitter.confidence_interval_survival_function_\n",
    "        index = ci.index\n",
    "        ci_low, ci_high = ci.values[:, 0], ci.values[:, 1]\n",
    "        ax.fill_between(index, ci_low, ci_high, color='gray', alpha=0.3)"
   ]
  },
  {
   "cell_type": "code",
   "execution_count": 31,
   "id": "20593552-f209-498b-86a3-b92f07e9a0ed",
   "metadata": {},
   "outputs": [
    {
     "data": {
      "image/png": "[encoded data removed]",
      "text/plain": [
       "<Figure size 432x288 with 1 Axes>"
      ]
     },
     "metadata": {
      "needs_background": "light"
     },
     "output_type": "display_data"
    }
   ],
   "source": [
    "fig, ax = plt.subplots(1)\n",
    "plot_survival(ax, older_kmf, label='older')\n",
    "plot_survival(ax, yonger_kmf, label='younger')\n",
    "ax.legend();\n",
    "#fig.savefig(\"kmf_older_younger.png\", dpi=300)"
   ]
  },
  {
   "cell_type": "code",
   "execution_count": 37,
   "id": "77e4fbf9-328b-41a2-8050-94586df88edc",
   "metadata": {},
   "outputs": [],
   "source": [
    "data = data.drop(['older','younger'], axis=1)"
   ]
  },
  {
   "cell_type": "markdown",
   "id": "8d312a2e-386b-4f61-b644-219b3a34d637",
   "metadata": {},
   "source": [
    "## Stage"
   ]
  },
  {
   "cell_type": "code",
   "execution_count": 38,
   "id": "fa405e55-16f3-4734-93d2-06eb3b70129e",
   "metadata": {},
   "outputs": [],
   "source": [
    "stage_i = (data[stages].sum(axis=1) + 1).apply(lambda x: 0 if x > 1 else x)\n",
    "data['Stage_I'] = stage_i"
   ]
  },
  {
   "cell_type": "code",
   "execution_count": 39,
   "id": "86597ab6-fa06-40ff-9acc-cd3708a67427",
   "metadata": {},
   "outputs": [],
   "source": [
    "stage_data = {}\n",
    "for stage in data.columns[3:]:\n",
    "    stage_data[stage.lower()] = data[data[stage] == 1]"
   ]
  },
  {
   "cell_type": "code",
   "execution_count": 40,
   "id": "f0543c74-7f32-48ca-a2a4-df5ea334b682",
   "metadata": {},
   "outputs": [],
   "source": [
    "def get_time_line(data):\n",
    "    kmf = KaplanMeierFitter().fit(data.time, data.death)\n",
    "    return kmf.survival_function_, kmf.confidence_interval_"
   ]
  },
  {
   "cell_type": "code",
   "execution_count": 42,
   "id": "07f0393c-9ba4-494d-a8f6-144a78b8827d",
   "metadata": {},
   "outputs": [
    {
     "data": {
      "image/png": "[encoded data removed]",
      "text/plain": [
       "<Figure size 720x504 with 1 Axes>"
      ]
     },
     "metadata": {
      "needs_background": "light"
     },
     "output_type": "display_data"
    }
   ],
   "source": [
    "fig, ax = plt.subplots(1, figsize=(10,7))\n",
    "for stage in sorted(stage_data.keys()):\n",
    "    kmf = KaplanMeierFitter().fit(stage_data[stage].time, stage_data[stage].death)\n",
    "    plot_survival(ax, kmf, label=stage, with_ci=False)\n",
    "plt.legend();\n",
    "#fig.savefig(\"kmf_srage.png\", dpi=300)"
   ]
  }
 ],
 "metadata": {
  "kernelspec": {
   "display_name": "Python 3 (ipykernel)",
   "language": "python",
   "name": "python3"
  },
  "language_info": {
   "codemirror_mode": {
    "name": "ipython",
    "version": 3
   },
   "file_extension": ".py",
   "mimetype": "text/x-python",
   "name": "python",
   "nbconvert_exporter": "python",
   "pygments_lexer": "ipython3",
   "version": "3.8.0"
  }
 },
 "nbformat": 4,
 "nbformat_minor": 5
}
