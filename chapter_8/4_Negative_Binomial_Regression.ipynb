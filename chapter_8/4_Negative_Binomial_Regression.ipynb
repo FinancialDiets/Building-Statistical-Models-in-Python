{
 "cells": [
  {
   "cell_type": "markdown",
   "id": "6e6fc40e-c757-4af9-95be-2d1367a01e53",
   "metadata": {},
   "source": [
    "# Binomial Distribution, Bernoulli distribution, Negative Binomial Distribution."
   ]
  },
  {
   "cell_type": "code",
   "execution_count": 37,
   "id": "5e547b94-563e-4fb5-b5aa-727059f85a50",
   "metadata": {},
   "outputs": [],
   "source": [
    "import matplotlib.pyplot as plt\n",
    "import seaborn as sns\n",
    "import numpy as np\n",
    "from scipy.stats import nbinom\n",
    "\n",
    "n, p = 15, 0.5\n",
    "mean, var, skew, kurt = nbinom.stats(n, p, moments='mvsk')\n",
    "x = np.arange(nbinom.ppf(0.01, n, p),\n",
    "              nbinom.ppf(0.99, n, p))"
   ]
  },
  {
   "cell_type": "code",
   "execution_count": 63,
   "id": "93f58c7d-1062-4303-ac40-341c70698408",
   "metadata": {},
   "outputs": [
    {
     "data": {
      "text/plain": [
       "52.0"
      ]
     },
     "execution_count": 63,
     "metadata": {},
     "output_type": "execute_result"
    }
   ],
   "source": [
    "x.var()"
   ]
  },
  {
   "cell_type": "code",
   "execution_count": 59,
   "id": "8f12ac2c-99ea-4905-b569-c53ee590e6d9",
   "metadata": {},
   "outputs": [
    {
     "data": {
      "text/plain": [
       "17.0"
      ]
     },
     "execution_count": 59,
     "metadata": {},
     "output_type": "execute_result"
    }
   ],
   "source": [
    "x.mean()"
   ]
  },
  {
   "cell_type": "code",
   "execution_count": 56,
   "id": "b4e2294a-ca21-4345-8c3f-fb40c2db30c2",
   "metadata": {},
   "outputs": [
    {
     "data": {
      "image/png": "[encoded data removed]",
      "text/plain": [
       "<Figure size 720x360 with 1 Axes>"
      ]
     },
     "metadata": {
      "needs_background": "light"
     },
     "output_type": "display_data"
    }
   ],
   "source": [
    "fig, ax = plt.subplots(1,1,figsize=(10,5))\n",
    "\n",
    "sns.barplot(x=x.astype(int), y=nbinom.pmf(x, n, p), color='#17FF7D', alpha=0.5, ax=ax)\n",
    "ax.set_title('Negative Binomial Distribution')\n",
    "ax.set_xlabel('Count')\n",
    "plt.setp(ax.get_yticklabels(), visible=False)\n",
    "ax.tick_params(axis='y', which='both', length=0)\n",
    "ax.set_ylabel('')\n",
    "plt.savefig('./NegativeBinomialDistribution.png', dpi=300, facecolor='w', bbox_inches = \"tight\");"
   ]
  },
  {
   "cell_type": "code",
   "execution_count": 188,
   "id": "56ec63f7-ceb8-4ddf-abea-48e0ff16c2ce",
   "metadata": {},
   "outputs": [],
   "source": [
    "import statsmodels.api as sm\n",
    "\n",
    "data = sm.datasets.fair.load().data\n",
    "data = sm.add_constant(data, prepend=False)"
   ]
  },
  {
   "cell_type": "code",
   "execution_count": 134,
   "id": "504623d4-4a13-458b-adc6-98383d49f5b8",
   "metadata": {},
   "outputs": [
    {
     "name": "stdout",
     "output_type": "stream",
     "text": [
      "Mean count of children per marriage:  1.3968740182218033\n",
      "Variance of the count of children per marriage:  2.054838616333698\n"
     ]
    }
   ],
   "source": [
    "print('Mean count of children per marriage: ', data['children'].mean())\n",
    "print('Variance of the count of children per marriage: ', data['children'].var())"
   ]
  },
  {
   "cell_type": "code",
   "execution_count": 165,
   "id": "586b7deb-f0cc-4b9f-9ba5-a32450285e93",
   "metadata": {},
   "outputs": [
    {
     "data": {
      "text/plain": [
       "''"
      ]
     },
     "execution_count": 165,
     "metadata": {},
     "output_type": "execute_result"
    },
    {
     "data": {
      "image/png": "[encoded data removed]",
      "text/plain": [
       "<Figure size 432x288 with 1 Axes>"
      ]
     },
     "metadata": {
      "needs_background": "light"
     },
     "output_type": "display_data"
    }
   ],
   "source": [
    "plt.hist(data['children'], bins=150)\n",
    "plt.xlabel('Child Count')\n",
    "plt.title('Child Count per Married Couple')\n",
    "plt.savefig('./ChildrenDistribution.png', dpi=300, facecolor='w', bbox_inches = \"tight\");\n",
    ";"
   ]
  },
  {
   "cell_type": "markdown",
   "id": "0e25777f-08d4-40d8-87c9-7335530dbf84",
   "metadata": {},
   "source": [
    "Here we use the log-likelihood method 'nb2', which is the variance derived from the mixture of Poisson distributions with Gamma mixing weights."
   ]
  },
  {
   "cell_type": "code",
   "execution_count": 319,
   "id": "0ca7b06b-a572-49ca-93b9-bc62c2e886e8",
   "metadata": {},
   "outputs": [],
   "source": [
    "y = round(data['children'])\n",
    "X = data[['const','age','religious','yrs_married','educ','occupation','occupation_husb','affairs','rate_marriage']] "
   ]
  },
  {
   "cell_type": "code",
   "execution_count": 320,
   "id": "06f56c99-d4b4-45fb-9503-0e40fc9d5675",
   "metadata": {},
   "outputs": [],
   "source": [
    "import pandas as pd\n",
    "\n",
    "pd.concat([X, y], axis=1).head().to_clipboard()"
   ]
  },
  {
   "cell_type": "code",
   "execution_count": 321,
   "id": "2eb1e137-aecc-45fe-8d45-628e01d59d6b",
   "metadata": {},
   "outputs": [],
   "source": [
    "from sklearn.model_selection import train_test_split\n",
    "\n",
    "X_train, X_test, y_train, y_test = train_test_split(X, y, test_size=0.25, shuffle=True)"
   ]
  },
  {
   "cell_type": "markdown",
   "id": "37870bf4-8303-49b8-9597-8d7725cb9d8c",
   "metadata": {},
   "source": [
    "Here we have overdisperison of our target variable, which means we should use negative binomial regression instead of Poisson regression. Although it does not apply in this situation, it is useful to note that with negative binomial regression, target value order does not matter as it does with Poisson regression."
   ]
  },
  {
   "cell_type": "code",
   "execution_count": 192,
   "id": "5199a1e6-5885-43c0-87c4-39cabfa1d2ba",
   "metadata": {},
   "outputs": [
    {
     "data": {
      "text/plain": [
       "array([0., 1., 2., 3., 4., 6.])"
      ]
     },
     "execution_count": 192,
     "metadata": {},
     "output_type": "execute_result"
    }
   ],
   "source": [
    "np.unique(y)"
   ]
  },
  {
   "cell_type": "code",
   "execution_count": 193,
   "id": "3c2631e1-ffe9-49da-8859-062bfda3eec7",
   "metadata": {},
   "outputs": [
    {
     "data": {
      "text/plain": [
       "''"
      ]
     },
     "execution_count": 193,
     "metadata": {},
     "output_type": "execute_result"
    },
    {
     "data": {
      "image/png": "[encoded data removed]",
      "text/plain": [
       "<Figure size 432x288 with 1 Axes>"
      ]
     },
     "metadata": {
      "needs_background": "light"
     },
     "output_type": "display_data"
    }
   ],
   "source": [
    "import matplotlib.pyplot as plt\n",
    "\n",
    "plt.hist(y, bins=50)\n",
    "plt.xlabel('Child Count')\n",
    "plt.title('Child Count per Married Couple')\n",
    "plt.savefig('./ChildrenDistribution.png', dpi=300, facecolor='w', bbox_inches = \"tight\");\n",
    ";"
   ]
  },
  {
   "cell_type": "code",
   "execution_count": 312,
   "id": "b5b7f20c-462b-44f0-a203-5fa3fa881019",
   "metadata": {},
   "outputs": [],
   "source": [
    "df_train = pd.concat([X_train,y_train], axis=1)"
   ]
  },
  {
   "cell_type": "code",
   "execution_count": 357,
   "id": "5f25b963-eede-4f2a-9760-6bcb045a4606",
   "metadata": {},
   "outputs": [
    {
     "name": "stdout",
     "output_type": "stream",
     "text": [
      "y_lambda    0.670327\n",
      "dtype: float64\n"
     ]
    }
   ],
   "source": [
    "import statsmodels.formula.api as smf\n",
    "poisson_training_results = sm.GLM(y_train, X_train, family=sm.families.Poisson()).fit()\n",
    "df_train['y_lambda'] = poisson_training_results.mu\n",
    "\n",
    "df_train['y_auxiliary'] = df_train.apply(lambda x: ((x['children'] - x['y_lambda'])**2 - x['y_lambda']) / x['y_lambda'], axis=1)\n",
    "\n",
    "aux_olsr_results = smf.ols('y_auxiliary ~ y_lambda - 1', df_train).fit()\n",
    "print(aux_olsr_results.params)"
   ]
  },
  {
   "cell_type": "code",
   "execution_count": 359,
   "id": "0d17fbb1-5f8b-497b-a14c-769738e2c066",
   "metadata": {},
   "outputs": [
    {
     "data": {
      "text/plain": [
       "(4774,)"
      ]
     },
     "execution_count": 359,
     "metadata": {},
     "output_type": "execute_result"
    }
   ],
   "source": [
    "np.shape(poisson_training_results.mu)"
   ]
  },
  {
   "cell_type": "code",
   "execution_count": 361,
   "id": "44dde896-d491-4612-be01-4c483a089313",
   "metadata": {},
   "outputs": [
    {
     "data": {
      "text/plain": [
       "(4774,)"
      ]
     },
     "execution_count": 361,
     "metadata": {},
     "output_type": "execute_result"
    }
   ],
   "source": [
    "np.shape(y_train)"
   ]
  },
  {
   "cell_type": "code",
   "execution_count": 363,
   "id": "2ef87f42-1aa5-4870-964b-9b1d026ccbf2",
   "metadata": {},
   "outputs": [
    {
     "name": "stdout",
     "output_type": "stream",
     "text": [
      "y_lambda    0.670327\n",
      "dtype: float64\n"
     ]
    }
   ],
   "source": [
    "import statsmodels.formula.api as smf\n",
    "poisson_training_results = sm.GLM(y_train, X_train, family=sm.families.Poisson()).fit()\n",
    "\n",
    "df_aux = pd.DataFrame({'children':y_train,\n",
    "                       'y_lambda':poisson_training_results.mu})\n",
    "\n",
    "df_train['y_lambda'] = poisson_training_results.mu\n",
    "\n",
    "df_train['y_auxiliary'] = df_train.apply(lambda x: ((x['children'] - x['y_lambda'])**2 - x['y_lambda']) / x['y_lambda'], axis=1)\n",
    "\n",
    "aux_olsr_results = smf.ols('y_auxiliary ~ y_lambda - 1', df_train).fit()\n",
    "print(aux_olsr_results.params)"
   ]
  },
  {
   "cell_type": "code",
   "execution_count": 384,
   "id": "217d1811-d64c-416e-951f-07a3d8d90e59",
   "metadata": {},
   "outputs": [
    {
     "name": "stdout",
     "output_type": "stream",
     "text": [
      "y_mu_hat    0.622034\n",
      "dtype: float64\n"
     ]
    }
   ],
   "source": [
    "from statsmodels.formula.api import ols as OLS\n",
    "import statsmodels.api as sm\n",
    "\n",
    "poisson_model = sm.GLM(y_train, X_train, family=sm.families.Poisson()).fit()\n",
    "\n",
    "df_aux = pd.DataFrame()\n",
    "df_aux['y_mu_hat'] = poisson_model.mu\n",
    "df_aux['children'] = y_train\n",
    "df_aux['y_auxiliary'] = df_aux.apply(lambda x: ((x['children'] - x['y_mu_hat'])**2 - x['y_mu_hat']) / x['y_mu_hat'], axis=1)\n",
    "\n",
    "ols_model = OLS('y_auxiliary ~ y_mu_hat - 1', df_aux).fit()\n",
    "print(ols_model.params)"
   ]
  },
  {
   "cell_type": "code",
   "execution_count": 386,
   "id": "2ec704cc-5daf-4668-886f-b890d123877e",
   "metadata": {},
   "outputs": [
    {
     "name": "stdout",
     "output_type": "stream",
     "text": [
      "                                 OLS Regression Results                                \n",
      "=======================================================================================\n",
      "Dep. Variable:            y_auxiliary   R-squared (uncentered):                   0.021\n",
      "Model:                            OLS   Adj. R-squared (uncentered):              0.021\n",
      "Method:                 Least Squares   F-statistic:                              78.45\n",
      "Date:                Sun, 20 Nov 2022   Prob (F-statistic):                    1.26e-18\n",
      "Time:                        17:21:30   Log-Likelihood:                         -12448.\n",
      "No. Observations:                3589   AIC:                                  2.490e+04\n",
      "Df Residuals:                    3588   BIC:                                  2.490e+04\n",
      "Df Model:                           1                                                  \n",
      "Covariance Type:            nonrobust                                                  \n",
      "==============================================================================\n",
      "                 coef    std err          t      P>|t|      [0.025      0.975]\n",
      "------------------------------------------------------------------------------\n",
      "y_mu_hat       0.6220      0.070      8.857      0.000       0.484       0.760\n",
      "==============================================================================\n",
      "Omnibus:                     3672.645   Durbin-Watson:                   1.924\n",
      "Prob(Omnibus):                  0.000   Jarque-Bera (JB):           172938.517\n",
      "Skew:                           5.188   Prob(JB):                         0.00\n",
      "Kurtosis:                      35.385   Cond. No.                         1.00\n",
      "==============================================================================\n",
      "\n",
      "Notes:\n",
      "[1] R² is computed without centering (uncentered) since the model does not contain a constant.\n",
      "[2] Standard Errors assume that the covariance matrix of the errors is correctly specified.\n"
     ]
    }
   ],
   "source": [
    "print(ols_model.summary())"
   ]
  },
  {
   "cell_type": "code",
   "execution_count": 400,
   "id": "99e6dbd7-0ae5-415b-b8f8-e64ff1c1dd05",
   "metadata": {},
   "outputs": [
    {
     "name": "stdout",
     "output_type": "stream",
     "text": [
      "                 Generalized Linear Model Regression Results                  \n",
      "==============================================================================\n",
      "Dep. Variable:               children   No. Observations:                 4774\n",
      "Model:                            GLM   Df Residuals:                     4765\n",
      "Model Family:        NegativeBinomial   Df Model:                            8\n",
      "Link Function:                    Log   Scale:                          1.0000\n",
      "Method:                          IRLS   Log-Likelihood:                -6608.4\n",
      "Date:                Sun, 20 Nov 2022   Deviance:                       2850.6\n",
      "Time:                        17:41:53   Pearson chi2:                 2.46e+03\n",
      "No. Iterations:                     7   Pseudo R-squ. (CS):             0.3689\n",
      "Covariance Type:            nonrobust                                         \n",
      "===================================================================================\n",
      "                      coef    std err          z      P>|z|      [0.025      0.975]\n",
      "-----------------------------------------------------------------------------------\n",
      "const              -0.0784      0.183     -0.430      0.667      -0.436       0.279\n",
      "age                -0.0088      0.006     -1.431      0.153      -0.021       0.003\n",
      "religious           0.0467      0.021      2.207      0.027       0.005       0.088\n",
      "yrs_married         0.1137      0.006     19.596      0.000       0.102       0.125\n",
      "educ               -0.0317      0.009     -3.377      0.001      -0.050      -0.013\n",
      "occupation         -0.0348      0.021     -1.673      0.094      -0.076       0.006\n",
      "occupation_husb     0.0162      0.014      1.142      0.253      -0.012       0.044\n",
      "affairs            -0.0009      0.010     -0.092      0.927      -0.021       0.019\n",
      "rate_marriage      -0.0634      0.018     -3.434      0.001      -0.100      -0.027\n",
      "===================================================================================\n"
     ]
    }
   ],
   "source": [
    "from statsmodels.genmod.families.family import NegativeBinomial\n",
    "\n",
    "negative_binomial_model = sm.GLM(y_train, X_train, family=NegativeBinomial(alpha=ols_model.params.values)).fit()\n",
    "print(negative_binomial_model.summary())"
   ]
  },
  {
   "cell_type": "code",
   "execution_count": 405,
   "id": "73bb6001-18d4-46c6-9070-321446c11a88",
   "metadata": {},
   "outputs": [
    {
     "name": "stdout",
     "output_type": "stream",
     "text": [
      "Training Root Mean Squared Error:  1.2553439918425695\n",
      "Testing Root Mean Squared Error:  1.266620561303553\n"
     ]
    }
   ],
   "source": [
    "from sklearn.metrics import mean_squared_error as RMSE\n",
    "\n",
    "print('Training Root Mean Squared Error: ', RMSE(y_train, negative_binomial_model.predict(X_train)) )\n",
    "print('Testing Root Mean Squared Error: ', RMSE(y_test, negative_binomial_model.predict(X_test)))"
   ]
  }
 ],
 "metadata": {
  "kernelspec": {
   "display_name": "Python 3",
   "language": "python",
   "name": "python3"
  },
  "language_info": {
   "codemirror_mode": {
    "name": "ipython",
    "version": 3
   },
   "file_extension": ".py",
   "mimetype": "text/x-python",
   "name": "python",
   "nbconvert_exporter": "python",
   "pygments_lexer": "ipython3",
   "version": "3.8.3"
  }
 },
 "nbformat": 4,
 "nbformat_minor": 5
}
