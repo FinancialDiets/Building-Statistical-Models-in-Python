{
 "cells": [
  {
   "cell_type": "code",
   "execution_count": 1,
   "id": "07c418a4-15aa-47f9-879f-6f16f0541466",
   "metadata": {},
   "outputs": [],
   "source": [
    "import numpy as np\n",
    "import scipy as sp\n",
    "import pandas as pd\n",
    "import statsmodels as sm\n",
    "import matplotlib\n",
    "import sklearn"
   ]
  },
  {
   "cell_type": "code",
   "execution_count": 2,
   "id": "fb043b27-88b6-4cda-97c6-5e99d6304393",
   "metadata": {},
   "outputs": [
    {
     "name": "stdout",
     "output_type": "stream",
     "text": [
      "numpy version: 1.23.0\n",
      "scipy version: 1.8.1\n",
      "pandas version: 1.4.3\n",
      "statsmodels version: 0.13.2\n",
      "matplotlib version: 3.5.2\n",
      "sklearn version: 1.1.1\n"
     ]
    }
   ],
   "source": [
    "print(f\"numpy version: {np.__version__}\")\n",
    "print(f\"scipy version: {sp.__version__}\")\n",
    "print(f\"pandas version: {pd.__version__}\")\n",
    "print(f\"statsmodels version: {sm.__version__}\")\n",
    "print(f\"matplotlib version: {matplotlib.__version__}\")\n",
    "print(f\"sklearn version: {sklearn.__version__}\")"
   ]
  }
 ],
 "metadata": {
  "kernelspec": {
   "display_name": "Python 3 (ipykernel)",
   "language": "python",
   "name": "python3"
  },
  "language_info": {
   "codemirror_mode": {
    "name": "ipython",
    "version": 3
   },
   "file_extension": ".py",
   "mimetype": "text/x-python",
   "name": "python",
   "nbconvert_exporter": "python",
   "pygments_lexer": "ipython3",
   "version": "3.8.0"
  }
 },
 "nbformat": 4,
 "nbformat_minor": 5
}
