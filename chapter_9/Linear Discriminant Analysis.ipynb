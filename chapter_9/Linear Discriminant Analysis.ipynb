{
 "cells": [
  {
   "cell_type": "code",
   "execution_count": 2,
   "id": "dd39bc04-1d67-40d0-9f86-69fb31019926",
   "metadata": {},
   "outputs": [],
   "source": [
    "import statsmodels.api as sm\n",
    "\n",
    "df_affairs = sm.datasets.fair.load().data"
   ]
  },
  {
   "cell_type": "code",
   "execution_count": 9,
   "id": "16a7107d-4b98-4a32-a0c0-997bf8e5e00b",
   "metadata": {},
   "outputs": [
    {
     "data": {
      "image/png": "[encoded data removed]",
      "text/plain": [
       "<Figure size 432x288 with 1 Axes>"
      ]
     },
     "metadata": {
      "needs_background": "light"
     },
     "output_type": "display_data"
    }
   ],
   "source": [
    "import matplotlib.pyplot as plt\n",
    "\n",
    "plt.hist(df_affairs['affairs'], bins=150);"
   ]
  },
  {
   "cell_type": "markdown",
   "id": "8528e8ae-1812-4fb6-8af0-6287be0aa0fb",
   "metadata": {},
   "source": [
    "A big class imbalance typically starts at around something more extreme than 90/10. It depends on the spread of data and variance explained by input features, but the 32/68 split below is reasonable for classification."
   ]
  },
  {
   "cell_type": "code",
   "execution_count": 3,
   "id": "d14f3bc5-9160-4bcf-82a2-8a3eb80825e3",
   "metadata": {},
   "outputs": [
    {
     "name": "stdout",
     "output_type": "stream",
     "text": [
      "Class 1 Balance: 32.25%\n",
      "Class 2 Balance: 67.75%\n"
     ]
    }
   ],
   "source": [
    "total_count = df_affairs.shape[0]\n",
    "positive_count = df_affairs.loc[df_affairs['affairs'] > 0].shape[0]\n",
    "positive_pct = positive_count / total_count\n",
    "negative_pct = 1 - positive_pct\n",
    "print(\"Class 1 Balance: {}%\".format(round(positive_pct*100, 2)))\n",
    "print(\"Class 2 Balance: {}%\".format(round(negative_pct*100, 2)))"
   ]
  },
  {
   "cell_type": "markdown",
   "id": "1128f999-9532-4215-a144-38a79d2a9798",
   "metadata": {},
   "source": [
    "Re-code the data where any value for time spent in an affair over 0 is labeled a 1. Otherwise, 0."
   ]
  },
  {
   "cell_type": "code",
   "execution_count": 4,
   "id": "30ac38ab-8428-4ebb-ab96-5cf7d06e89fb",
   "metadata": {},
   "outputs": [],
   "source": [
    "import numpy as np\n",
    "\n",
    "df_affairs['affairs'] = np.where(df_affairs['affairs'] > 0, 1, 0)"
   ]
  },
  {
   "cell_type": "code",
   "execution_count": 5,
   "id": "9dc64893-d124-4215-b16f-1b3aad82bd83",
   "metadata": {},
   "outputs": [],
   "source": [
    "X=df_affairs[['rate_marriage','age','yrs_married','children','religious','educ','occupation','occupation_husb']]\n",
    "y=df_affairs['affairs']"
   ]
  },
  {
   "cell_type": "markdown",
   "id": "447e7980-640c-4d38-a6a1-40ec4ed5cb3f",
   "metadata": {},
   "source": [
    "Using the below method, we can see all input features share the same standard deviation across both target classes with the exception of rate_marriage. The standard deviation here has a difference of about 20%. Considering we have 8 input features and all features in the model will be scaled, this likely won't present an issue. If the model underperforms, based on this information, we can reasonably assume it isn't the algorithm's fault as the required assumptions are met. Rather, it would more likely be that we don't have enough features or observations to fully explain the target. We exclude 'affairs' because that's the target variable and occupation and occupation_husb because they're categorical encodings that will be one-hot encoded since we are not considering them to be ordinal based on our analysis scope."
   ]
  },
  {
   "cell_type": "code",
   "execution_count": 131,
   "id": "c07dec03-5891-4831-9191-edb9f0c4f9d5",
   "metadata": {},
   "outputs": [
    {
     "name": "stdout",
     "output_type": "stream",
     "text": [
      "Affairs = 0, Feature = rate_marriage, Standard Deviation = 0.82\n",
      "Affairs = 1, Feature = rate_marriage, Standard Deviation = 1.07\n",
      "Affairs = 0, Feature = age, Standard Deviation = 6.81\n",
      "Affairs = 1, Feature = age, Standard Deviation = 6.7\n",
      "Affairs = 0, Feature = yrs_married, Standard Deviation = 7.1\n",
      "Affairs = 1, Feature = yrs_married, Standard Deviation = 7.18\n",
      "Affairs = 0, Feature = children, Standard Deviation = 1.42\n",
      "Affairs = 1, Feature = children, Standard Deviation = 1.41\n",
      "Affairs = 0, Feature = religious, Standard Deviation = 0.89\n",
      "Affairs = 1, Feature = religious, Standard Deviation = 0.84\n",
      "Affairs = 0, Feature = educ, Standard Deviation = 2.21\n",
      "Affairs = 1, Feature = educ, Standard Deviation = 2.09\n"
     ]
    }
   ],
   "source": [
    "df_affairs_sd = pd.concat([X, y], axis=1)\n",
    "\n",
    "for col in df_affairs_sd.columns:\n",
    "    if col not in ['affairs','occupation','occupation_husb']:\n",
    "        print('Affairs = 0, Feature = {}, Standard Deviation = {}'.format(col, round(np.std(df_affairs_sd.loc[df_affairs_sd['affairs'] == 0, col]), 2)))\n",
    "        print('Affairs = 1, Feature = {}, Standard Deviation = {}'.format(col, round(np.std(df_affairs_sd.loc[df_affairs_sd['affairs'] == 1, col]), 2)))"
   ]
  },
  {
   "cell_type": "markdown",
   "id": "f1ecadff-ee86-49d5-9518-a5599ad6776d",
   "metadata": {},
   "source": [
    "In the previous chapter, we identified that occupation and occupation_husb do not capture much difference in explaining affairs so we will drop occupation_husb from the dataset to minimize the volume of one-hot encodes."
   ]
  },
  {
   "cell_type": "code",
   "execution_count": 6,
   "id": "480aa6ed-050a-467e-a61f-53d05d2c8002",
   "metadata": {},
   "outputs": [],
   "source": [
    "import pandas as pd\n",
    "\n",
    "pd.options.mode.chained_assignment = None\n",
    "\n",
    "X['occupation'] = X['occupation'].map({1:'Occupation_One',\n",
    "                                       2:'Occupation_Two',\n",
    "                                       3:'Occupation_Three',\n",
    "                                       4:'Occupation_Four',\n",
    "                                       5:'Occupation_Five',\n",
    "                                       6:'Occupation_Six'})\n",
    "\n",
    "X = pd.get_dummies(X, columns=['occupation'])\n",
    "X.drop('occupation_husb', axis=1, inplace=True)"
   ]
  },
  {
   "cell_type": "code",
   "execution_count": 7,
   "id": "9bfa9405-893f-4152-917b-119e83a4fe22",
   "metadata": {},
   "outputs": [],
   "source": [
    "from sklearn.model_selection import train_test_split\n",
    "\n",
    "X_train, X_test, y_train, y_test = train_test_split(X, y, test_size=0.33, random_state=42)"
   ]
  },
  {
   "cell_type": "code",
   "execution_count": 8,
   "id": "3a6fa903-24f8-413c-8c93-cfe9da081f45",
   "metadata": {},
   "outputs": [],
   "source": [
    "X_train_sc = X_train.copy()\n",
    "X_test_sc = X_test.copy()"
   ]
  },
  {
   "cell_type": "markdown",
   "id": "2cff6eff-3f66-440c-bc73-b452bfedded7",
   "metadata": {},
   "source": [
    "Here we scale all but the one-hot encoded 'occupation' variables since one-hot encodes don't scale."
   ]
  },
  {
   "cell_type": "code",
   "execution_count": 9,
   "id": "85d44a5a-40e5-477e-b7e8-77eb1499f3bb",
   "metadata": {},
   "outputs": [],
   "source": [
    "from sklearn.compose import ColumnTransformer\n",
    "from sklearn.preprocessing import StandardScaler\n",
    "\n",
    "ct = ColumnTransformer([\n",
    "        ('', StandardScaler(), ['rate_marriage','age','yrs_married','children','religious','educ'])\n",
    "    ], remainder='passthrough')\n",
    "\n",
    "X_train_sc = ct.fit_transform(X_train_sc)\n",
    "\n",
    "ct = ColumnTransformer([\n",
    "        ('', StandardScaler(), ['rate_marriage','age','yrs_married','children','religious','educ'])\n",
    "    ], remainder='passthrough')\n",
    "\n",
    "X_test_sc = ct.fit_transform(X_test_sc)"
   ]
  },
  {
   "cell_type": "code",
   "execution_count": 146,
   "id": "796ac0dc-85ca-4ba2-bcd6-e630c175873a",
   "metadata": {},
   "outputs": [
    {
     "data": {
      "text/plain": [
       "LinearDiscriminantAnalysis()"
      ]
     },
     "execution_count": 146,
     "metadata": {},
     "output_type": "execute_result"
    }
   ],
   "source": [
    "from sklearn.discriminant_analysis import LinearDiscriminantAnalysis\n",
    "\n",
    "lda = LinearDiscriminantAnalysis()\n",
    "lda.fit(X_train_sc, y_train)"
   ]
  },
  {
   "cell_type": "code",
   "execution_count": 147,
   "id": "15d964c9-cb9b-4001-a003-b7a9cfd4a1cc",
   "metadata": {},
   "outputs": [],
   "source": [
    "def precision_score(true_positives:int, false_positives:int):\n",
    "    precision = true_positives / (true_positives + false_positives)\n",
    "\n",
    "    return precision;\n",
    "\n",
    "def recall_score(true_positives:int, false_negatives:int):\n",
    "    recall = true_positives / (true_positives + false_negatives)\n",
    "    \n",
    "    return recall;"
   ]
  },
  {
   "cell_type": "code",
   "execution_count": 164,
   "id": "ee0eea6a-c6ba-4d71-abf6-58425870b39d",
   "metadata": {},
   "outputs": [
    {
     "name": "stdout",
     "output_type": "stream",
     "text": [
      "Precision on Train:  0.6252\n",
      "Recall on Train:  0.3444\n"
     ]
    },
    {
     "data": {
      "image/png": "[encoded data removed]",
      "text/plain": [
       "<Figure size 432x288 with 1 Axes>"
      ]
     },
     "metadata": {
      "needs_background": "light"
     },
     "output_type": "display_data"
    }
   ],
   "source": [
    "from sklearn.metrics import confusion_matrix\n",
    "import seaborn as sns\n",
    "\n",
    "y_train_pred = lda.predict(X_train_sc)\n",
    "\n",
    "cf_train = confusion_matrix(y_train, y_train_pred, labels=[0,1])\n",
    "tn_train, fp_train, fn_train, tp_train = cf_train.ravel()\n",
    "\n",
    "cf_matrix = sns.heatmap(cf_train, annot=True, fmt='g', cbar=False)\n",
    "cf_matrix.set(xlabel='Predicted', ylabel='Actual', title='Confusion Matrix - Train');\n",
    "\n",
    "print('Precision on Train: ', round(precision_score(tp_train, fp_train), 4))\n",
    "print('Recall on Train: ', round(recall_score(tp_train, fn_train), 4))\n",
    "\n",
    "cf_matrix.figure.savefig('./train.png', dpi=300, facecolor='w')"
   ]
  },
  {
   "cell_type": "code",
   "execution_count": 163,
   "id": "454eb4b7-bbb1-45cb-9324-0d182934092e",
   "metadata": {},
   "outputs": [
    {
     "name": "stdout",
     "output_type": "stream",
     "text": [
      "Precision on Test:  0.6615\n",
      "Recall on Test:  0.3673\n"
     ]
    },
    {
     "data": {
      "image/png": "[encoded data removed]",
      "text/plain": [
       "<Figure size 432x288 with 1 Axes>"
      ]
     },
     "metadata": {
      "needs_background": "light"
     },
     "output_type": "display_data"
    }
   ],
   "source": [
    "from sklearn.metrics import confusion_matrix\n",
    "import seaborn as sns\n",
    "\n",
    "y_test_pred = lda.predict(X_test_sc)\n",
    "\n",
    "cf_test = confusion_matrix(y_test, y_test_pred, labels=[0,1])\n",
    "tn_test, fp_test, fn_test, tp_test = cf_test.ravel()\n",
    "\n",
    "cf_matrix = sns.heatmap(cf_test, annot=True, fmt='g', cbar=False)\n",
    "cf_matrix.set(xlabel='Predicted', ylabel='Actual', title='Confusion Matrix - Test');\n",
    "\n",
    "print('Precision on Test: ', round(precision_score(tp_test, fp_test), 4))\n",
    "print('Recall on Test: ', round(recall_score(tp_test, fn_test), 4))\n",
    "\n",
    "cf_matrix.figure.savefig('./test.png', dpi=300, facecolor='w')"
   ]
  },
  {
   "cell_type": "markdown",
   "id": "14b008c0-688c-4e7c-abab-c5b56dc6bbd5",
   "metadata": {},
   "source": [
    "From these results, we can see the scores are consistent for precision and recall across both train and test set using the model we built on the training data so we can conclude the model generalizes well on unseen data compared to the benchmark (training) performance. However, the performance is not great. It is possible the issue is our target encoding is not very useful (perhaps the discretization of affairs is not useful and a statistical approach should be taken to discretize the values). However, it is also possible the features do not explain enough of the variance in the response variable to build a model that is of much use (it’s also possible affairs cannot be predicted at all and there is too much random noise to model). However, for the intent of the chapter, we were able to demonstrate how a model using LDA could be constructed and tested in addition to the preprocessing steps that must be taken before data can be modeled."
   ]
  },
  {
   "cell_type": "markdown",
   "id": "0be63ec6-181e-42dc-9763-24373891854d",
   "metadata": {},
   "source": [
    "# Supervised Dimension Reduction"
   ]
  },
  {
   "cell_type": "markdown",
   "id": "e68bcb75-1f40-445a-9613-d48e0c2189a3",
   "metadata": {},
   "source": [
    "Unlike Principal Components Analysis (PCA), which can be used to perform unsupervised dimension reduction, LDA can be leveraged to perform supervised dimension reduction. That is, upon training the model to learn the input variance in relation to the output target, a derived set of features can be obtained.\n",
    "\n",
    "Suppose our data produced a good result when using LDA for classification. We could then confidently use the same data to build a supervised dimension reduction technique. To perform this, we would run the following code using fit_transform() to transform the input data with respect to the target (rather than the fit() function we used to fit a classifier earlier). As with the classifier, the data should still conform to the assumptions of the LDA model. Data is reduced according to the number of classes in the response variable. Where the number of classes is C, the number of reduced features will be C-1. Because we have only two classes in our target variable, y, LDA reduces the input features to a dimension of 1."
   ]
  },
  {
   "cell_type": "code",
   "execution_count": 11,
   "id": "ae87c28d-0839-49d2-97e2-52e515478b4e",
   "metadata": {},
   "outputs": [],
   "source": [
    "from sklearn.discriminant_analysis import LinearDiscriminantAnalysis\n",
    "\n",
    "lda = LinearDiscriminantAnalysis()\n",
    "X_reduced = lda.fit_transform(X_train_sc, y_train)"
   ]
  },
  {
   "cell_type": "markdown",
   "id": "05a7d45f-832a-4a3f-8dd9-3ade07ece70d",
   "metadata": {},
   "source": [
    "Here we can see our data is reduced from 12 features to 1:"
   ]
  },
  {
   "cell_type": "code",
   "execution_count": 16,
   "id": "4896cc5d-2379-4aa4-81e0-7868a5d914f7",
   "metadata": {},
   "outputs": [
    {
     "name": "stdout",
     "output_type": "stream",
     "text": [
      "Input data dimensions:  (4265, 12)\n",
      "Transformed data dimensions:  (4265, 1)\n"
     ]
    }
   ],
   "source": [
    "print('Input data dimensions: ', X_train_sc.shape)\n",
    "print('Transformed data dimensions: ', X_reduced.shape)"
   ]
  }
 ],
 "metadata": {
  "kernelspec": {
   "display_name": "Python 3",
   "language": "python",
   "name": "python3"
  },
  "language_info": {
   "codemirror_mode": {
    "name": "ipython",
    "version": 3
   },
   "file_extension": ".py",
   "mimetype": "text/x-python",
   "name": "python",
   "nbconvert_exporter": "python",
   "pygments_lexer": "ipython3",
   "version": "3.8.3"
  }
 },
 "nbformat": 4,
 "nbformat_minor": 5
}
