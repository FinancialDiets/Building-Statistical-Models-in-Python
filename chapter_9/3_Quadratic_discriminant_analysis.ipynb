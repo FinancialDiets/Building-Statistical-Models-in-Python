{
 "cells": [
  {
   "cell_type": "code",
   "execution_count": 1,
   "id": "bdf2ddd6-4bcf-45d9-a21d-803a93a6599a",
   "metadata": {},
   "outputs": [],
   "source": [
    "# import packages \n",
    "\n",
    "import numpy as np \n",
    "import pandas as pd \n",
    "from sklearn import datasets \n",
    "from sklearn.model_selection import train_test_split \n",
    "from sklearn.metrics import confusion_matrix, accuracy_score,  ConfusionMatrixDisplay \n",
    "import matplotlib.pyplot as plt\n",
    "import seaborn as sns\n",
    "\n",
    "import warnings\n",
    "warnings.filterwarnings(\"ignore\")\n"
   ]
  },
  {
   "cell_type": "code",
   "execution_count": 2,
   "id": "5be0fdb8-a147-4f0b-bd44-8991362d0215",
   "metadata": {},
   "outputs": [
    {
     "name": "stdout",
     "output_type": "stream",
     "text": [
      "['sepal length (cm)', 'sepal width (cm)', 'petal length (cm)', 'petal width (cm)']\n",
      "['setosa' 'versicolor' 'virginica']\n"
     ]
    }
   ],
   "source": [
    "# import Iris data \n",
    "\n",
    "iris = datasets.load_iris() \n",
    "print(iris.feature_names) \n",
    "print(iris.target_names) "
   ]
  },
  {
   "cell_type": "code",
   "execution_count": 3,
   "id": "ae172480-bf3c-4a42-a57d-50e94830df08",
   "metadata": {},
   "outputs": [
    {
     "data": {
      "text/html": [
       "<div>\n",
       "<style scoped>\n",
       "    .dataframe tbody tr th:only-of-type {\n",
       "        vertical-align: middle;\n",
       "    }\n",
       "\n",
       "    .dataframe tbody tr th {\n",
       "        vertical-align: top;\n",
       "    }\n",
       "\n",
       "    .dataframe thead th {\n",
       "        text-align: right;\n",
       "    }\n",
       "</style>\n",
       "<table border=\"1\" class=\"dataframe\">\n",
       "  <thead>\n",
       "    <tr style=\"text-align: right;\">\n",
       "      <th></th>\n",
       "      <th>sepal_length</th>\n",
       "      <th>sepal_width</th>\n",
       "      <th>petal_length</th>\n",
       "      <th>petal_width</th>\n",
       "      <th>target</th>\n",
       "    </tr>\n",
       "  </thead>\n",
       "  <tbody>\n",
       "    <tr>\n",
       "      <th>0</th>\n",
       "      <td>5.1</td>\n",
       "      <td>3.5</td>\n",
       "      <td>1.4</td>\n",
       "      <td>0.2</td>\n",
       "      <td>0</td>\n",
       "    </tr>\n",
       "    <tr>\n",
       "      <th>1</th>\n",
       "      <td>4.9</td>\n",
       "      <td>3.0</td>\n",
       "      <td>1.4</td>\n",
       "      <td>0.2</td>\n",
       "      <td>0</td>\n",
       "    </tr>\n",
       "    <tr>\n",
       "      <th>2</th>\n",
       "      <td>4.7</td>\n",
       "      <td>3.2</td>\n",
       "      <td>1.3</td>\n",
       "      <td>0.2</td>\n",
       "      <td>0</td>\n",
       "    </tr>\n",
       "    <tr>\n",
       "      <th>3</th>\n",
       "      <td>4.6</td>\n",
       "      <td>3.1</td>\n",
       "      <td>1.5</td>\n",
       "      <td>0.2</td>\n",
       "      <td>0</td>\n",
       "    </tr>\n",
       "    <tr>\n",
       "      <th>4</th>\n",
       "      <td>5.0</td>\n",
       "      <td>3.6</td>\n",
       "      <td>1.4</td>\n",
       "      <td>0.2</td>\n",
       "      <td>0</td>\n",
       "    </tr>\n",
       "  </tbody>\n",
       "</table>\n",
       "</div>"
      ],
      "text/plain": [
       "   sepal_length  sepal_width  petal_length  petal_width  target\n",
       "0           5.1          3.5           1.4          0.2       0\n",
       "1           4.9          3.0           1.4          0.2       0\n",
       "2           4.7          3.2           1.3          0.2       0\n",
       "3           4.6          3.1           1.5          0.2       0\n",
       "4           5.0          3.6           1.4          0.2       0"
      ]
     },
     "execution_count": 3,
     "metadata": {},
     "output_type": "execute_result"
    }
   ],
   "source": [
    "#create dataframe \n",
    "\n",
    "df = pd.DataFrame(iris.data, columns = ['sepal_length', 'sepal_width', 'petal_length', 'petal_width']) \n",
    "df['target'] = iris.target \n",
    "df.head() "
   ]
  },
  {
   "cell_type": "code",
   "execution_count": 4,
   "id": "bc1eda2d-8d88-4db4-9f98-75dd9d897c05",
   "metadata": {},
   "outputs": [
    {
     "data": {
      "text/plain": [
       "sepal_length    0\n",
       "sepal_width     0\n",
       "petal_length    0\n",
       "petal_width     0\n",
       "target          0\n",
       "dtype: int64"
      ]
     },
     "execution_count": 4,
     "metadata": {},
     "output_type": "execute_result"
    }
   ],
   "source": [
    "# check missing values \n",
    "\n",
    "df.isna().sum() "
   ]
  },
  {
   "cell_type": "code",
   "execution_count": 5,
   "id": "551ab8ad-f1f2-4296-8246-91604be1d41e",
   "metadata": {},
   "outputs": [],
   "source": [
    "# create train and test data \n",
    "\n",
    "X = df.drop('target', axis=1) \n",
    "y = df['target'] \n",
    "X_train, X_test, y_train, y_test = train_test_split(X, y, test_size =0.2, random_state =1) "
   ]
  },
  {
   "cell_type": "code",
   "execution_count": 6,
   "id": "d52fcfb4-6fa5-4546-a342-4b6e7c078c14",
   "metadata": {},
   "outputs": [],
   "source": [
    "from sklearn.discriminant_analysis import QuadraticDiscriminantAnalysis \n",
    "\n",
    "# fit the model using sklearn \n",
    "model_qda = QuadraticDiscriminantAnalysis(store_covariance=True) \n",
    "model_qda.fit(X_train, y_train) \n",
    "y_hat_qda = model_qda.predict(X_test) \n",
    "pred_qda = list(map(round, y_hat_qda)) "
   ]
  },
  {
   "cell_type": "code",
   "execution_count": 7,
   "id": "0d328abb-6338-4df4-ace0-5194c3678266",
   "metadata": {},
   "outputs": [
    {
     "name": "stdout",
     "output_type": "stream",
     "text": [
      "Test accuracy =  1.0\n"
     ]
    },
    {
     "data": {
      "image/png": "[encoded data removed]",
      "text/plain": [
       "<Figure size 432x288 with 2 Axes>"
      ]
     },
     "metadata": {
      "needs_background": "light"
     },
     "output_type": "display_data"
    }
   ],
   "source": [
    "# confusion matrix \n",
    "cm_stat = confusion_matrix(y_test, pred_qda)  \n",
    "ConfusionMatrixDisplay(cm_stat).plot() \n",
    "# Accuracy \n",
    "print('Test accuracy = ', accuracy_score(y_test, pred_qda)) "
   ]
  },
  {
   "cell_type": "code",
   "execution_count": 8,
   "id": "549dae03-d449-4b5d-960f-7b2abfbe382c",
   "metadata": {},
   "outputs": [
    {
     "data": {
      "text/html": [
       "<div>\n",
       "<style scoped>\n",
       "    .dataframe tbody tr th:only-of-type {\n",
       "        vertical-align: middle;\n",
       "    }\n",
       "\n",
       "    .dataframe tbody tr th {\n",
       "        vertical-align: top;\n",
       "    }\n",
       "\n",
       "    .dataframe thead th {\n",
       "        text-align: right;\n",
       "    }\n",
       "</style>\n",
       "<table border=\"1\" class=\"dataframe\">\n",
       "  <thead>\n",
       "    <tr style=\"text-align: right;\">\n",
       "      <th></th>\n",
       "      <th>sepal_length</th>\n",
       "      <th>sepal_width</th>\n",
       "      <th>target</th>\n",
       "    </tr>\n",
       "  </thead>\n",
       "  <tbody>\n",
       "    <tr>\n",
       "      <th>0</th>\n",
       "      <td>5.1</td>\n",
       "      <td>3.5</td>\n",
       "      <td>0</td>\n",
       "    </tr>\n",
       "    <tr>\n",
       "      <th>1</th>\n",
       "      <td>4.9</td>\n",
       "      <td>3.0</td>\n",
       "      <td>0</td>\n",
       "    </tr>\n",
       "    <tr>\n",
       "      <th>2</th>\n",
       "      <td>4.7</td>\n",
       "      <td>3.2</td>\n",
       "      <td>0</td>\n",
       "    </tr>\n",
       "    <tr>\n",
       "      <th>3</th>\n",
       "      <td>4.6</td>\n",
       "      <td>3.1</td>\n",
       "      <td>0</td>\n",
       "    </tr>\n",
       "    <tr>\n",
       "      <th>4</th>\n",
       "      <td>5.0</td>\n",
       "      <td>3.6</td>\n",
       "      <td>0</td>\n",
       "    </tr>\n",
       "  </tbody>\n",
       "</table>\n",
       "</div>"
      ],
      "text/plain": [
       "   sepal_length  sepal_width  target\n",
       "0           5.1          3.5       0\n",
       "1           4.9          3.0       0\n",
       "2           4.7          3.2       0\n",
       "3           4.6          3.1       0\n",
       "4           5.0          3.6       0"
      ]
     },
     "execution_count": 8,
     "metadata": {},
     "output_type": "execute_result"
    }
   ],
   "source": [
    "df1 = df[[\"sepal_length\", \"sepal_width\", \"target\"]]\n",
    "df1.head()"
   ]
  },
  {
   "cell_type": "code",
   "execution_count": 9,
   "id": "485f553d-3cce-4e1c-b7cf-5ad1f76d7095",
   "metadata": {},
   "outputs": [
    {
     "data": {
      "image/png": "[encoded data removed]",
      "text/plain": [
       "<Figure size 576x576 with 1 Axes>"
      ]
     },
     "metadata": {},
     "output_type": "display_data"
    }
   ],
   "source": [
    "\n",
    "\n",
    "FIGSIZE = (8,8)\n",
    "Xax= np.array(df1[\"sepal_length\"])\n",
    "Yax= np.array(df1[\"sepal_width\"])\n",
    "labels= np.array(df1[\"target\"])\n",
    "cdict={0:'red',1:'green', 2 :'blue'}\n",
    "labl={0:'setosa',1:'versicolor', 2: 'virginica'}\n",
    "marker={0:'*',1:'o', 2:'p'}\n",
    "alpha={0:.3, 1:.5, 2:.3}\n",
    "fig,ax=plt.subplots(figsize=FIGSIZE)\n",
    "fig.patch.set_facecolor('white')\n",
    "for l in np.unique(labels):\n",
    "   ix=np.where(labels==l)\n",
    "   ax.scatter(Xax[ix],Yax[ix],c=cdict[l],s=40,label=labl[l],marker=marker[l],alpha=alpha[l])\n",
    "\n",
    "plt.xlabel(\"Sepal Length\",fontsize=14)\n",
    "plt.ylabel(\"Sepal Width\",fontsize=14)\n",
    "plt.legend()\n",
    "plt.show()"
   ]
  },
  {
   "cell_type": "code",
   "execution_count": 10,
   "id": "f74b2ffa-f030-49c2-8714-fa67642a7eed",
   "metadata": {},
   "outputs": [
    {
     "data": {
      "text/plain": [
       "(4.3, 7.9)"
      ]
     },
     "execution_count": 10,
     "metadata": {},
     "output_type": "execute_result"
    }
   ],
   "source": [
    "df1['sepal_length'].min(), df1['sepal_length'].max()"
   ]
  },
  {
   "cell_type": "code",
   "execution_count": 11,
   "id": "bbc25aef-307e-47a6-a163-d1fd5ee89bad",
   "metadata": {},
   "outputs": [
    {
     "data": {
      "text/plain": [
       "(2.0, 4.4)"
      ]
     },
     "execution_count": 11,
     "metadata": {},
     "output_type": "execute_result"
    }
   ],
   "source": [
    "df1['sepal_width'].min(), df1['sepal_width'].max()"
   ]
  },
  {
   "cell_type": "code",
   "execution_count": 12,
   "id": "7a7f381b-5022-423d-afaf-a19eefc159f0",
   "metadata": {},
   "outputs": [
    {
     "data": {
      "text/plain": [
       "QuadraticDiscriminantAnalysis(store_covariance=True)"
      ]
     },
     "execution_count": 12,
     "metadata": {},
     "output_type": "execute_result"
    }
   ],
   "source": [
    "df['species'] = df['target'] \n",
    "df['species'] = df['species'].apply(lambda x: 'setosa' if x==0 else('versicolor' if x==1 else 'virginica')) \n",
    " \n",
    "X = df.drop(['target','species'], axis=1) \n",
    "y = df['target'] \n",
    " \n",
    "model_qda = QuadraticDiscriminantAnalysis(store_covariance=True) \n",
    "model_qda.fit(X,y) "
   ]
  },
  {
   "cell_type": "code",
   "execution_count": 13,
   "id": "22cc90dd-7dd2-4d1c-9bd9-894a76f9821c",
   "metadata": {},
   "outputs": [],
   "source": [
    "df1['species'] = df1['target']\n",
    "df1['species'] = df1['species'].apply(lambda x: 'setosa' if x==0 else('versicolor' if x==1 else 'virginica'))"
   ]
  },
  {
   "cell_type": "code",
   "execution_count": 14,
   "id": "90277770-da7f-411c-8363-e512a8a6f03c",
   "metadata": {},
   "outputs": [
    {
     "data": {
      "text/plain": [
       "QuadraticDiscriminantAnalysis(store_covariance=True)"
      ]
     },
     "execution_count": 14,
     "metadata": {},
     "output_type": "execute_result"
    }
   ],
   "source": [
    "df1['species'] = df1['target'] \n",
    "df1['species'] = df1['species'].apply(lambda x: 'setosa' if x==0 else('versicolor' if x==1 else 'virginica')) \n",
    " \n",
    "X = df1.drop(['target','species'], axis=1) \n",
    "y = df1['target'] \n",
    " \n",
    "model_qda = QuadraticDiscriminantAnalysis(store_covariance=True) \n",
    "model_qda.fit(X,y) "
   ]
  },
  {
   "cell_type": "code",
   "execution_count": 15,
   "id": "0f513cd9-6ffb-4292-b131-1dc2def437dd",
   "metadata": {},
   "outputs": [],
   "source": [
    "sepal_length = np.linspace(4, 8, 500)\n",
    "sepal_width = np.linspace(1.5, 4.5, 500)\n",
    "sepal_length,sepal_width  = np.meshgrid(sepal_length, sepal_width)\n",
    "prediction = np.array([model_qda.predict( np.array([[x,y]])) for x,y in zip(np.ravel(sepal_length), np.ravel(sepal_width)) ]).reshape(sepal_length.shape)\n"
   ]
  },
  {
   "cell_type": "code",
   "execution_count": 16,
   "id": "4288a22f-065b-4aa7-857a-1d0bffe1099a",
   "metadata": {},
   "outputs": [
    {
     "data": {
      "image/png": "[encoded data removed]",
      "text/plain": [
       "<Figure size 660.75x576 with 1 Axes>"
      ]
     },
     "metadata": {
      "needs_background": "light"
     },
     "output_type": "display_data"
    }
   ],
   "source": [
    "fig = sns.FacetGrid(df1, hue=\"species\", size=8, palette = 'colorblind').map(plt.scatter, \"sepal_length\", \"sepal_width\").add_legend()\n",
    "figax = fig.ax\n",
    "figax.contourf(sepal_length,sepal_width, prediction, 2, alpha = .1, colors = ('red','green','blue'))\n",
    "figax.contour(sepal_length,sepal_width, prediction, 2, alpha = 1, colors = ('red','green','blue'))\n",
    "\n",
    "figax.set_xlabel('Sepal Length')\n",
    "figax.set_ylabel('Sepal Width')\n",
    "figax.set_title('QDA Visualization')\n",
    "\n",
    "plt.show()"
   ]
  },
  {
   "cell_type": "code",
   "execution_count": null,
   "id": "383d6061-c757-4800-a716-044c9c060458",
   "metadata": {},
   "outputs": [],
   "source": []
  },
  {
   "cell_type": "code",
   "execution_count": null,
   "id": "4d1ebb5b-cdfd-4e22-b7d1-14a8faacd3ca",
   "metadata": {},
   "outputs": [],
   "source": []
  }
 ],
 "metadata": {
  "kernelspec": {
   "display_name": "Python 3 (ipykernel)",
   "language": "python",
   "name": "python3"
  },
  "language_info": {
   "codemirror_mode": {
    "name": "ipython",
    "version": 3
   },
   "file_extension": ".py",
   "mimetype": "text/x-python",
   "name": "python",
   "nbconvert_exporter": "python",
   "pygments_lexer": "ipython3",
   "version": "3.9.7"
  }
 },
 "nbformat": 4,
 "nbformat_minor": 5
}
