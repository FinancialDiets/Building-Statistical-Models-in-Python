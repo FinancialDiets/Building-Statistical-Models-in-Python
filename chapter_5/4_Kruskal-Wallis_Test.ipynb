{
 "cells": [
  {
   "cell_type": "code",
   "execution_count": 1,
   "id": "d4eddd39-c814-4b43-bfdd-87559b1e649d",
   "metadata": {},
   "outputs": [],
   "source": [
    "from scipy import stats "
   ]
  },
  {
   "cell_type": "code",
   "execution_count": 2,
   "id": "707949a6-8144-4dd1-b4f6-f4848dc70e7c",
   "metadata": {},
   "outputs": [
    {
     "data": {
      "text/plain": [
       "KruskalResult(statistic=5.7342701722574905, pvalue=0.056861597028239855)"
      ]
     },
     "execution_count": 2,
     "metadata": {},
     "output_type": "execute_result"
    }
   ],
   "source": [
    "group1 = [8, 13, 13, 15, 12, 10, 6, 15, 13, 9] \n",
    "group2 = [16, 17, 14, 14, 15, 12, 9, 12, 11, 9] \n",
    "group3 = [7, 8, 9, 9, 4, 15, 13, 9, 11, 9] \n",
    "#Kruskal-Wallis Test  \n",
    "stats.kruskal(group1, group2, group3) "
   ]
  },
  {
   "cell_type": "code",
   "execution_count": null,
   "id": "fd24c334-fd3d-4ea5-aa65-8961680ae39b",
   "metadata": {},
   "outputs": [],
   "source": []
  }
 ],
 "metadata": {
  "kernelspec": {
   "display_name": "Python 3 (ipykernel)",
   "language": "python",
   "name": "python3"
  },
  "language_info": {
   "codemirror_mode": {
    "name": "ipython",
    "version": 3
   },
   "file_extension": ".py",
   "mimetype": "text/x-python",
   "name": "python",
   "nbconvert_exporter": "python",
   "pygments_lexer": "ipython3",
   "version": "3.9.7"
  }
 },
 "nbformat": 4,
 "nbformat_minor": 5
}
