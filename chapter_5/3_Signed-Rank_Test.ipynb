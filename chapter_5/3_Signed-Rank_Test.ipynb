{
 "cells": [
  {
   "cell_type": "code",
   "execution_count": 1,
   "id": "4fc0559a-59b5-42a6-a910-75dd3be64047",
   "metadata": {},
   "outputs": [],
   "source": [
    "import scipy.stats as stats \n",
    "import numpy as np \n"
   ]
  },
  {
   "cell_type": "code",
   "execution_count": 2,
   "id": "3bded326-b845-4fce-bf70-17bbb4f10d2d",
   "metadata": {},
   "outputs": [
    {
     "data": {
      "text/plain": [
       "WilcoxonResult(statistic=41.5, pvalue=0.013671875)"
      ]
     },
     "execution_count": 2,
     "metadata": {},
     "output_type": "execute_result"
    }
   ],
   "source": [
    "before_treatment   = np.array([37, 14, 22, 12, 24, 35, 35, 51,39]) \n",
    "after_treatment = np.array([38,17, 19, 7, 15, 25, 24, 38,19]) \n",
    " \n",
    "# Signed Rank Test \n",
    "stats.wilcoxon(before_treatment, after_treatment, alternative = 'greater') "
   ]
  },
  {
   "cell_type": "code",
   "execution_count": null,
   "id": "75ebbeac-5da0-4731-ba91-5aaf51e4c0b7",
   "metadata": {},
   "outputs": [],
   "source": []
  }
 ],
 "metadata": {
  "kernelspec": {
   "display_name": "Python 3 (ipykernel)",
   "language": "python",
   "name": "python3"
  },
  "language_info": {
   "codemirror_mode": {
    "name": "ipython",
    "version": 3
   },
   "file_extension": ".py",
   "mimetype": "text/x-python",
   "name": "python",
   "nbconvert_exporter": "python",
   "pygments_lexer": "ipython3",
   "version": "3.9.7"
  }
 },
 "nbformat": 4,
 "nbformat_minor": 5
}
