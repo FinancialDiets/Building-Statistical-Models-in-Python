{
 "cells": [
  {
   "cell_type": "markdown",
   "id": "bec277b5-6670-481e-8eed-8bc0bed52176",
   "metadata": {},
   "source": [
    "# Rank-Sum Test\n",
    "\n",
    "This notebook walksthrough an example of a Rank-Sum test,\n",
    "which is also called the Mann-Whitney U test.\n",
    "The name used in `scipy` is `mannwhitneyu`.\n",
    "\n",
    "In this notebook, we will pull a dataset containing gpa, iq, gender, and a test score for 390 students.\n",
    "We will test for a difference in the location of the distribution of IQ for the students that scored above the 90th percentile (top 10% of teh scores) and the students that score in the 10th percentile (bottom 10% of the scores).\n",
    "The label `concept` in the data corresponds to the test score."
   ]
  },
  {
   "cell_type": "code",
   "execution_count": 1,
   "id": "0ddf1bee-c25e-413d-aaea-e31e7c0a05e9",
   "metadata": {},
   "outputs": [],
   "source": [
    "import os\n",
    "import requests\n",
    "\n",
    "# package for reading rda files\n",
    "import pyreadr\n",
    "\n",
    "import numpy as np\n",
    "import pandas as pd\n",
    "from scipy.stats import norm\n",
    "from scipy.stats import mannwhitneyu\n",
    "import statsmodels.api as sm\n",
    "import matplotlib.pyplot as plt\n"
   ]
  },
  {
   "cell_type": "code",
   "execution_count": 2,
   "id": "58f4ae6c-04d2-4dbe-a989-9b2799fdf917",
   "metadata": {},
   "outputs": [],
   "source": [
    "# download and unpack the data\n",
    "data_file = \"iq.rda\"\n",
    "if not os.path.exists(data_file):\n",
    "    r = requests.get(\"https://github.com/OpenIntroStat/openintro/raw/master/data/gpa_iq.rda\")\n",
    "    with open(data_file, 'wb') as f:\n",
    "        f.write(r.content)\n",
    "data = pyreadr.read_r('iq.rda')\n",
    "data = data[\"gpa_iq\"]"
   ]
  },
  {
   "cell_type": "code",
   "execution_count": 3,
   "id": "8bf76c4e-88a3-4aea-b877-8cd9e3aaf683",
   "metadata": {},
   "outputs": [
    {
     "data": {
      "text/html": [
       "<div>\n",
       "<style scoped>\n",
       "    .dataframe tbody tr th:only-of-type {\n",
       "        vertical-align: middle;\n",
       "    }\n",
       "\n",
       "    .dataframe tbody tr th {\n",
       "        vertical-align: top;\n",
       "    }\n",
       "\n",
       "    .dataframe thead th {\n",
       "        text-align: right;\n",
       "    }\n",
       "</style>\n",
       "<table border=\"1\" class=\"dataframe\">\n",
       "  <thead>\n",
       "    <tr style=\"text-align: right;\">\n",
       "      <th></th>\n",
       "      <th>obs</th>\n",
       "      <th>gpa</th>\n",
       "      <th>iq</th>\n",
       "      <th>gender</th>\n",
       "      <th>concept</th>\n",
       "    </tr>\n",
       "  </thead>\n",
       "  <tbody>\n",
       "    <tr>\n",
       "      <th>0</th>\n",
       "      <td>1</td>\n",
       "      <td>7.940</td>\n",
       "      <td>111</td>\n",
       "      <td>2</td>\n",
       "      <td>67</td>\n",
       "    </tr>\n",
       "    <tr>\n",
       "      <th>1</th>\n",
       "      <td>2</td>\n",
       "      <td>8.292</td>\n",
       "      <td>107</td>\n",
       "      <td>2</td>\n",
       "      <td>43</td>\n",
       "    </tr>\n",
       "    <tr>\n",
       "      <th>2</th>\n",
       "      <td>3</td>\n",
       "      <td>4.643</td>\n",
       "      <td>100</td>\n",
       "      <td>2</td>\n",
       "      <td>52</td>\n",
       "    </tr>\n",
       "    <tr>\n",
       "      <th>3</th>\n",
       "      <td>4</td>\n",
       "      <td>7.470</td>\n",
       "      <td>107</td>\n",
       "      <td>2</td>\n",
       "      <td>66</td>\n",
       "    </tr>\n",
       "    <tr>\n",
       "      <th>4</th>\n",
       "      <td>5</td>\n",
       "      <td>8.882</td>\n",
       "      <td>114</td>\n",
       "      <td>1</td>\n",
       "      <td>58</td>\n",
       "    </tr>\n",
       "  </tbody>\n",
       "</table>\n",
       "</div>"
      ],
      "text/plain": [
       "   obs    gpa   iq  gender  concept\n",
       "0    1  7.940  111       2       67\n",
       "1    2  8.292  107       2       43\n",
       "2    3  4.643  100       2       52\n",
       "3    4  7.470  107       2       66\n",
       "4    5  8.882  114       1       58"
      ]
     },
     "execution_count": 3,
     "metadata": {},
     "output_type": "execute_result"
    }
   ],
   "source": [
    "data.head()"
   ]
  },
  {
   "cell_type": "code",
   "execution_count": 24,
   "id": "6dfb2c65-27e6-4158-a1f4-978c0b2ff768",
   "metadata": {},
   "outputs": [
    {
     "data": {
      "text/plain": [
       "390"
      ]
     },
     "execution_count": 24,
     "metadata": {},
     "output_type": "execute_result"
    }
   ],
   "source": [
    "data.size"
   ]
  },
  {
   "cell_type": "markdown",
   "id": "1c82cf72-b45c-4bc1-9edb-1a214edd4e4b",
   "metadata": {},
   "source": [
    "We want to look at the difference in IQ of students who scored in the top 10 percent (90th percentile and above) and in the bottom 10 percent (10th percentile and below) of the group."
   ]
  },
  {
   "cell_type": "code",
   "execution_count": 4,
   "id": "76a88748-c280-4230-b793-121a26a70125",
   "metadata": {},
   "outputs": [
    {
     "name": "stdout",
     "output_type": "stream",
     "text": [
      "The lower 10% score is 39 and the upper 10% score is 70\n",
      "The mean lower 10% score is 97.0 and the mean upper 10% score is 118.3\n"
     ]
    }
   ],
   "source": [
    "lower_bound, upper_bound = np.percentile(data.concept.values, [10, 90], method='closest_observation')\n",
    "\n",
    "higher_score_iqs = data[data.concept >= upper_bound].iq\n",
    "higher_score_iqs_mean = np.mean(higher_score_iqs)\n",
    "\n",
    "lower_score_iqs = data[data.concept <= lower_bound].iq\n",
    "lower_score_iqs_mean = np.mean(lower_score_iqs)\n",
    "\n",
    "print(f\"The lower 10% score is {lower_bound} and the upper 10% score is {upper_bound}\")\n",
    "print(f\"The mean lower 10% score is {lower_score_iqs_mean} and the mean upper 10% score is {higher_score_iqs_mean:0.1f}\")"
   ]
  },
  {
   "cell_type": "markdown",
   "id": "ab53478c-cd62-4393-a60b-a5c89d102da2",
   "metadata": {},
   "source": [
    "The plot below shows the distribution of scores for the students in the top 10%\n",
    "and the distribution of scores for the student in the bottom 10%."
   ]
  },
  {
   "cell_type": "code",
   "execution_count": 5,
   "id": "81fbaade-4945-4227-a7ec-31db15f03b80",
   "metadata": {},
   "outputs": [
    {
     "data": {
      "image/png": "[encoded data removed]",
      "text/plain": [
       "<Figure size 432x288 with 1 Axes>"
      ]
     },
     "metadata": {
      "needs_background": "light"
     },
     "output_type": "display_data"
    }
   ],
   "source": [
    "plt.hist(lower_score_iqs, label='lower_iq')\n",
    "plt.vlines(lower_score_iqs_mean, 0, 4, colors='red')\n",
    "plt.text(lower_score_iqs_mean - 2, 2.5,'Lower IQ Mean',rotation=90)\n",
    "plt.hist(higher_score_iqs, label='higher_iq')\n",
    "plt.vlines(higher_score_iqs_mean, 0, 4, colors='red')\n",
    "plt.text(higher_score_iqs_mean - 2, 2.5,'Higher IQ Mean',rotation=90)\n",
    "plt.legend()\n",
    "plt.title(\"Distribution of Scores from Lower and Higher IQ Students\");"
   ]
  },
  {
   "cell_type": "markdown",
   "id": "c194817a-0ee2-4821-9bfa-4ab998a7979c",
   "metadata": {},
   "source": [
    "## Check Assumptions\n",
    "\n",
    "Recall for the t-test there are 3 assumptions\n",
    "\n",
    "1. The datasets are normally distributed\n",
    "2. The datasets have equal variance (though we can use Welch's t-test with unequal variances)\n",
    "3. The samples are independent\n",
    "\n",
    "For the purposes of this exercise,\n",
    "we will assume the assumption of independence is met,\n",
    "but keep in mind that we do not know how this data was sampled.\n",
    "We will check the other two assumptions in the cells below.\n",
    "\n",
    "### Normality\n",
    "\n",
    "Based on the plots below,\n",
    "the datasets do NOT appear to be normally distributed."
   ]
  },
  {
   "cell_type": "code",
   "execution_count": 6,
   "id": "bfcf6fa2-d509-414b-8390-40d6b1e32ade",
   "metadata": {},
   "outputs": [
    {
     "name": "stderr",
     "output_type": "stream",
     "text": [
      "/var/folders/x7/_cy_rqsj03111rr15vx6_jh80000gn/T/ipykernel_32165/2889662839.py:5: UserWarning: Matplotlib is currently using module://matplotlib_inline.backend_inline, which is a non-GUI backend, so cannot show the figure.\n",
      "  fig.show();\n"
     ]
    },
    {
     "data": {
      "image/png": "[encoded data removed]",
      "text/plain": [
       "<Figure size 720x360 with 2 Axes>"
      ]
     },
     "metadata": {
      "needs_background": "light"
     },
     "output_type": "display_data"
    }
   ],
   "source": [
    "fig, ax = plt.subplots(1,2, figsize=(10,5))\n",
    "sm.qqplot(higher_score_iqs, line='s', ax=ax[0])\n",
    "ax[1].hist(higher_score_iqs)\n",
    "fig.suptitle(\"Scores from Students with Top 10% IQs\")\n",
    "fig.show();"
   ]
  },
  {
   "cell_type": "code",
   "execution_count": 7,
   "id": "427bf6ff-64ff-4685-93be-dc040fbbe05b",
   "metadata": {},
   "outputs": [
    {
     "name": "stderr",
     "output_type": "stream",
     "text": [
      "/var/folders/x7/_cy_rqsj03111rr15vx6_jh80000gn/T/ipykernel_32165/354991212.py:5: UserWarning: Matplotlib is currently using module://matplotlib_inline.backend_inline, which is a non-GUI backend, so cannot show the figure.\n",
      "  fig.show();\n"
     ]
    },
    {
     "data": {
      "image/png": "[encoded data removed]",
      "text/plain": [
       "<Figure size 720x360 with 2 Axes>"
      ]
     },
     "metadata": {
      "needs_background": "light"
     },
     "output_type": "display_data"
    }
   ],
   "source": [
    "fig, ax = plt.subplots(1,2, figsize=(10,5))\n",
    "sm.qqplot(lower_score_iqs, line='s', ax=ax[0])\n",
    "ax[1].hist(lower_score_iqs)\n",
    "fig.suptitle(\"Scores from Students with Bottom 10% IQs\")\n",
    "fig.show();"
   ]
  },
  {
   "cell_type": "markdown",
   "id": "533d9b4d-a438-40a6-8205-b9b58ca92833",
   "metadata": {},
   "source": [
    "### Equal Variances\n",
    "\n",
    "The plot below shows the distribution of each group.\n",
    "Based on the plot, the groups appear to have different variances."
   ]
  },
  {
   "cell_type": "code",
   "execution_count": 8,
   "id": "77e8c578-e1e9-4204-961d-cfc1d4083aaa",
   "metadata": {},
   "outputs": [
    {
     "data": {
      "image/png": "[encoded data removed]",
      "text/plain": [
       "<Figure size 432x288 with 1 Axes>"
      ]
     },
     "metadata": {
      "needs_background": "light"
     },
     "output_type": "display_data"
    }
   ],
   "source": [
    "plt.hist(lower_score_iqs, label='lower_iq')\n",
    "plt.hist(higher_score_iqs, label='higher_iq')\n",
    "plt.legend()\n",
    "plt.title(\"Distribution of Scores from Lower and Higher IQ Students\");"
   ]
  },
  {
   "cell_type": "markdown",
   "id": "fa307bdb-9c5b-43a2-b286-d499810ec5f6",
   "metadata": {},
   "source": [
    "The assessment showed that both the assumption of normality\n",
    "and the assumption of equal variances appear to be violated.\n",
    "\n",
    "When the assumptions of the t-test are violated, the results will be invalid.\n",
    "As discussed a nonparametric alterative test is the Rank-Sum test.\n",
    "\n",
    "The Rank-Sum test is "
   ]
  },
  {
   "cell_type": "code",
   "execution_count": 9,
   "id": "c843b6f2-5762-4255-ab07-03eb094dd329",
   "metadata": {},
   "outputs": [
    {
     "data": {
      "text/plain": [
       "6     111\n",
       "25    128\n",
       "26    128\n",
       "32    124\n",
       "36    106\n",
       "37    118\n",
       "41    126\n",
       "42    116\n",
       "43    127\n",
       "65    105\n",
       "74    112\n",
       "Name: iq, dtype: int32"
      ]
     },
     "execution_count": 9,
     "metadata": {},
     "output_type": "execute_result"
    }
   ],
   "source": [
    "higher_score_iqs"
   ]
  },
  {
   "cell_type": "code",
   "execution_count": 10,
   "id": "1eeb4c45-d0a4-4434-a8c6-e515957ffe36",
   "metadata": {},
   "outputs": [
    {
     "data": {
      "text/plain": [
       "10    104\n",
       "21    109\n",
       "31    111\n",
       "57     79\n",
       "67    107\n",
       "69     77\n",
       "72     96\n",
       "76     93\n",
       "Name: iq, dtype: int32"
      ]
     },
     "execution_count": 10,
     "metadata": {},
     "output_type": "execute_result"
    }
   ],
   "source": [
    "lower_score_iqs"
   ]
  },
  {
   "cell_type": "code",
   "execution_count": 11,
   "id": "5ff3c1e4-5fce-4836-9694-4d4549562bf1",
   "metadata": {},
   "outputs": [
    {
     "data": {
      "text/plain": [
       "0.00222925216588146"
      ]
     },
     "execution_count": 11,
     "metadata": {},
     "output_type": "execute_result"
    }
   ],
   "source": [
    "mannwhitneyu(higher_score_iqs, lower_score_iqs).pvalue"
   ]
  },
  {
   "cell_type": "markdown",
   "id": "fb176b26-de96-4084-8c43-3d8cef9ac898",
   "metadata": {},
   "source": [
    "## Signed Rank Test Manually"
   ]
  },
  {
   "cell_type": "code",
   "execution_count": 12,
   "id": "a14aad29-2f91-4b19-90dc-e85490eef469",
   "metadata": {},
   "outputs": [],
   "source": [
    "# label L group with 0 and H group with 1\n",
    "group_labels = np.concatenate([np.zeros_like(lower_score_iqs), np.ones_like(higher_score_iqs)])\n",
    "# combine all samples\n",
    "all_samples = np.concatenate([lower_score_iqs, higher_score_iqs])"
   ]
  },
  {
   "cell_type": "code",
   "execution_count": 13,
   "id": "1df4a662-06d4-45c0-aa19-5d8abc4d12b2",
   "metadata": {},
   "outputs": [],
   "source": [
    "# create dataframe from samples and group labels\n",
    "df = pd.DataFrame(\n",
    "    {\n",
    "        'samples' : all_samples,\n",
    "        'group' : group_labels,\n",
    "    }\n",
    ")\n",
    "# sort records by sample value\n",
    "df = df.sort_values('samples').reset_index(drop=True)\n",
    "# rank values from 1\n",
    "df['raw_rank'] = df.index.values + 1\n",
    "# correct ranks where ties occur\n",
    "df['rank_'] = df.samples.apply(lambda x: df[df.samples==x].raw_rank.mean() if df.samples.value_counts().loc[x] > 1 else df[df.samples==x].raw_rank.iloc[0])"
   ]
  },
  {
   "cell_type": "code",
   "execution_count": 14,
   "id": "65cc82d6-d41e-499f-9056-d94b16d0fd75",
   "metadata": {},
   "outputs": [
    {
     "data": {
      "text/html": [
       "<div>\n",
       "<style scoped>\n",
       "    .dataframe tbody tr th:only-of-type {\n",
       "        vertical-align: middle;\n",
       "    }\n",
       "\n",
       "    .dataframe tbody tr th {\n",
       "        vertical-align: top;\n",
       "    }\n",
       "\n",
       "    .dataframe thead th {\n",
       "        text-align: right;\n",
       "    }\n",
       "</style>\n",
       "<table border=\"1\" class=\"dataframe\">\n",
       "  <thead>\n",
       "    <tr style=\"text-align: right;\">\n",
       "      <th></th>\n",
       "      <th>samples</th>\n",
       "      <th>group</th>\n",
       "      <th>raw_rank</th>\n",
       "      <th>rank_</th>\n",
       "    </tr>\n",
       "  </thead>\n",
       "  <tbody>\n",
       "    <tr>\n",
       "      <th>0</th>\n",
       "      <td>77</td>\n",
       "      <td>0</td>\n",
       "      <td>1</td>\n",
       "      <td>1.0</td>\n",
       "    </tr>\n",
       "    <tr>\n",
       "      <th>1</th>\n",
       "      <td>79</td>\n",
       "      <td>0</td>\n",
       "      <td>2</td>\n",
       "      <td>2.0</td>\n",
       "    </tr>\n",
       "    <tr>\n",
       "      <th>2</th>\n",
       "      <td>93</td>\n",
       "      <td>0</td>\n",
       "      <td>3</td>\n",
       "      <td>3.0</td>\n",
       "    </tr>\n",
       "    <tr>\n",
       "      <th>3</th>\n",
       "      <td>96</td>\n",
       "      <td>0</td>\n",
       "      <td>4</td>\n",
       "      <td>4.0</td>\n",
       "    </tr>\n",
       "    <tr>\n",
       "      <th>4</th>\n",
       "      <td>104</td>\n",
       "      <td>0</td>\n",
       "      <td>5</td>\n",
       "      <td>5.0</td>\n",
       "    </tr>\n",
       "  </tbody>\n",
       "</table>\n",
       "</div>"
      ],
      "text/plain": [
       "   samples  group  raw_rank  rank_\n",
       "0       77      0         1    1.0\n",
       "1       79      0         2    2.0\n",
       "2       93      0         3    3.0\n",
       "3       96      0         4    4.0\n",
       "4      104      0         5    5.0"
      ]
     },
     "execution_count": 14,
     "metadata": {},
     "output_type": "execute_result"
    }
   ],
   "source": [
    "df.head()"
   ]
  },
  {
   "cell_type": "code",
   "execution_count": 15,
   "id": "67b40bd5-4acc-4803-9f05-e0d6c345f688",
   "metadata": {},
   "outputs": [
    {
     "name": "stdout",
     "output_type": "stream",
     "text": [
      "42.5\n"
     ]
    }
   ],
   "source": [
    "# get the test statistic\n",
    "T = df[df.group==0].rank_.sum()\n",
    "print(T)"
   ]
  },
  {
   "cell_type": "code",
   "execution_count": 16,
   "id": "73c9c7aa-877e-4e9a-a707-429e5abc4740",
   "metadata": {},
   "outputs": [
    {
     "data": {
      "text/plain": [
       "80.0"
      ]
     },
     "execution_count": 16,
     "metadata": {},
     "output_type": "execute_result"
    }
   ],
   "source": [
    "# get term Mean(T)\n",
    "mean_T = df.rank_.mean() * df[df.group==0].rank_.size\n",
    "mean_T"
   ]
  },
  {
   "cell_type": "code",
   "execution_count": 18,
   "id": "b2cd021c-bc0d-445f-a3df-48542d1ec998",
   "metadata": {},
   "outputs": [
    {
     "data": {
      "text/plain": [
       "12.099973418365273"
      ]
     },
     "execution_count": 18,
     "metadata": {},
     "output_type": "execute_result"
    }
   ],
   "source": [
    "# get term STDEV(T)\n",
    "def pooled_size(n1, n2):\n",
    "    return np.sqrt(n1 * n2 / (n1 + n2))\n",
    "\n",
    "ps = pooled_size(df[df.group==0].rank_.size, df[df.group==1].rank_.size)\n",
    "\n",
    "sd_T = df.rank_.std() * ps\n",
    "sd_T"
   ]
  },
  {
   "cell_type": "code",
   "execution_count": 19,
   "id": "584f32f3-c794-49c2-9625-8ef37031a228",
   "metadata": {},
   "outputs": [
    {
     "data": {
      "text/plain": [
       "-3.099180362089284"
      ]
     },
     "execution_count": 19,
     "metadata": {},
     "output_type": "execute_result"
    }
   ],
   "source": [
    "# get approx Z\n",
    "Z = (T - mean_T)/sd_T\n",
    "Z"
   ]
  },
  {
   "cell_type": "code",
   "execution_count": 23,
   "id": "d649a410-cb5c-403b-aebc-a6572de64665",
   "metadata": {},
   "outputs": [
    {
     "data": {
      "text/plain": [
       "0.0019405684525695872"
      ]
     },
     "execution_count": 23,
     "metadata": {},
     "output_type": "execute_result"
    }
   ],
   "source": [
    "# get p-value\n",
    "norm.cdf(Z) * 2"
   ]
  }
 ],
 "metadata": {
  "kernelspec": {
   "display_name": "Python 3 (ipykernel)",
   "language": "python",
   "name": "python3"
  },
  "language_info": {
   "codemirror_mode": {
    "name": "ipython",
    "version": 3
   },
   "file_extension": ".py",
   "mimetype": "text/x-python",
   "name": "python",
   "nbconvert_exporter": "python",
   "pygments_lexer": "ipython3",
   "version": "3.8.0"
  }
 },
 "nbformat": 4,
 "nbformat_minor": 5
}
