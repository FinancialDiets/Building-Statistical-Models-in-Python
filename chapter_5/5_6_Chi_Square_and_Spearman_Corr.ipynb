{
 "cells": [
  {
   "cell_type": "markdown",
   "id": "46eb09fa-1dc2-4416-b486-ff41fa778171",
   "metadata": {},
   "source": [
    "# Chi-Square Distribution"
   ]
  },
  {
   "cell_type": "code",
   "execution_count": 66,
   "id": "01737496-7713-4a82-9688-2e5d66c0e5ef",
   "metadata": {},
   "outputs": [
    {
     "data": {
      "text/plain": [
       "''"
      ]
     },
     "execution_count": 66,
     "metadata": {},
     "output_type": "execute_result"
    },
    {
     "data": {
      "image/png": "[encoded data removed]",
      "text/plain": [
       "<Figure size 432x288 with 1 Axes>"
      ]
     },
     "metadata": {
      "needs_background": "light"
     },
     "output_type": "display_data"
    }
   ],
   "source": [
    "import matplotlib.pyplot as plt\n",
    "import seaborn as sns\n",
    "import numpy as np\n",
    "\n",
    "x = np.random.chisquare(7, size=1000000)\n",
    "ax = sns.kdeplot(x=x, fill=True, color='#17FF7D')\n",
    "ax.set(ylabel=None)\n",
    "ax.set_title('Chi-Square Distribution')\n",
    "ax.set_xlabel('x')\n",
    "plt.savefig('./ChiSquareDist.png', dpi=300, facecolor='w', bbox_inches = \"tight\")\n",
    ";"
   ]
  },
  {
   "cell_type": "code",
   "execution_count": 8,
   "id": "8e9e7f90-f2c3-467f-b573-b8a44c9afded",
   "metadata": {},
   "outputs": [
    {
     "data": {
      "text/plain": [
       "''"
      ]
     },
     "execution_count": 8,
     "metadata": {},
     "output_type": "execute_result"
    },
    {
     "data": {
      "image/png": "[encoded data removed]",
      "text/plain": [
       "<Figure size 432x288 with 1 Axes>"
      ]
     },
     "metadata": {
      "needs_background": "light"
     },
     "output_type": "display_data"
    }
   ],
   "source": [
    "import matplotlib.pyplot as plt\n",
    "import seaborn as sns\n",
    "import numpy as np\n",
    "\n",
    "x = np.random.chisquare(1, size=1000000)\n",
    "ax = sns.kdeplot(x=x, fill=True, color='#17FF7D')\n",
    "ax.set(ylabel=None)\n",
    "ax.set_title('Chi-Square Distribution')\n",
    "ax.set_xlabel('x')\n",
    "plt.savefig('./ChiSquareDist.png', dpi=300, facecolor='w', bbox_inches = \"tight\")\n",
    ";"
   ]
  },
  {
   "cell_type": "markdown",
   "id": "6fdfdc5e-4bb7-4ba9-9209-39824bd66817",
   "metadata": {},
   "source": [
    "# Chi-Square Goodness of Fit Test"
   ]
  },
  {
   "cell_type": "code",
   "execution_count": 1,
   "id": "2b8b716a-1fbf-44d2-85f4-77e4bfc07a74",
   "metadata": {},
   "outputs": [
    {
     "name": "stdout",
     "output_type": "stream",
     "text": [
      "Chi-Square Test Statistic: 15.0000\n",
      "Chi-Square Critical Value: 5.9915\n",
      "P-Value: 0.0006\n"
     ]
    }
   ],
   "source": [
    "from statsmodels.stats.gof import chisquare\n",
    "from scipy.stats import chi2\n",
    "\n",
    "chi_square_stat, p_value = chisquare(f_obs=[45, 30, 15], f_exp=[30, 30, 30])\n",
    "chi_square_critical_value = chi2.ppf(1-.05, df=2)\n",
    "print('Chi-Square Test Statistic: %.4f'%chi_square_stat)\n",
    "print('Chi-Square Critical Value: %.4f'%chi_square_critical_value)\n",
    "print('P-Value: %.4f'%p_value)"
   ]
  },
  {
   "cell_type": "code",
   "execution_count": 3,
   "id": "e9f64362-61de-4a67-8e64-236aa75392c6",
   "metadata": {},
   "outputs": [
    {
     "name": "stdout",
     "output_type": "stream",
     "text": [
      "Chi-Square Test Statistic: 3.0000\n",
      "Chi-Square Critical Value: 5.9915\n",
      "P-Value: 0.0833\n"
     ]
    }
   ],
   "source": [
    "from statsmodels.stats.gof import chisquare\n",
    "from scipy.stats import chi2\n",
    "\n",
    "chi_square_stat, p_value = chisquare(f_obs=[45, 30], f_exp=[37.5, 37.5])\n",
    "chi_square_critical_value = chi2.ppf(1-.05, df=2)\n",
    "print('Chi-Square Test Statistic: %.4f'%chi_square_stat)\n",
    "print('Chi-Square Critical Value: %.4f'%chi_square_critical_value)\n",
    "print('P-Value: %.4f'%p_value)"
   ]
  },
  {
   "cell_type": "markdown",
   "id": "26857f72-61d7-42be-892c-ff066049ddad",
   "metadata": {},
   "source": [
    "# Chi-Square Test of Independence"
   ]
  },
  {
   "cell_type": "code",
   "execution_count": 4,
   "id": "895b7ad8-4789-48c4-9aa7-ae811042ff07",
   "metadata": {},
   "outputs": [
    {
     "name": "stdout",
     "output_type": "stream",
     "text": [
      "Chi-Square Test Statistic: 27915.1221\n",
      "Chi-Square Critical Value: 3.8415\n",
      "P-Value: 0.0000\n"
     ]
    }
   ],
   "source": [
    "from scipy.stats import chi2_contingency\n",
    "from scipy.stats import chi2\n",
    "import numpy as np\n",
    "\n",
    "observed_frequencies = np.array([[1429, 1235], [1216934, 22663]])\n",
    "chi_Square_test_statistic, p_value, degrees_of_freedom, expected_frequencies = chi2_contingency(observed_frequencies)\n",
    "chi_square_critical_value = chi2.ppf(1-.05, df=degrees_of_freedom)\n",
    "\n",
    "print('Chi-Square Test Statistic: %.4f'%chi_Square_test_statistic)\n",
    "print('Chi-Square Critical Value: %.4f'%chi_square_critical_value)\n",
    "print('P-Value: %.4f'%p_value)"
   ]
  },
  {
   "cell_type": "markdown",
   "id": "672047c6-1b6c-4c08-8361-c3172f8c9b13",
   "metadata": {},
   "source": [
    "# Spearman's Rank Correlation Coefficient"
   ]
  },
  {
   "cell_type": "code",
   "execution_count": 42,
   "id": "aa7e7004-500e-4e02-be66-918385cf5e6a",
   "metadata": {},
   "outputs": [
    {
     "name": "stdout",
     "output_type": "stream",
     "text": [
      "Spearman Correlation Coefficient: 0.7748\n",
      "P-Value: 0.0408\n"
     ]
    }
   ],
   "source": [
    "from scipy.stats import spearmanr\n",
    "import pandas as pd\n",
    "\n",
    "df_scores = pd.DataFrame({'Judge A':[1, 3, 5, 7, 8, 3, 9],\n",
    "                          'Judge B':[2, 5, 3, 9, 6, 1, 7]})\n",
    "\n",
    "correlation, p_value = spearmanr(df_scores['Judge A'], df_scores['Judge B'])\n",
    "\n",
    "print('Spearman Correlation Coefficient: %.4f'%correlation)\n",
    "print('P-Value: %.4f'%p_value)"
   ]
  },
  {
   "cell_type": "code",
   "execution_count": 41,
   "id": "a9bc6e64-7cb3-4fd9-8677-e8c26e440380",
   "metadata": {},
   "outputs": [
    {
     "data": {
      "text/html": [
       "<div>\n",
       "<style scoped>\n",
       "    .dataframe tbody tr th:only-of-type {\n",
       "        vertical-align: middle;\n",
       "    }\n",
       "\n",
       "    .dataframe tbody tr th {\n",
       "        vertical-align: top;\n",
       "    }\n",
       "\n",
       "    .dataframe thead th {\n",
       "        text-align: right;\n",
       "    }\n",
       "</style>\n",
       "<table border=\"1\" class=\"dataframe\">\n",
       "  <thead>\n",
       "    <tr style=\"text-align: right;\">\n",
       "      <th></th>\n",
       "      <th>Judge A</th>\n",
       "      <th>Judge B</th>\n",
       "    </tr>\n",
       "  </thead>\n",
       "  <tbody>\n",
       "    <tr>\n",
       "      <th>0</th>\n",
       "      <td>1</td>\n",
       "      <td>2</td>\n",
       "    </tr>\n",
       "    <tr>\n",
       "      <th>1</th>\n",
       "      <td>3</td>\n",
       "      <td>5</td>\n",
       "    </tr>\n",
       "    <tr>\n",
       "      <th>2</th>\n",
       "      <td>5</td>\n",
       "      <td>3</td>\n",
       "    </tr>\n",
       "    <tr>\n",
       "      <th>3</th>\n",
       "      <td>7</td>\n",
       "      <td>9</td>\n",
       "    </tr>\n",
       "    <tr>\n",
       "      <th>4</th>\n",
       "      <td>8</td>\n",
       "      <td>6</td>\n",
       "    </tr>\n",
       "    <tr>\n",
       "      <th>5</th>\n",
       "      <td>3</td>\n",
       "      <td>1</td>\n",
       "    </tr>\n",
       "    <tr>\n",
       "      <th>6</th>\n",
       "      <td>9</td>\n",
       "      <td>7</td>\n",
       "    </tr>\n",
       "  </tbody>\n",
       "</table>\n",
       "</div>"
      ],
      "text/plain": [
       "   Judge A  Judge B\n",
       "0        1        2\n",
       "1        3        5\n",
       "2        5        3\n",
       "3        7        9\n",
       "4        8        6\n",
       "5        3        1\n",
       "6        9        7"
      ]
     },
     "execution_count": 41,
     "metadata": {},
     "output_type": "execute_result"
    }
   ],
   "source": [
    "df_scores"
   ]
  },
  {
   "cell_type": "code",
   "execution_count": 37,
   "id": "113e4e52-897c-4af7-bb6c-e51f1faed38d",
   "metadata": {},
   "outputs": [],
   "source": [
    "import pandas as pd\n",
    "import seaborn as sns\n",
    "\n",
    "df_scores = pd.DataFrame({'Judge A':[1, 3, 5, 7, 8, 3, 9],\n",
    "                          'Judge B':[8, 9, 13, 15, 18, 9, 21]})"
   ]
  },
  {
   "cell_type": "code",
   "execution_count": 31,
   "id": "ed3b1820-5cfc-4b0f-a487-d7511a10b616",
   "metadata": {},
   "outputs": [],
   "source": [
    "import pandas as pd\n",
    "import seaborn as sns\n",
    "\n",
    "df_scores = pd.DataFrame({'Judge A':[1, 3, 5, 7, 8, 3, 9],\n",
    "                          'Judge B':[2, 5, 3, 9, 6, 1, 7],\n",
    "                          'Judge C':[4, 6, 2, 8, 7, 2, 8]})"
   ]
  }
 ],
 "metadata": {
  "kernelspec": {
   "display_name": "Python 3",
   "language": "python",
   "name": "python3"
  },
  "language_info": {
   "codemirror_mode": {
    "name": "ipython",
    "version": 3
   },
   "file_extension": ".py",
   "mimetype": "text/x-python",
   "name": "python",
   "nbconvert_exporter": "python",
   "pygments_lexer": "ipython3",
   "version": "3.8.3"
  }
 },
 "nbformat": 4,
 "nbformat_minor": 5
}
