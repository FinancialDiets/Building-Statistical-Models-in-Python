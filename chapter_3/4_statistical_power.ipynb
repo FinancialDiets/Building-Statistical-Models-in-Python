{
 "cells": [
  {
   "cell_type": "markdown",
   "id": "8369849e-5829-48f0-ab4e-9481694e5e9e",
   "metadata": {},
   "source": [
    "# Power analysis requires normally distributed data\n",
    "\n",
    "It has been proposed to use monte carlo-based power analyses to run t-tests on non-normally distributed data."
   ]
  },
  {
   "cell_type": "markdown",
   "id": "ea925a28-b83b-482b-ba3d-ab9f2e202e02",
   "metadata": {},
   "source": [
    "# One-Sample T-Test\n",
    "The following is an example of the Student's T-Test in action. Simply stated, a Student's T-Test is a method for testing the hypothesis that a value (in a one-sample t-test) or a distribution (in two-sample independent t-test) is equal to a sample distribution obtained from  anormally distributed population. The t-test assumes normality, but is robust to moderate violations against this asumption such that a distributions with a reasonably sized volume of extreme outliers may render this test inadequate. The name \"Student\" refers to studentizing the residuals of a statistical model, which essential means to divide the residual by it's standard deviation. The t-distribution, which is an assumed normally distributed distribution of continuous data, is used in this test. More will be discussed on this test in later chapters.\n",
    "\n",
    "Let's assume a nanufacturer sells a type of machine capable of producing 100,000 units per month with a standard deviation of 2,800 units. A company buys a number of these machines and has found them to only be producing 90,000 units. The company wants to know how many of the machines are needed to determine with a high level of confidence the machines are not capable of producing 100,000 units. The below power analysis indicates that for a t-test, a sample of three machines is required to prevent, with an 85% probability, failing to identify a statistically significant difference in actual versus marketed machine performance when there is one."
   ]
  },
  {
   "cell_type": "code",
   "execution_count": 1,
   "id": "1325b8e6-a70f-4671-8c41-f94e2239f84b",
   "metadata": {},
   "outputs": [
    {
     "name": "stdout",
     "output_type": "stream",
     "text": [
      "Power based on sample size: 0.85\n"
     ]
    }
   ],
   "source": [
    "from statsmodels.stats.power import TTestPower\n",
    "\n",
    "# Difference of distribution mean and the value to be assessed divided by the distribution standard deviation\n",
    "effect_size = abs(100000-90000) / 2800\n",
    "alpha = 0.05\n",
    "nobs=3\n",
    "\n",
    "powersTT = TTestPower()\n",
    "result = powersTT.solve_power(effect_size, nobs=nobs, alpha=alpha, alternative='two-sided')\n",
    "print('Power based on sample size: {}'.format(round(result,2)))"
   ]
  },
  {
   "cell_type": "markdown",
   "id": "d2d29638-3003-475b-9370-15a3480d6332",
   "metadata": {},
   "source": [
    "# Paired Sample T-Test\n",
    "\n",
    "In the above example, the owners found a statistically significant difference. One engineer has hypothesized using a higher-viscosity oil will reduce excessive vibration and enable the machines to produce 100,000 units per month, which would produce a very simple solution to their problem. The company desires the same level of hypothesis testing power as before (0.85) and wants to know how many samples are required for this. By testing different observation numbers, below, we are able to identify 11 machines with lower-viscosity oil and 11 machines with higher-viscosity oil (this is the \"paired\" version of the t-test) are required to prevent the engineer from failing to find that the higher-viscosity oil does in fact produce 10,000 additional units, as intended, when that is the correct result."
   ]
  },
  {
   "cell_type": "code",
   "execution_count": 1,
   "id": "dbbf6ddb-ac1b-426a-88bf-930b2029c9ce",
   "metadata": {},
   "outputs": [
    {
     "name": "stdout",
     "output_type": "stream",
     "text": [
      "Power based on 5 samples: 0.40\n",
      "Power based on 6 samples: 0.51\n",
      "Power based on 7 samples: 0.60\n",
      "Power based on 8 samples: 0.68\n",
      "Power based on 9 samples: 0.75\n",
      "Power based on 10 samples: 0.80\n",
      "Power based on 11 samples: 0.85\n",
      "Power based on 12 samples: 0.88\n",
      "Power based on 13 samples: 0.91\n",
      "Power based on 14 samples: 0.93\n"
     ]
    }
   ],
   "source": [
    "from statsmodels.stats.power import TTestPower\n",
    "import matplotlib.pyplot as plt\n",
    "import numpy as np\n",
    "\n",
    "# Difference from null hypothesis that there is no difference\n",
    "effect_size = abs(0-10000) / 10000\n",
    "alpha = 0.05\n",
    "nobs=np.linspace(start=5, stop=14, num=10, dtype = int)\n",
    "\n",
    "powers = TTestPower()\n",
    "\n",
    "[print('Power based on {} samples: {:.2f}'.format(nob,\n",
    "                                                 powers.solve_power(effect_size,\n",
    "                                                                          nobs=nob,\n",
    "                                                                          alpha=alpha,\n",
    "                                                                          alternative='two-sided')))\n",
    " for nob in nobs];"
   ]
  },
  {
   "cell_type": "markdown",
   "id": "112a361a-18de-4d5e-a46d-53fd4b1026b2",
   "metadata": {},
   "source": [
    "In the power plot below, we can see as sample size increases, statistical power does as well. This is due to the assumption that as sample size increases, standard deviation (distributional error) decreases. As such, the results of the test applied have lower margins of error."
   ]
  },
  {
   "cell_type": "code",
   "execution_count": 2,
   "id": "32647203-55a7-4871-9a4c-a1815e9a0c9a",
   "metadata": {},
   "outputs": [
    {
     "data": {
      "image/png": "[encoded data removed]",
      "text/plain": [
       "<Figure size 432x288 with 1 Axes>"
      ]
     },
     "metadata": {
      "needs_background": "light"
     },
     "output_type": "display_data"
    }
   ],
   "source": [
    "powers.plot_power(dep_var='nobs', nobs=nobs, effect_size=[abs(0-10000) / 10000])\n",
    "plt.axhline(0.85, color='red', linestyle='--')\n",
    "plt.axvline(11, color='red', linestyle='--')\n",
    "plt.annotate('0.85 testing power', xy=(6,0.875), color='red', fontsize=12)\n",
    "plt.annotate('11 samples', xy=(8.75,0.5), color='red', fontsize=12)\n",
    "plt.ylabel('Statistical Power')\n",
    "plt.savefig('./powerplot1.png', dpi=300, facecolor='w', bbox_inches = \"tight\")\n",
    "\n",
    "plt.show()"
   ]
  },
  {
   "cell_type": "markdown",
   "id": "7db9d6e3-7ce4-4abe-832b-994176d5b674",
   "metadata": {},
   "source": [
    "# Two-Sample Independent T-Test with Pooled Variance\n",
    "## Difference of Means\n",
    "This is to compare to sample distribution means using a pooled standard deviation with different sample sizes. Pooled standard deviation means the two sample distributions are assumed to have approximately the same standard deviation. The standard deviations are pooled due to having different sample sizes, which are assumed to explain any minor difference in standard deviations. By contrast, you would not pool standard deviations if the sample sizes were very different, but it was assumed the two distributions do not have similar standard deviations. For example, standard deviation of growth rates of volatile stocks versus those of 30-year US Treasury bonds would be assumed to have very different standard deviations.\n",
    "\n",
    "To expand more on pooling standard deviations, pooling assumes the sample data from which the two individual standard deviations are calculated come from populations that have roughly the same standard deviation. This can be ambiguous at times. Penn State University has mentioned a good rule of thumb for determining if sample standard deviations are poolable is if neither is greater than between roughly 0.5 and 2 times the size of the other. If sample sizes are very small, they should be equal. This is up to the researcher's judgment. https://online.stat.psu.edu/stat500/lesson/7/7.3/7.3.1/7.3.1.1\n",
    "\n",
    "**HERE is the formula for standard deviation, where s is the sample standard deviation and s squared is the sample variance. n is for observation size**"
   ]
  },
  {
   "cell_type": "code",
   "execution_count": 1,
   "id": "659dadf2-176d-4597-a30f-deb68606c01a",
   "metadata": {},
   "outputs": [
    {
     "name": "stdout",
     "output_type": "stream",
     "text": [
      "Minimum Sample Size Required in Sample 1 (in this case, df_prof_A): 145\n",
      "Minimum Sample Size Required in Sample 2 (in this case, df_prof_B): 173\n",
      "Original Size of Sample 1: 181\n",
      "Original Size of Sample 2: 216\n",
      "Sample 2 has an adequate sample size\n",
      "Sample 2 has an adequate sample size\n"
     ]
    }
   ],
   "source": [
    "from statsmodels.stats.power import TTestIndPower\n",
    "import statsmodels.api as sm\n",
    "import numpy as np\n",
    "import math\n",
    "\n",
    "df_prof = sm.datasets.get_rdataset(\"Salaries\", \"carData\").data\n",
    "\n",
    "df_prof_A = df_prof.loc[df_prof['discipline'] == 'A']\n",
    "df_prof_B = df_prof.loc[df_prof['discipline'] == 'B']\n",
    "\n",
    "df_duncan = sm.datasets.get_rdataset(\"Duncan\", \"carData\").data\n",
    "\n",
    "df_duncan.loc[df_duncan['type'] == 'prof', 'type'] = 'professional'\n",
    "df_duncan.loc[df_duncan['type'] == 'wc', 'type'] = 'white-collar'\n",
    "df_duncan.loc[df_duncan['type'] == 'bc', 'type'] = 'blue-collar'\n",
    "\n",
    "df_professional = df_duncan.loc[(df_duncan['type'] == 'professional')]\n",
    "df_blue_collar = df_duncan.loc[(df_duncan['type'] == 'blue-collar')]\n",
    "\n",
    "def pooled_standard_deviation(dataset1, dataset2, column) -> float:\n",
    "    pooledSD = math.sqrt(((len(dataset1) - 1)*(dataset1[column].std()**2) +\n",
    "                          (len(dataset2) - 1)*(dataset2[column].std()**2)) / (len(dataset1) + len(dataset2) - 2))\n",
    "    return pooledSD;\n",
    "\n",
    "stdDeviation = pooled_standard_deviation(dataset1=df_prof_A,\n",
    "                                         dataset2=df_prof_B,\n",
    "                                         column='salary')\n",
    "\n",
    "# In this case, effect size is Cohen's d, which is the difference of means divided by the pooled standard deviation\n",
    "effect = abs(df_prof_B['salary'].mean() - df_prof_A['salary'].mean() ) / stdDeviation # The difference between two means divided by std if pooled 2-sample\n",
    "alpha = 0.05\n",
    "power = 0.8\n",
    "ratio=len(df_prof_B) / len(df_prof_A) # # of obs in sample 2 relative (with respect) to sample 1 (sample 2 / sample 1)\n",
    "# perform power analysis\n",
    "powers = TTestIndPower()\n",
    "result = powers.solve_power(effect, power=power, nobs1=None, ratio=ratio, alpha=alpha, alternative='two-sided')\n",
    "print('Minimum Sample Size Required in Sample 1 (in this case, df_prof_A): {}'.format(math.ceil(result)))\n",
    "print('Minimum Sample Size Required in Sample 2 (in this case, df_prof_B): {}'.format(math.ceil(result*ratio)))\n",
    "print('Original Size of Sample 1: {}'.format(len(df_prof_A)))\n",
    "print('Original Size of Sample 2: {}'.format(len(df_prof_B)))\n",
    "\n",
    "if math.ceil(ratio) > len(df_prof_A):\n",
    "    print('More samples needed in sample 2')\n",
    "else:\n",
    "    print('Sample 2 has an adequate sample size')\n",
    "\n",
    "if math.ceil(result*ratio) > len(df_prof_B):\n",
    "    print('More samples needed in sample 2')\n",
    "else:\n",
    "    print('Sample 2 has an adequate sample size')"
   ]
  },
  {
   "cell_type": "markdown",
   "id": "3fdcc02d-f487-4e62-8c61-4bc56e80dc73",
   "metadata": {},
   "source": [
    "## Pearson's Correlation\n",
    "Suppose we want to identify if there is or is not a correlation of at least 0.9 between professional and blue-collar incomes using the Duncan dataset. We need to know how many samples are needed to perform this test and identify that level of correlation, if there is one. That correlation may exist, but it also may not. However, if we don't have at least the minimum number of observations required, we will never know. The same number of observations are required two calculate Pearson's Correlation Coefficient between two groups, so this is counted as an Independent T-Test Power Analysis. "
   ]
  },
  {
   "cell_type": "code",
   "execution_count": 3,
   "id": "b2697d54-28e9-428f-8dc1-1048549288e1",
   "metadata": {},
   "outputs": [
    {
     "name": "stdout",
     "output_type": "stream",
     "text": [
      "Minimum Sample Size Required in Each Group: 21\n"
     ]
    }
   ],
   "source": [
    "from statsmodels.stats.power import TTestIndPower\n",
    "import matplotlib.pyplot as plt\n",
    "import numpy as np\n",
    "import math\n",
    "# parameters for power analysis\n",
    "effect = 0.9 # Correlation with 90% of variance in df_professional explained by df_blue_collar\n",
    "alpha = 0.05\n",
    "power = 0.8\n",
    "ratio=1.0 # # of obs in sample 2 relative (with respect) to sample 1 (sample 2 / sample 1); must be 1.0 for Pearson's correlation\n",
    "# perform power analysis\n",
    "powers = TTestIndPower()\n",
    "result = powers.solve_power(effect, power=power, nobs1=None, ratio=ratio, alpha=alpha, alternative='two-sided')\n",
    "print('Minimum Sample Size Required in Each Group: {}'.format(math.ceil(result)))"
   ]
  },
  {
   "cell_type": "markdown",
   "id": "b6a5b6ba-8c10-4e6d-8d36-2dd3e69a62cb",
   "metadata": {},
   "source": [
    "Here we can see that as sample size increases, so does power, approximating effect size independence such that Type II error converges to zero."
   ]
  },
  {
   "cell_type": "code",
   "execution_count": 4,
   "id": "10af2824-335c-4f0d-beee-0ca828a40085",
   "metadata": {},
   "outputs": [
    {
     "data": {
      "image/png": "[encoded data removed]",
      "text/plain": [
       "<Figure size 432x288 with 1 Axes>"
      ]
     },
     "metadata": {
      "needs_background": "light"
     },
     "output_type": "display_data"
    }
   ],
   "source": [
    "sample_sizes = np.array(range(5, 100))\n",
    "\n",
    "powers.plot_power(dep_var='nobs', nobs=sample_sizes, effect_size=[0.7, 0.8, 0.9])\n",
    "plt.ylabel('Statistical Power')\n",
    "plt.savefig('./powerplot2.png', dpi=300, facecolor='w', bbox_inches = \"tight\")\n",
    "plt.show()"
   ]
  },
  {
   "cell_type": "markdown",
   "id": "021d3b90-8d74-44f9-989a-8f51d486b812",
   "metadata": {},
   "source": [
    "# One-Sample Chi Square Test of Independence (not working in Statsmodels yet)\n",
    "This test is used to determine if there is a relationship between two categorical features. This can also be used to check for correlation.\n",
    "\n",
    "This is used to determine if there are an equal distribution of frequencies of values in a categorical column. Say for example, 100 phones were sold in a day, 85 were Apple, 10 were Samsung and 5 were Motorolla. This tells if there are enough samples to determine if there's enough data."
   ]
  },
  {
   "cell_type": "code",
   "execution_count": null,
   "id": "b803fec4-14c6-496e-be16-d557bcd44184",
   "metadata": {},
   "outputs": [],
   "source": [
    "from statsmodels.stats.power import _GofChisquareIndPower\n",
    "# parameters for power analysis\n",
    "effect_size = \n",
    "alpha = 0.05\n",
    "power = 0.8\n",
    "\n",
    "# perform power analysis\n",
    "powerChiSqr = _GofChisquareIndPower()\n",
    "result = powerChiSqr.solve_power(effect_size, power=power, nobs=None, alpha=alpha, n_bins)\n",
    "print('Sample Size Required in Sample 1: {:.3f}'.format(result)) # nobs1 is the sample size. \n",
    "print('Sample Size Required in Sample 2: {:.3f}'.format(result*ratio)) # nobs2 is the sample size. "
   ]
  },
  {
   "cell_type": "markdown",
   "id": "19f2d6c5-3125-4287-a55d-623556f391a9",
   "metadata": {
    "tags": []
   },
   "source": [
    "# Pearson Chi-Square Goodness of Fit Test (One Sample; One Category)\n",
    "The Chi-Square distribution is derived from the values of the ratio between sample variance and population variance of categorical variables. Chi-square distributions are non-negative and non-symmetric.\n",
    "\n",
    "The Pearson Chi-Square Goodness of Fit Test assumes samples fall randomly into categorical bins. If, for example, there are 2 bins and 100 samples, it assumes each bin, by rules of random probability, will contain 50 samples. A statistically significant difference could be such that one bin has 95 samples and another has 5 following sample disbursement. The power test in this section identifies the quantity of samples - based on the number of categorical bins - would be required to prevent Type II error.\n",
    "\n",
    "Let's use an example such that a phone vendor sells four popular brands of phones, brands A, B, C, and D. We want to determine out how many samples are required to produce a power of 0.8 so we can understand if there is a statistically significant difference in popularity of phones so the vendor can more properly invest in phone aquisitions. In this case, the null hypothesis asserts that 25% phones of each brand are sold. In reality, 20% of phones sold were brand A, 30% were brand B, 19% were brand C, and 31% were brand D phones.\n",
    "\n",
    "Testing different values for the nobs argument (number of observations), we find that a minimum of 224 samples produces a power just greater than 0.801. Adding more samples will only improve this. If the true distribution were more divergent from the hypothesized 25% even split, fewer samples would be required. However, since the splits are relatively close to 25%, a high volume of samples is needed."
   ]
  },
  {
   "cell_type": "code",
   "execution_count": 1,
   "id": "7df4f669-0be0-49a3-9ac9-23fcbc2af42b",
   "metadata": {},
   "outputs": [
    {
     "name": "stdout",
     "output_type": "stream",
     "text": [
      "Sample Size Required in Sample 1: 0.801\n"
     ]
    }
   ],
   "source": [
    "from statsmodels.stats.power import GofChisquarePower\n",
    "from statsmodels.stats.gof import chisquare_effectsize\n",
    "\n",
    "# probs0 asserts 25% of each brand are sold\n",
    "# In reality, 12% of Brand A, 25% of Brand B, 33% sold were Brand C, and 1% were Brand D. \n",
    "effect_size = chisquare_effectsize(probs0=[25, 25, 25, 25], probs1=[20, 30, 19, 31], cohen=True)\n",
    "alpha = 0.05\n",
    "n_bins=4 # 4 brands of phones\n",
    "\n",
    "analysis = GofChisquarePower()\n",
    "result = analysis.solve_power(effect_size, nobs=224, alpha=alpha, n_bins=n_bins)\n",
    "print('Sample Size Required in Sample 1: {:.3f}'.format(result))"
   ]
  },
  {
   "cell_type": "markdown",
   "id": "4e62ff5e-af50-4c89-8edf-c51728b4692d",
   "metadata": {},
   "source": [
    "# Two-Population Z-Test with Pooled Variance\n",
    "This is to compare two population means. This just tells if the populations are large enough to compare. If they're not, they can't be compared."
   ]
  },
  {
   "cell_type": "code",
   "execution_count": 20,
   "id": "0f8fb15d-1d55-4fd4-9209-93b9f8b5c220",
   "metadata": {},
   "outputs": [
    {
     "data": {
      "text/html": [
       "<div>\n",
       "<style scoped>\n",
       "    .dataframe tbody tr th:only-of-type {\n",
       "        vertical-align: middle;\n",
       "    }\n",
       "\n",
       "    .dataframe tbody tr th {\n",
       "        vertical-align: top;\n",
       "    }\n",
       "\n",
       "    .dataframe thead th {\n",
       "        text-align: right;\n",
       "    }\n",
       "</style>\n",
       "<table border=\"1\" class=\"dataframe\">\n",
       "  <thead>\n",
       "    <tr style=\"text-align: right;\">\n",
       "      <th></th>\n",
       "      <th>rank</th>\n",
       "      <th>discipline</th>\n",
       "      <th>yrs.since.phd</th>\n",
       "      <th>yrs.service</th>\n",
       "      <th>sex</th>\n",
       "      <th>salary</th>\n",
       "    </tr>\n",
       "  </thead>\n",
       "  <tbody>\n",
       "    <tr>\n",
       "      <th>0</th>\n",
       "      <td>Prof</td>\n",
       "      <td>B</td>\n",
       "      <td>19</td>\n",
       "      <td>18</td>\n",
       "      <td>Male</td>\n",
       "      <td>139750</td>\n",
       "    </tr>\n",
       "    <tr>\n",
       "      <th>1</th>\n",
       "      <td>Prof</td>\n",
       "      <td>B</td>\n",
       "      <td>20</td>\n",
       "      <td>16</td>\n",
       "      <td>Male</td>\n",
       "      <td>173200</td>\n",
       "    </tr>\n",
       "    <tr>\n",
       "      <th>2</th>\n",
       "      <td>AsstProf</td>\n",
       "      <td>B</td>\n",
       "      <td>4</td>\n",
       "      <td>3</td>\n",
       "      <td>Male</td>\n",
       "      <td>79750</td>\n",
       "    </tr>\n",
       "    <tr>\n",
       "      <th>3</th>\n",
       "      <td>Prof</td>\n",
       "      <td>B</td>\n",
       "      <td>45</td>\n",
       "      <td>39</td>\n",
       "      <td>Male</td>\n",
       "      <td>115000</td>\n",
       "    </tr>\n",
       "    <tr>\n",
       "      <th>4</th>\n",
       "      <td>Prof</td>\n",
       "      <td>B</td>\n",
       "      <td>40</td>\n",
       "      <td>41</td>\n",
       "      <td>Male</td>\n",
       "      <td>141500</td>\n",
       "    </tr>\n",
       "    <tr>\n",
       "      <th>...</th>\n",
       "      <td>...</td>\n",
       "      <td>...</td>\n",
       "      <td>...</td>\n",
       "      <td>...</td>\n",
       "      <td>...</td>\n",
       "      <td>...</td>\n",
       "    </tr>\n",
       "    <tr>\n",
       "      <th>392</th>\n",
       "      <td>Prof</td>\n",
       "      <td>A</td>\n",
       "      <td>33</td>\n",
       "      <td>30</td>\n",
       "      <td>Male</td>\n",
       "      <td>103106</td>\n",
       "    </tr>\n",
       "    <tr>\n",
       "      <th>393</th>\n",
       "      <td>Prof</td>\n",
       "      <td>A</td>\n",
       "      <td>31</td>\n",
       "      <td>19</td>\n",
       "      <td>Male</td>\n",
       "      <td>150564</td>\n",
       "    </tr>\n",
       "    <tr>\n",
       "      <th>394</th>\n",
       "      <td>Prof</td>\n",
       "      <td>A</td>\n",
       "      <td>42</td>\n",
       "      <td>25</td>\n",
       "      <td>Male</td>\n",
       "      <td>101738</td>\n",
       "    </tr>\n",
       "    <tr>\n",
       "      <th>395</th>\n",
       "      <td>Prof</td>\n",
       "      <td>A</td>\n",
       "      <td>25</td>\n",
       "      <td>15</td>\n",
       "      <td>Male</td>\n",
       "      <td>95329</td>\n",
       "    </tr>\n",
       "    <tr>\n",
       "      <th>396</th>\n",
       "      <td>AsstProf</td>\n",
       "      <td>A</td>\n",
       "      <td>8</td>\n",
       "      <td>4</td>\n",
       "      <td>Male</td>\n",
       "      <td>81035</td>\n",
       "    </tr>\n",
       "  </tbody>\n",
       "</table>\n",
       "<p>397 rows × 6 columns</p>\n",
       "</div>"
      ],
      "text/plain": [
       "         rank discipline  yrs.since.phd  yrs.service   sex  salary\n",
       "0        Prof          B             19           18  Male  139750\n",
       "1        Prof          B             20           16  Male  173200\n",
       "2    AsstProf          B              4            3  Male   79750\n",
       "3        Prof          B             45           39  Male  115000\n",
       "4        Prof          B             40           41  Male  141500\n",
       "..        ...        ...            ...          ...   ...     ...\n",
       "392      Prof          A             33           30  Male  103106\n",
       "393      Prof          A             31           19  Male  150564\n",
       "394      Prof          A             42           25  Male  101738\n",
       "395      Prof          A             25           15  Male   95329\n",
       "396  AsstProf          A              8            4  Male   81035\n",
       "\n",
       "[397 rows x 6 columns]"
      ]
     },
     "execution_count": 20,
     "metadata": {},
     "output_type": "execute_result"
    }
   ],
   "source": [
    "df_prof"
   ]
  },
  {
   "cell_type": "code",
   "execution_count": 8,
   "id": "5cc15c21-d827-4932-a6ed-3ed84fb6f95f",
   "metadata": {},
   "outputs": [
    {
     "data": {
      "image/png": "[encoded data removed]",
      "text/plain": [
       "<Figure size 432x288 with 1 Axes>"
      ]
     },
     "metadata": {
      "needs_background": "light"
     },
     "output_type": "display_data"
    }
   ],
   "source": [
    "import matplotlib.pyplot as plt\n",
    "\n",
    "plt.hist(df_prof_A['salarydf_blue_collar"
   ]
  },
  {
   "cell_type": "markdown",
   "id": "f92f072a-ab14-42ce-9603-a2d67cbc5080",
   "metadata": {},
   "source": [
    "Let us look at the dataset of salaries for professors of two different disciplines, discipline A and discipline B. We want to know if there is a statistically significant difference between them based on the data we have. First, we need to perform a power analysis to know if we have enough samples to trust the results of the z-test we may perform to test this hypothesis. The components of a power analysis we need for this include effect size, the type I error rate, a desired type II error rate, the direction of the alternate hypothesis (group 2 is expected to be larger than, smaller than, or could be either larger or smaller than group 1) and the ratio of observations in the larger sample relative to that of the smaller. Discipline A has 181 salaries and discipline B has 216. Therefore, 216 will be our numerator corresponding to what we will consider as \"group 1\" (discipline A will be our \"group 2\").\n",
    "\n",
    "Let us suppose we are not sure if one group will be larger or smaller than the other, we will consider this a two-sided hypothesis test. Effect size for this z-test is the difference being the groups. We will use Cohen's d. To calculate that, we need to divide the difference of the means of the two groups by the pooled standard deviation. Calculated below, the pooled standard deviation is the degrees of freedom of group one multiplied by the variance of group one plus the same for group 2, all divided by the combined degrees of freedom for the two groups. Since there are two groups, the combined degrees of freedom is the sum of all observations between the two groups minus 2. The degrees of freedom for each individual group is the number of observations minus one.\n",
    "\n",
    "Calculated below, if we want a power of 80% (type II error rate is 20%) and a type I error rate (level of significance) of 0.05, we would need 172 samples in group 1 and 145 samples in group 2. However, if we wanted a power of 90% and a level of significance of 0.01 (99% confidence), we would need 325 samples in group 1 and 274 samples in group 2."
   ]
  },
  {
   "cell_type": "code",
   "execution_count": null,
   "id": "afa2aad9-8865-4a6f-b890-2969351e0ed6",
   "metadata": {},
   "outputs": [],
   "source": [
    "df_duncan = sm.datasets.get_rdataset(\"Duncan\", \"carData\").data\n",
    "\n",
    "df_duncan.loc[df_duncan['type'] == 'prof', 'type'] = 'professional'\n",
    "df_duncan.loc[df_duncan['type'] == 'wc', 'type'] = 'white-collar'\n",
    "df_duncan.loc[df_duncan['type'] == 'bc', 'type'] = 'blue-collar'\n",
    "\n",
    "df_professional = df_duncan.loc[(df_duncan['type'] == 'professional')]\n",
    "df_blue_collar = df_duncan.loc[(df_duncan['type'] == 'blue-collar')]\n"
   ]
  },
  {
   "cell_type": "code",
   "execution_count": 24,
   "id": "760c09e9-8a0b-4a1d-956e-f5e1632e5baa",
   "metadata": {},
   "outputs": [],
   "source": [
    "import statsmodels.api as sm\n",
    "import math\n",
    "\n",
    "df_prof = sm.datasets.get_rdataset(\"Salaries\", \"carData\").data\n",
    "\n",
    "df_prof_A = df_prof.loc[df_prof['discipline'] == 'A']\n",
    "df_prof_B = df_prof.loc[df_prof['discipline'] == 'B']\n",
    "\n",
    "def pooled_standard_deviation(dataset1, dataset2, column) -> float:\n",
    "    pooledSD = math.sqrt(((len(dataset1) - 1)*(dataset1[column].std()**2) +\n",
    "                          (len(dataset2) - 1)*(dataset2[column].std()**2)) / (len(dataset1) + len(dataset2) - 2))\n",
    "    return pooledSD;\n",
    "\n",
    "stdDeviation = pooled_standard_deviation(dataset1=df_prof_A,\n",
    "                                         dataset2=df_prof_B,\n",
    "                                         column='salary')"
   ]
  },
  {
   "cell_type": "code",
   "execution_count": 35,
   "id": "adbdabc1-0624-42a6-b862-c38aacbc8c99",
   "metadata": {},
   "outputs": [],
   "source": [
    "import statsmodels.api as sm\n",
    "import math\n",
    "\n",
    "df_prof = sm.datasets.get_rdataset(\"Salaries\", \"carData\").data\n",
    "\n",
    "df_prof_A = df_prof.loc[df_prof['discipline'] == 'A']\n",
    "df_prof_B = df_prof.loc[df_prof['discipline'] == 'B']\n",
    "\n",
    "def pooled_standard_deviation(dataset1, dataset2, column) -> float:\n",
    "    pooledSD = math.sqrt(((len(dataset1))*(dataset1[column].std()**2) +\n",
    "                          (len(dataset2))*(dataset2[column].std()**2)) / (len(dataset1) + len(dataset2)))\n",
    "    return pooledSD;\n",
    "\n",
    "stdDeviation = pooled_standard_deviation(dataset1=df_prof_A,\n",
    "                                         dataset2=df_prof_B,\n",
    "                                         column='salary')"
   ]
  },
  {
   "cell_type": "code",
   "execution_count": 36,
   "id": "526adfdd-32d9-4186-bf0e-34d57de72d4e",
   "metadata": {},
   "outputs": [
    {
     "name": "stdout",
     "output_type": "stream",
     "text": [
      "Sample Size Required in Sample 1: 171.623\n",
      "Sample Size Required in Sample 2: 144.221\n"
     ]
    }
   ],
   "source": [
    "from statsmodels.stats.power import NormalIndPower\n",
    "\n",
    "effect = abs(df_prof_B['salary'].mean() - df_prof_A['salary'].mean() ) / stdDeviation # The difference between two means divided by std if pooled 2-sample\n",
    "alpha = 0.05\n",
    "power = 0.8\n",
    "ratio=1.19 # # of obs in sample 2 relative to sample 1\n",
    "# perform power analysis\n",
    "analysis = NormalIndPower()\n",
    "result = analysis.solve_power(effect, power=power, nobs1=None, ratio=ratio, alpha=alpha, alternative='two-sided')\n",
    "print('Sample Size Required in Sample 1: {:.3f}'.format(result*ratio)) # nobs1 is the sample size. \n",
    "print('Sample Size Required in Sample 2: {:.3f}'.format(result)) # nobs2 is the sample size."
   ]
  },
  {
   "cell_type": "code",
   "execution_count": 37,
   "id": "ac413758-9ebe-4fdd-bd5b-ef246745050c",
   "metadata": {},
   "outputs": [
    {
     "name": "stdout",
     "output_type": "stream",
     "text": [
      "Sample Size Required in Sample 1: 325.352\n",
      "Sample Size Required in Sample 2: 273.405\n"
     ]
    }
   ],
   "source": [
    "from statsmodels.stats.power import NormalIndPower\n",
    "\n",
    "effect = abs(df_prof_B['salary'].mean() - df_prof_A['salary'].mean() ) / stdDeviation # The difference between two means divided by std if pooled 2-sample\n",
    "alpha = 0.01\n",
    "power = 0.9\n",
    "ratio=1.19 # # of obs in sample 2 relative to sample 1\n",
    "# perform power analysis\n",
    "analysis = NormalIndPower()\n",
    "result = analysis.solve_power(effect, power=power, nobs1=None, ratio=ratio, alpha=alpha, alternative='two-sided')\n",
    "print('Sample Size Required in Sample 1: {:.3f}'.format(result*ratio)) # nobs1 is the sample size. \n",
    "print('Sample Size Required in Sample 2: {:.3f}'.format(result)) # nobs2 is the sample size."
   ]
  },
  {
   "cell_type": "markdown",
   "id": "c81d424f-8d08-40c7-93f5-c05b6e8732fa",
   "metadata": {},
   "source": [
    "# F-Test Power\n",
    "The F-test, named after Sir Ronald Fisher takes the ratio of two chi-square distributions (the F-statistic) and compares it to a F-critical value derived from a table lookup using the degrees of freedom for the groups. As mentioned in the previous section, a chi-square distribution is derived from the values of the ratio between sample variance and population variance of compared variables. The F-statistic has many applications in the field of statistics, such as in testing the significance of regression coefficients in linear regression models and comparing group means in Analysis of Variance (ANOVA). Alone, the F-statistic is used to test if the variances of two groups are similar. The formula for a two-sample F-statistic is sigma_1^2 / sigma_2^2 where this is Variance of Sample 1 divided by Variance of Sample 2. The numerator (sigma_1) always corresponds to the larger sample size.\n",
    "\n",
    "For this power analysis, it is required to have the number of observations for each group, a desired level of significance, and the effect size. Here, the effect size is Cohen's d, a standardized difference of means calculated by taking the difference of the two group means and dividing by the pooled standard deviation. Calculated in the function below, the pooled standard deviation take the standard deviations and number of observations for each of the two group distributions.\n",
    "\n",
    "Rather than using the number of samples already obtained, we use the degrees of freedom for those samples. For the F-statistic, this is the number of samples in each respective group minus 1. Let's use an example where output from the first 6 months of a new data processing company is compared to the output one year later after more data used in the business's process has been obtained. The company may want to assess if its output is now more stable. The company takes 50 samples at 6 months and 30 samples at 18 months. Numerator degrees of freedom are 49 and denominator degrees of freedom are 29. The samples at 6 months have a mean of 14 and a standard deviation of 2 while the samples taken at 18 months have a mean of 16 and a standard deviation of 2.6. Here, the F-statistic is 2/2.6 ~0.77 and the F-critical value obtained from the F-distribution table using the numerator and denominator degrees of freedom at the alpha = 0.05 level of significance is approximately 1.78. In this case, the test statistic does not exceed the critical value. Therefore, we can assume with a 95% level of confidence (1 - level of significance) there is no statistically significant differnce. However, if we did identify a difference, based on the power analysis below, we could say there would be only a 1% chance of incorrectly identifying a difference."
   ]
  },
  {
   "cell_type": "markdown",
   "id": "1f9ae637-7f1e-47f5-aa7c-934c1a6b6e3c",
   "metadata": {},
   "source": [
    "|Standard Deviation | Mean | Number of Observations | Degrees of Freedom |\n",
    "| ------------------| ---- | ---------------------- | ------------------ |\n",
    "| 2                 | 14   | 50                     | 49                 |\n",
    "| 2.6               | 16   | 30                     | 29                 |"
   ]
  },
  {
   "cell_type": "code",
   "execution_count": 1,
   "id": "e24c72d1-2d9d-4111-b57c-c5b521c36587",
   "metadata": {},
   "outputs": [],
   "source": [
    "import math\n",
    "\n",
    "def pooled_standard_deviation(std1, len1, std2, len2) -> float:\n",
    "    \n",
    "    pooledSD = math.sqrt(((len1 - 1)*(std1**2) +\n",
    "                          (len2 - 1)*(std2**2)) / (len1 + len2 - 2))\n",
    "    return pooledSD;\n",
    "\n",
    "def cohens_d(mean1, std1, len1, mean2, std2, len2) -> float:\n",
    "\n",
    "    cohens_d = abs((mean1 - mean2)) / pooled_standard_deviation(std1, len1, std2, len2)\n",
    "\n",
    "    return cohens_d;"
   ]
  },
  {
   "cell_type": "code",
   "execution_count": 2,
   "id": "96d4b03a-5b3e-4b46-8942-2dfe96fd858a",
   "metadata": {},
   "outputs": [
    {
     "name": "stdout",
     "output_type": "stream",
     "text": [
      "Effect size: 0.892 \n"
     ]
    }
   ],
   "source": [
    "effect_size = cohens_d(mean1=14, std1=2, len1=50,\n",
    "                       mean2=16, std2=2.6, len2=30)\n",
    "print('Effect size: %.3f ' % effect_size)"
   ]
  },
  {
   "cell_type": "markdown",
   "id": "2608ef0e-1224-49fc-b0ce-80bd4693475f",
   "metadata": {},
   "source": [
    "Below, we can see the statistical power of this number of observations in the two groups for the calculated efect size at the 0.05 level of significance:"
   ]
  },
  {
   "cell_type": "code",
   "execution_count": 3,
   "id": "d2454cc0-283a-460c-9cf3-13593057112a",
   "metadata": {},
   "outputs": [
    {
     "name": "stdout",
     "output_type": "stream",
     "text": [
      "Hypothesis Power Given Sample Observation Degrees of Freedom 49 and 29: 0.99\n"
     ]
    }
   ],
   "source": [
    "from statsmodels.stats.power import FTestPower\n",
    "\n",
    "effect_size=effect_size\n",
    "df_num=49\n",
    "df_denom=29\n",
    "alpha=0.05\n",
    "power=None\n",
    "\n",
    "powersFT = FTestPower()\n",
    "result = powersFT.solve_power(effect_size=effect_size, df_num=df_num, df_denom=df_denom, alpha=alpha, power=power)\n",
    "print('Hypothesis Power Given Sample Observation Degrees of Freedom {} and {}: {:.2f}'.format(df_num, df_denom, result))"
   ]
  },
  {
   "cell_type": "markdown",
   "id": "4fbae0b5-a323-43d0-8c58-b6dced4e7486",
   "metadata": {},
   "source": [
    "# F-Test for ANOVA\n",
    "To perform an F-Test for a balanced ANOVA (where each group has the same number of observations), this power analysis can be used to determine per-group minimum sample size required to avoid Type II error. However, this assumes pooled sample variance to calculate Cohen's d for effect size. One of the assumptions of ANOVA is that each population being compared has the same variance. Note, however, that this is each population and not each sample; it is assumed that each sample is representative of its population, but does not necessarily have the exact same statistical parameter values.\n",
    "\n",
    "In the case of ANOVA, the F-statistic is used to compare between group variation to within group variation. The numerator corresponds to the variance of all groups less the one being compared and the denominator corresponds to the variance of the group being compared to the other groups. For the F-critical value, the degrees of freedom are considered similarly, in summation.\n",
    "\n",
    "The pooled_standard_deviation function below creates the pooled standard deviation and takes the means, standard deviations, and number of observations in each group as input arguments. The inputs do not require the same number of observations to create the effect size. It is the power analysis that assumes - in its output - the equal sample size. For example, if using this to determine the number of samples required for a specific hypothesis power, the number output will be the sample volume each group should have. But if the analysis is being performed to identify the amount of power a volume of samples with given samples that will be obtained will be equal.\n",
    "\n",
    "Let's assume we have two groups we want to analyze. The first group has 50 observations with a mean of 14 and a standard deviation of 2. The second group has 30 observations with a mean of 16 and a standard deviation of 2.6. We want to know how many samples are required at minimum to avoid Type II error. As seen in the code below, the effect size is a non-negative value."
   ]
  },
  {
   "cell_type": "markdown",
   "id": "d15f95de-fa4c-4818-96e8-f5e8f85396fa",
   "metadata": {},
   "source": [
    "|Standard Deviation | Mean | Number of Observations|\n",
    "| ------------------| ---- | --------------------- |\n",
    "| 2                 | 14   | 50                    |\n",
    "| 2.6               | 16   | 30                    |"
   ]
  },
  {
   "cell_type": "code",
   "execution_count": 1,
   "id": "9ce9c7f6-ad20-44dd-89f2-576f8dae82a3",
   "metadata": {},
   "outputs": [],
   "source": [
    "import math\n",
    "\n",
    "def pooled_standard_deviation(std1, len1, std2, len2) -> float:\n",
    "    \n",
    "    pooledSD = math.sqrt(((len1 - 1)*(std1**2) +\n",
    "                          (len2 - 1)*(std2**2)) / (len1 + len2 - 2))\n",
    "    return pooledSD;\n",
    "\n",
    "effect_size = abs((14 - 16) / pooled_standard_deviation(2, 50, 2.6, 30))"
   ]
  },
  {
   "cell_type": "markdown",
   "id": "9cf548d6-648c-43c6-aeb1-6a9fa1f814a1",
   "metadata": {},
   "source": [
    "It may be obvious, but is nonetheless notable that when taking the pooled standard deviation between two groups, we find the pooled standard deviation is weighted to the larger group. For example, the larger group has 50 observations and the smaller has 30. Rather than an average between the two standard deviations, which would be 2.3, we have roughly 2.24"
   ]
  },
  {
   "cell_type": "code",
   "execution_count": 2,
   "id": "1f62773e-618a-4e53-9c7f-ec13920e9bb2",
   "metadata": {},
   "outputs": [
    {
     "data": {
      "text/plain": [
       "2.2419085276062996"
      ]
     },
     "execution_count": 2,
     "metadata": {},
     "output_type": "execute_result"
    }
   ],
   "source": [
    "pooled_standard_deviation(std1=2, len1=50,\n",
    "                          std2=2.6, len2=30)"
   ]
  },
  {
   "cell_type": "markdown",
   "id": "ac1db6f5-4658-47a7-9813-2cc4cb66f64d",
   "metadata": {},
   "source": [
    "Below, we use the calculated Cohen's d for the effect size, specify two groups, a level of significance (alpha value) of 0.05, and a power of 0.8. We need at least 13 samples in each group to perform this analysis."
   ]
  },
  {
   "cell_type": "code",
   "execution_count": 3,
   "id": "94d41f57-5b19-412e-809d-a92ed8c0de58",
   "metadata": {},
   "outputs": [
    {
     "name": "stdout",
     "output_type": "stream",
     "text": [
      "Sample Size Required for Each Group: 13\n"
     ]
    }
   ],
   "source": [
    "from statsmodels.stats.power import FTestAnovaPower\n",
    "\n",
    "effect_size=effect_size\n",
    "nobs=None\n",
    "k_groups=2\n",
    "alpha=0.05\n",
    "power=0.8\n",
    "\n",
    "powersFTAOV = FTestAnovaPower()\n",
    "result = powersFTAOV.solve_power(effect_size=effect_size, nobs=nobs, alpha=alpha, power=power, k_groups=k_groups)\n",
    "print('Sample Size Required for Each Group: {}'.format(math.ceil(result)))"
   ]
  },
  {
   "cell_type": "markdown",
   "id": "5af3fa6f-c091-4c5a-9b0c-be876394af7b",
   "metadata": {},
   "source": [
    "For comparison's sake, if we had four groups as outlined in the table below, they would each need at least 41 samples. To perform this power analysis for four groups, we must first calculate a new effect size. This process is relatively straight-forward. First, we need to calculate the pooled standard deviation for all four groups. To do this, calculate as below. Note that since there are 4 groups, we must add the length of all four groups, then subtract 4 to obtain the correct degree of freedom. Recall that using degrees of freedom allow for some explainability of variation in the results of a hypothesis test that may be attributed to the fact we are using sample data instead of population data. We then take the largest mean, subtract from it the smallest mean, then divide by the pooled standard deviation."
   ]
  },
  {
   "cell_type": "markdown",
   "id": "ccafc1d7-1550-4053-9218-20ec395f34b7",
   "metadata": {},
   "source": [
    "|Standard Deviation | Mean | Number of Observations|\n",
    "| ------------------| ---- | --------------------- |\n",
    "| 2                 | 14   | 50                    |\n",
    "| 2.6               | 16   | 30                    |\n",
    "| 2.3               | 18   | 40                    |\n",
    "| 2.9               | 17   | 45                    |"
   ]
  },
  {
   "cell_type": "code",
   "execution_count": 4,
   "id": "0e8a3b67-d2c1-4647-a9cf-be46b18fd9e3",
   "metadata": {},
   "outputs": [
    {
     "name": "stdout",
     "output_type": "stream",
     "text": [
      "Sample Size Required for Each Group: 41\n"
     ]
    }
   ],
   "source": [
    "len1=2\n",
    "std1=50\n",
    "len2=2.6\n",
    "std2=30\n",
    "len3=40\n",
    "std3=2.3\n",
    "len4=45\n",
    "std4=2.9\n",
    "\n",
    "pooledSD = math.sqrt(\n",
    "                      (\n",
    "                        (len1 - 1)*(std1**2) +\n",
    "                        (len2 - 1)*(std2**2) +\n",
    "                        (len3 - 1)*(std3**2) +\n",
    "                        (len4 - 1)*(std4**2)\n",
    "                      ) / (len1 + len2 + len3 + len4 - 4))\n",
    "\n",
    "effect_size = (18-14)/pooledSD\n",
    "\n",
    "from statsmodels.stats.power import FTestAnovaPower\n",
    "\n",
    "effect_size=effect_size\n",
    "nobs=None\n",
    "k_groups=4\n",
    "alpha=0.05\n",
    "power=0.8\n",
    "\n",
    "powersFTAOV = FTestAnovaPower()\n",
    "result = powersFTAOV.solve_power(effect_size=effect_size, nobs=nobs, alpha=alpha, power=power, k_groups=k_groups)\n",
    "print('Sample Size Required for Each Group: {}'.format(math.ceil(result)))"
   ]
  }
 ],
 "metadata": {
  "kernelspec": {
   "display_name": "Python 3",
   "language": "python",
   "name": "python3"
  },
  "language_info": {
   "codemirror_mode": {
    "name": "ipython",
    "version": 3
   },
   "file_extension": ".py",
   "mimetype": "text/x-python",
   "name": "python",
   "nbconvert_exporter": "python",
   "pygments_lexer": "ipython3",
   "version": "3.8.3"
  }
 },
 "nbformat": 4,
 "nbformat_minor": 5
}
