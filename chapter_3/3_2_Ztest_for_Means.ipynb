{
 "cells": [
  {
   "cell_type": "markdown",
   "id": "ae1383f5-2299-49bc-ae1f-f17393b852bc",
   "metadata": {},
   "source": [
    "## One-sample Z-test"
   ]
  },
  {
   "cell_type": "code",
   "execution_count": 1,
   "id": "5e1e577e-a737-4196-859d-577273d5357e",
   "metadata": {},
   "outputs": [],
   "source": [
    "import scipy.stats \n",
    "import numpy as np\n",
    "import math\n",
    "from statsmodels.stats.weightstats import ztest as ztest "
   ]
  },
  {
   "cell_type": "code",
   "execution_count": 2,
   "id": "0c48d248-4ce4-4820-8be6-92b7ee90b1ad",
   "metadata": {},
   "outputs": [
    {
     "data": {
      "text/plain": [
       "0.0038"
      ]
     },
     "execution_count": 2,
     "metadata": {},
     "output_type": "execute_result"
    }
   ],
   "source": [
    "#find p-value associated with a z-score of -2.67 in a left-tailed test. \n",
    "round(scipy.stats.norm.sf(abs(-2.67)),4)"
   ]
  },
  {
   "cell_type": "code",
   "execution_count": 3,
   "id": "2643b01a-7689-47ae-87aa-2e9afada8bf7",
   "metadata": {},
   "outputs": [
    {
     "data": {
      "text/plain": [
       "0.007585124695370977"
      ]
     },
     "execution_count": 3,
     "metadata": {},
     "output_type": "execute_result"
    }
   ],
   "source": [
    "#find p-value for two-tailed test \n",
    "scipy.stats.norm.sf(abs(2.67))*2 "
   ]
  },
  {
   "cell_type": "code",
   "execution_count": 4,
   "id": "2c2119f8-27f3-476c-acab-cbb8fb4001e9",
   "metadata": {},
   "outputs": [
    {
     "name": "stdout",
     "output_type": "stream",
     "text": [
      " The critical value is -1.6448536269514729\n",
      " The critical value is 1.6448536269514722\n",
      " The critical values are -1.959963984540054 and 1.959963984540054\n"
     ]
    }
   ],
   "source": [
    "# To compute the critical value \n",
    "#The following is the implementation of the code in Python for left-tailed, right-tailed and two-tailed tests. \n",
    "\n",
    "alpha = 0.05 # level of significance \n",
    " \n",
    "#find Z critical value for left-tailed test \n",
    "print(f\" The critical value is {scipy.stats.norm.ppf(alpha)}\") \n",
    " \n",
    "#find Z critical value for left-tailed test \n",
    "print(f\" The critical value is {scipy.stats.norm.ppf(1-alpha)}\") \n",
    " \n",
    "##find Z critical value for two-tailed test \n",
    "print(f\" The critical values are {-scipy.stats.norm.ppf(1-alpha/2)} and {scipy.stats.norm.ppf(1-alpha/2)}\") "
   ]
  },
  {
   "cell_type": "code",
   "execution_count": 5,
   "id": "467617c0-0a3e-4174-8e03-79903e78ff3a",
   "metadata": {},
   "outputs": [
    {
     "data": {
      "text/plain": [
       "104.16666666666667"
      ]
     },
     "execution_count": 5,
     "metadata": {},
     "output_type": "execute_result"
    }
   ],
   "source": [
    "#  Example of IQ test scores again in the high school in Dallas \n",
    "IQscores = [95,110, 105, 120, 125, 110, 98, 90, 99, 100, \n",
    "            110, 112, 106, 92, 108, 97, 95, 99, 100, 100, \n",
    "            103, 125, 122, 110, 112, 102, 92, 97, 89, 102] \n",
    " \n",
    "IQmean = np.array(IQscores).mean() \n",
    "IQmean"
   ]
  },
  {
   "cell_type": "code",
   "execution_count": 6,
   "id": "de560509-8959-4264-b348-d2e0fecdbbaa",
   "metadata": {},
   "outputs": [],
   "source": [
    "# with level of significance 0.05\n",
    "\n",
    "n=30 #number of students  \n",
    "sigma =12 #population standard deviation \n",
    "IQmean = 104.17 # IQ mean of 30 students after the training \n",
    "mu = 98 # population mean \n",
    " \n",
    "z = (IQmean-mu)/(sigma/math.sqrt(n)) #z = 2.81620681650573\n",
    "\n",
    "# Since the test statistic value 2.8162 > 1.64485, we reject the null hypothesis. \n",
    "# This means that the training does affect the IQ levels of these students and helps them improve their IQ scores.  "
   ]
  },
  {
   "cell_type": "code",
   "execution_count": 7,
   "id": "6ffbb49e-5bcc-4fa4-bb83-594aa7765555",
   "metadata": {},
   "outputs": [
    {
     "name": "stdout",
     "output_type": "stream",
     "text": [
      "The test statistic is 3.397499328379722 and the corresponding p-value is 0.00034002377451735716.\n"
     ]
    }
   ],
   "source": [
    "#  Example of IQ test scores again in the high school in Dallas\n",
    "\n",
    " \n",
    "#IQ scores after training sections \n",
    "IQscores = [95,110, 105, 120, 125, 110, 98, 90, 99, 100, \n",
    "            110, 112, 106, 92, 108, 97, 95, 99, 100, 100, \n",
    "            103, 125, 122, 110, 112, 102, 92, 97, 89, 102] \n",
    " \n",
    "#perform one sample z-test \n",
    "z_statistic, p_value = ztest(IQscores, value=98, alternative = 'larger') \n",
    " \n",
    "print(f\"The test statistic is {z_statistic} and the corresponding p-value is {p_value}.\") "
   ]
  },
  {
   "cell_type": "markdown",
   "id": "ddaa8d82-63d7-4131-9478-d84417f6f704",
   "metadata": {},
   "source": [
    "## Two-sample Z-test"
   ]
  },
  {
   "cell_type": "code",
   "execution_count": 8,
   "id": "b1943883-f085-4f99-a3fb-2ceb5ca5b6e7",
   "metadata": {},
   "outputs": [
    {
     "name": "stdout",
     "output_type": "stream",
     "text": [
      "The test statistic is 1.7572688143960962 and the corresponding p-value is 0.07887200072419194.\n"
     ]
    }
   ],
   "source": [
    "#IQ score \n",
    "A= [95,110, 105, 120, 125, 110, 98, 90, 99, 100, \n",
    "    110, 112, 106, 92, 108, 97, 95, 99, 100, 100,  \n",
    "    103, 125, 122, 110, 112, 102, 92, 97, 89, 102] # school A \n",
    "B = [98, 90, 100, 93, 91, 79, 90, 100, 121, 89,  \n",
    "     101, 98, 75, 90, 95, 99, 100, 120, 121, 95, \n",
    "     96, 89, 115, 99, 95, 121, 122, 98, 97, 97]   # school B \n",
    " \n",
    "#perform two- sample z-test  \n",
    "z_statistic, p_value = ztest(A, B, value=0, alternative = 'two-sided') \n",
    " \n",
    "print(f\"The test statistic is {z_statistic} and the corresponding p-value is {p_value}.\") "
   ]
  },
  {
   "cell_type": "code",
   "execution_count": null,
   "id": "5b276a6e-8d5c-4378-8a0a-3deee6f01662",
   "metadata": {},
   "outputs": [],
   "source": []
  }
 ],
 "metadata": {
  "kernelspec": {
   "display_name": "Python 3 (ipykernel)",
   "language": "python",
   "name": "python3"
  },
  "language_info": {
   "codemirror_mode": {
    "name": "ipython",
    "version": 3
   },
   "file_extension": ".py",
   "mimetype": "text/x-python",
   "name": "python",
   "nbconvert_exporter": "python",
   "pygments_lexer": "ipython3",
   "version": "3.9.7"
  }
 },
 "nbformat": 4,
 "nbformat_minor": 5
}
