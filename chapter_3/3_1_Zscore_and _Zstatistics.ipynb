{
 "cells": [
  {
   "cell_type": "code",
   "execution_count": 1,
   "id": "aa4f724c-1bcb-46f8-b555-f63e09128118",
   "metadata": {},
   "outputs": [],
   "source": [
    "import pandas as pd \n",
    "import numpy as np \n",
    "import scipy.stats as stats \n",
    "import math "
   ]
  },
  {
   "cell_type": "code",
   "execution_count": 2,
   "id": "fb4c9ca9-1110-4b2e-8292-fb92f213bbe7",
   "metadata": {},
   "outputs": [
    {
     "data": {
      "text/html": [
       "<div>\n",
       "<style scoped>\n",
       "    .dataframe tbody tr th:only-of-type {\n",
       "        vertical-align: middle;\n",
       "    }\n",
       "\n",
       "    .dataframe tbody tr th {\n",
       "        vertical-align: top;\n",
       "    }\n",
       "\n",
       "    .dataframe thead th {\n",
       "        text-align: right;\n",
       "    }\n",
       "</style>\n",
       "<table border=\"1\" class=\"dataframe\">\n",
       "  <thead>\n",
       "    <tr style=\"text-align: right;\">\n",
       "      <th></th>\n",
       "      <th>IQ score</th>\n",
       "      <th>z-score</th>\n",
       "    </tr>\n",
       "  </thead>\n",
       "  <tbody>\n",
       "    <tr>\n",
       "      <th>0</th>\n",
       "      <td>90</td>\n",
       "      <td>-0.860663</td>\n",
       "    </tr>\n",
       "    <tr>\n",
       "      <th>1</th>\n",
       "      <td>78</td>\n",
       "      <td>-1.721326</td>\n",
       "    </tr>\n",
       "    <tr>\n",
       "      <th>2</th>\n",
       "      <td>110</td>\n",
       "      <td>0.573775</td>\n",
       "    </tr>\n",
       "    <tr>\n",
       "      <th>3</th>\n",
       "      <td>110</td>\n",
       "      <td>0.573775</td>\n",
       "    </tr>\n",
       "    <tr>\n",
       "      <th>4</th>\n",
       "      <td>99</td>\n",
       "      <td>-0.215166</td>\n",
       "    </tr>\n",
       "    <tr>\n",
       "      <th>5</th>\n",
       "      <td>115</td>\n",
       "      <td>0.932385</td>\n",
       "    </tr>\n",
       "    <tr>\n",
       "      <th>6</th>\n",
       "      <td>130</td>\n",
       "      <td>2.008214</td>\n",
       "    </tr>\n",
       "    <tr>\n",
       "      <th>7</th>\n",
       "      <td>100</td>\n",
       "      <td>-0.143444</td>\n",
       "    </tr>\n",
       "    <tr>\n",
       "      <th>8</th>\n",
       "      <td>95</td>\n",
       "      <td>-0.502053</td>\n",
       "    </tr>\n",
       "    <tr>\n",
       "      <th>9</th>\n",
       "      <td>93</td>\n",
       "      <td>-0.645497</td>\n",
       "    </tr>\n",
       "  </tbody>\n",
       "</table>\n",
       "</div>"
      ],
      "text/plain": [
       "   IQ score   z-score\n",
       "0        90 -0.860663\n",
       "1        78 -1.721326\n",
       "2       110  0.573775\n",
       "3       110  0.573775\n",
       "4        99 -0.215166\n",
       "5       115  0.932385\n",
       "6       130  2.008214\n",
       "7       100 -0.143444\n",
       "8        95 -0.502053\n",
       "9        93 -0.645497"
      ]
     },
     "execution_count": 2,
     "metadata": {},
     "output_type": "execute_result"
    }
   ],
   "source": [
    "IQ = np.array([90, 78,110, 110, 99, 115,130, 100, 95, 93]) \n",
    "z_score = stats.zscore(IQ) \n",
    " \n",
    "# Create dataframe \n",
    " \n",
    "data_zscore = { \n",
    "  \"IQ score\": IQ, \n",
    "  \"z-score\": z_score \n",
    "} \n",
    " \n",
    "IQ_zscore = pd.DataFrame(data_zscore) \n",
    "IQ_zscore "
   ]
  },
  {
   "cell_type": "code",
   "execution_count": 3,
   "id": "4c556684-f3a1-49d0-bb71-b405193cb49d",
   "metadata": {},
   "outputs": [
    {
     "name": "stdout",
     "output_type": "stream",
     "text": [
      "The probability that the taken score between 95 and 104 is 29.02%!\n"
     ]
    }
   ],
   "source": [
    "#calculate z scores at x=95 and 104 \n",
    "zscore_95 = round((95-98)/12,2) \n",
    "zscore_104 = round((104-98)/12,2) \n",
    " \n",
    "#calculate cdf and probability \n",
    "cdf_95 = stats.norm.cdf(zscore_95) \n",
    "cdf_104 = stats.norm.cdf(zscore_104) \n",
    "prob = abs(cdf_95-cdf_104) \n",
    " \n",
    "#print the probability \n",
    "print(f\"The probability that the taken score between 95 and 104 is {round(prob*100,2)}%!\") "
   ]
  },
  {
   "cell_type": "code",
   "execution_count": 4,
   "id": "032b6685-ef70-4bbf-9d70-a42660e3c3c6",
   "metadata": {},
   "outputs": [
    {
     "name": "stdout",
     "output_type": "stream",
     "text": [
      "The probability that the taken score between 95 and 104 is 53.28%!\n"
     ]
    }
   ],
   "source": [
    " # standard error \n",
    "n= 4 \n",
    "sigma = 12 \n",
    "se = sigma/math.sqrt(n) \n",
    " \n",
    "#calculate z scores at x=95 and 104 \n",
    "zscore_95 = round((95-98)/se,2) \n",
    "zscore_104 = round((104-98)/se,2) \n",
    " \n",
    "#calculate cdf and probability \n",
    "cdf_95 = stats.norm.cdf(zscore_95) \n",
    "cdf_104 = stats.norm.cdf(zscore_104) \n",
    "prob = abs(cdf_95-cdf_104) \n",
    " \n",
    "#print the probability \n",
    "print(f\"The probability that the taken score between 95 and 104 is {round(prob*100,2)}%!\") "
   ]
  }
 ],
 "metadata": {
  "kernelspec": {
   "display_name": "Python 3 (ipykernel)",
   "language": "python",
   "name": "python3"
  },
  "language_info": {
   "codemirror_mode": {
    "name": "ipython",
    "version": 3
   },
   "file_extension": ".py",
   "mimetype": "text/x-python",
   "name": "python",
   "nbconvert_exporter": "python",
   "pygments_lexer": "ipython3",
   "version": "3.9.7"
  }
 },
 "nbformat": 4,
 "nbformat_minor": 5
}
