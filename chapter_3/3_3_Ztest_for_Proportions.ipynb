{
 "cells": [
  {
   "cell_type": "markdown",
   "id": "37dabfbf-b6cd-408b-b1ec-e901f4e64d07",
   "metadata": {},
   "source": [
    "## One-proportion Z-test"
   ]
  },
  {
   "cell_type": "code",
   "execution_count": 1,
   "id": "dccd35bc-d8f0-43c0-b615-1dd8f1edcda7",
   "metadata": {},
   "outputs": [
    {
     "name": "stdout",
     "output_type": "stream",
     "text": [
      "The test statistic is -2.236067977499786 and the corresponding p-value is 0.0253473186774685.\n"
     ]
    }
   ],
   "source": [
    "#import proportions_ztest function \n",
    "from statsmodels.stats.proportion import proportions_ztest \n",
    " \n",
    "count = 0.8*500 \n",
    "nobs = 500 \n",
    "value = 0.84 \n",
    " \n",
    "#perform one proportion two-tailed z-test \n",
    "z_statistic, p_value = proportions_ztest(count, nobs, value, alternative = 'two-sided') \n",
    " \n",
    "print(f\"The test statistic is {z_statistic} and the corresponding p-value is {p_value}.\") "
   ]
  },
  {
   "cell_type": "markdown",
   "id": "6171c637-ef73-440e-b56d-e112d239db24",
   "metadata": {},
   "source": [
    "## Two-proportion Z-test"
   ]
  },
  {
   "cell_type": "code",
   "execution_count": 2,
   "id": "a00f60dd-a51e-4b9b-9289-7578e1b0d520",
   "metadata": {},
   "outputs": [
    {
     "name": "stdout",
     "output_type": "stream",
     "text": [
      "The test statistic is 1.6329931618554536 and the p-value for two tailed test is 0.1024704348597491.\n"
     ]
    }
   ],
   "source": [
    "import math  \n",
    "import scipy \n",
    "p_1bar = 0.8 \n",
    "p_2bar = 0.7 \n",
    "n1 = 100.0 \n",
    "n2 = 100.0 \n",
    " \n",
    "p= (p_1bar*n1 + p_2bar*n2)/(n1+n2)   # the total pooled proportion \n",
    " \n",
    "z = (p_1bar-p_2bar)/math.sqrt(p*(1-p)*(1/n1+1/n2)) \n",
    "pval = scipy.stats.norm.sf(abs(z))*2 \n",
    " \n",
    "print(f\"The test statistic is {z} and the p-value for two tailed test is {pval}.\") "
   ]
  },
  {
   "cell_type": "code",
   "execution_count": null,
   "id": "b890aadc-d4b3-4350-88bc-1d08e8be32c4",
   "metadata": {},
   "outputs": [],
   "source": []
  }
 ],
 "metadata": {
  "kernelspec": {
   "display_name": "Python 3 (ipykernel)",
   "language": "python",
   "name": "python3"
  },
  "language_info": {
   "codemirror_mode": {
    "name": "ipython",
    "version": 3
   },
   "file_extension": ".py",
   "mimetype": "text/x-python",
   "name": "python",
   "nbconvert_exporter": "python",
   "pygments_lexer": "ipython3",
   "version": "3.9.7"
  }
 },
 "nbformat": 4,
 "nbformat_minor": 5
}
