{
 "cells": [
  {
   "cell_type": "markdown",
   "id": "265474f8-2cb5-4849-bf05-db1097d7390e",
   "metadata": {},
   "source": [
    "# Sampling\n",
    "\n",
    "This notebook shows examples of simple random sampling and statified random sampling as described in section 4 of chapter 1."
   ]
  },
  {
   "cell_type": "code",
   "execution_count": 1,
   "id": "f00e11c8-4392-4810-a8b1-6a71245d9072",
   "metadata": {},
   "outputs": [],
   "source": [
    "import numpy as np\n",
    "\n",
    "# setup generator for reproducibility\n",
    "random_generator = np.random.default_rng(2020)"
   ]
  },
  {
   "cell_type": "markdown",
   "id": "81d68f9a-4815-46ca-91de-288b67a8ec1e",
   "metadata": {},
   "source": [
    "## Simple Random Sampling\n",
    "\n",
    "The following code shows how to implement simple random sampling with numpy for the population shown in figure 3."
   ]
  },
  {
   "cell_type": "code",
   "execution_count": 2,
   "id": "2e2427b9-fe48-4b66-9b73-7de9f682ca99",
   "metadata": {},
   "outputs": [
    {
     "data": {
      "text/plain": [
       "array([ 1,  2,  3,  4,  5,  6,  7,  8,  9, 10])"
      ]
     },
     "execution_count": 2,
     "metadata": {},
     "output_type": "execute_result"
    }
   ],
   "source": [
    "population = np.arange(1, 10 + 1)\n",
    "population"
   ]
  },
  {
   "cell_type": "code",
   "execution_count": 3,
   "id": "793c3121-bcd9-4296-815c-9afd20acf11e",
   "metadata": {},
   "outputs": [
    {
     "data": {
      "text/plain": [
       "array([1, 8, 5])"
      ]
     },
     "execution_count": 3,
     "metadata": {},
     "output_type": "execute_result"
    }
   ],
   "source": [
    "sample = random_generator.choice(\n",
    "    population,           # sample from population\n",
    "    size=3,               # number of samples to take\n",
    "    replace=False         # only allow to sample individuals once\n",
    ")\n",
    "sample"
   ]
  },
  {
   "cell_type": "markdown",
   "id": "6c246a7c-4801-44c3-99b1-a4f3da7735cc",
   "metadata": {},
   "source": [
    "Results of output may vary."
   ]
  },
  {
   "cell_type": "markdown",
   "id": "e4cff7c6-5836-4334-b6ba-7ca194bcba97",
   "metadata": {},
   "source": [
    "## Stratified Random Sampling\n",
    "\n",
    "The following shows how to implement stratified random sampling as shown in figure 4."
   ]
  },
  {
   "cell_type": "code",
   "execution_count": 4,
   "id": "5917311f-baec-4902-8b6d-881b3ee3434f",
   "metadata": {},
   "outputs": [
    {
     "name": "stdout",
     "output_type": "stream",
     "text": [
      "{'number': [1, 3, 4, 5, 2, 8, 7, 6], 'string': ['A', 'D', 'C', 'B']}\n"
     ]
    }
   ],
   "source": [
    "population = [\n",
    "    1, \"A\", 3, 4,\n",
    "    5, 2, \"D\", 8,\n",
    "    \"C\", 7, 6, \"B\"\n",
    "]\n",
    "\n",
    "strata = {\n",
    "    'number' : [],\n",
    "    'string' : [],\n",
    "}\n",
    "\n",
    "for item in population:\n",
    "    if isinstance(item, int):\n",
    "        strata['number'].append(item)\n",
    "    else:\n",
    "        strata['string'].append(item)\n",
    "\n",
    "print(strata)"
   ]
  },
  {
   "cell_type": "code",
   "execution_count": 5,
   "id": "1a8aae1f-36e5-4ee0-bfff-6f8401243921",
   "metadata": {},
   "outputs": [
    {
     "name": "stdout",
     "output_type": "stream",
     "text": [
      "{'number': array([2, 8, 5, 1]), 'string': array(['D', 'C'], dtype='<U1')}\n"
     ]
    }
   ],
   "source": [
    "# fraction of population to sample\n",
    "sample_fraction = 0.5\n",
    "\n",
    "sampled_strata = {}\n",
    "\n",
    "for group in strata:\n",
    "    sample_size = int(\n",
    "        sample_fraction * len(strata[group])\n",
    "    )\n",
    "    sampled_strata[group] = random_generator.choice(\n",
    "            strata[group], \n",
    "            size=sample_size, \n",
    "            replace=False\n",
    "    )\n",
    "print(sampled_strata)"
   ]
  }
 ],
 "metadata": {
  "kernelspec": {
   "display_name": "Python 3 (ipykernel)",
   "language": "python",
   "name": "python3"
  },
  "language_info": {
   "codemirror_mode": {
    "name": "ipython",
    "version": 3
   },
   "file_extension": ".py",
   "mimetype": "text/x-python",
   "name": "python",
   "nbconvert_exporter": "python",
   "pygments_lexer": "ipython3",
   "version": "3.8.0"
  }
 },
 "nbformat": 4,
 "nbformat_minor": 5
}
