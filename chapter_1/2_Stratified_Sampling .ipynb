{
 "cells": [
  {
   "cell_type": "code",
   "execution_count": 1,
   "id": "b6096342-9963-495e-a8df-95a396e4a59e",
   "metadata": {},
   "outputs": [],
   "source": [
    "import numpy as np "
   ]
  },
  {
   "cell_type": "code",
   "execution_count": 2,
   "id": "5a4b7682-9534-4c70-8fe6-024a1b7946a8",
   "metadata": {},
   "outputs": [],
   "source": [
    "# setup generator for reproducibility \n",
    "random_generator = np.random.default_rng(2020)\n",
    " "
   ]
  },
  {
   "cell_type": "code",
   "execution_count": 3,
   "id": "ff34a34d-70a9-4868-b4e5-7b42717ae2f8",
   "metadata": {},
   "outputs": [],
   "source": [
    " \n",
    "population = [ \n",
    "   1, \"A\", 3, 4, \n",
    "   5, 2, \"D\", 8, \n",
    "   \"C\", 7, 6, \"B\" \n",
    "] \n",
    "# group strata \n",
    "strata = { \n",
    "    'number' : [], \n",
    "    'string' : [], \n",
    "} \n",
    " "
   ]
  },
  {
   "cell_type": "code",
   "execution_count": 4,
   "id": "27f6d1c6-dcc9-49c8-bbc4-9f964470710b",
   "metadata": {},
   "outputs": [
    {
     "name": "stdout",
     "output_type": "stream",
     "text": [
      "{'number': array([4, 1, 2, 8]), 'string': array(['D', 'C'], dtype='<U1')}\n"
     ]
    }
   ],
   "source": [
    "for item in population: \n",
    "    if isinstance(item, int): \n",
    "        strata['number'].append(item) \n",
    "    else: \n",
    "        strata['string'].append(item) \n",
    " \n",
    "# fraction of population to sample \n",
    "sample_fraction = 0.5 \n",
    "# random sample from stata \n",
    "sampled_strata = {} \n",
    " \n",
    "for group in strata: \n",
    "    sample_size = int( \n",
    "        sample_fraction * len(strata[group]) \n",
    "    ) \n",
    "    sampled_strata[group] = random_generator.choice( \n",
    "            strata[group],  \n",
    "            size=sample_size,  \n",
    "            replace=False \n",
    "    ) \n",
    "print(sampled_strata) "
   ]
  },
  {
   "cell_type": "code",
   "execution_count": null,
   "id": "64f0e537-988a-4775-a21f-42fc63149a76",
   "metadata": {},
   "outputs": [],
   "source": []
  }
 ],
 "metadata": {
  "kernelspec": {
   "display_name": "Python 3 (ipykernel)",
   "language": "python",
   "name": "python3"
  },
  "language_info": {
   "codemirror_mode": {
    "name": "ipython",
    "version": 3
   },
   "file_extension": ".py",
   "mimetype": "text/x-python",
   "name": "python",
   "nbconvert_exporter": "python",
   "pygments_lexer": "ipython3",
   "version": "3.9.7"
  }
 },
 "nbformat": 4,
 "nbformat_minor": 5
}
