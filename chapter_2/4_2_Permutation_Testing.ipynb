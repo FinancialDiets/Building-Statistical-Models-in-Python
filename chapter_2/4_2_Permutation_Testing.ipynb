{
 "cells": [
  {
   "cell_type": "code",
   "execution_count": 1,
   "id": "e17c8e22-7fc5-437b-9e3f-ae0e643a7089",
   "metadata": {},
   "outputs": [],
   "source": [
    "import numpy as np"
   ]
  },
  {
   "cell_type": "code",
   "execution_count": 2,
   "id": "c1c628e4-f2fc-466f-9a25-c8b63fabd0cd",
   "metadata": {},
   "outputs": [],
   "source": [
    "# create permutation testing function \n",
    "def permutation_testing(A,B,n_iter=1000):\n",
    "#A, B are 2 lists of samples to test the hypothesis,  \n",
    "#n_iter is number of iterations with the default is 1000  \n",
    "    differences = []\n",
    "    P = np.array(A+B)\n",
    "    original_mean = np.array(A).mean()-np.array(B).mean()\n",
    "    for i in range(n_iter):\n",
    "        np.random.shuffle(P) # create a random permutation of P\n",
    "        A_new = P[:len(A)] # having the same size of A \n",
    "        B_new = P[-len(B):] # having the same size of B \n",
    "        differences.append(A_new.mean()-B_new.mean()) \n",
    "    #Calculate p_value \n",
    "    p_value = round(1-(float(len(np.where(differences<=original_mean)[0]))/float(n_iter)),2) \n",
    "    return p_value "
   ]
  },
  {
   "cell_type": "code",
   "execution_count": 3,
   "id": "e96b6297-e200-435f-8e6c-ff44bd431445",
   "metadata": {},
   "outputs": [
    {
     "data": {
      "text/plain": [
       "0.98"
      ]
     },
     "execution_count": 3,
     "metadata": {},
     "output_type": "execute_result"
    }
   ],
   "source": [
    "A = [3,5,4]\n",
    "B = [43,41,56,78,54]\n",
    "\n",
    "permutation_testing(A,B,n_iter=10000)"
   ]
  },
  {
   "cell_type": "code",
   "execution_count": null,
   "id": "e530312a-2b4f-498e-b386-535e9768842d",
   "metadata": {},
   "outputs": [],
   "source": []
  }
 ],
 "metadata": {
  "kernelspec": {
   "display_name": "Python 3 (ipykernel)",
   "language": "python",
   "name": "python3"
  },
  "language_info": {
   "codemirror_mode": {
    "name": "ipython",
    "version": 3
   },
   "file_extension": ".py",
   "mimetype": "text/x-python",
   "name": "python",
   "nbconvert_exporter": "python",
   "pygments_lexer": "ipython3",
   "version": "3.9.7"
  }
 },
 "nbformat": 4,
 "nbformat_minor": 5
}
