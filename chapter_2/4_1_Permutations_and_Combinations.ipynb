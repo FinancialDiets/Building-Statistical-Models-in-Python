{
 "cells": [
  {
   "cell_type": "code",
   "execution_count": 1,
   "id": "f831728b-1ef5-46e9-b0e9-8f985ecc21d3",
   "metadata": {},
   "outputs": [],
   "source": [
    "# Permutations\n",
    "\n",
    "from itertools import permutations   "
   ]
  },
  {
   "cell_type": "code",
   "execution_count": 2,
   "id": "7756e167-5876-40c1-a48a-070bb5793acc",
   "metadata": {},
   "outputs": [
    {
     "name": "stdout",
     "output_type": "stream",
     "text": [
      "There are 720 ways to distribute the prizes!\n"
     ]
    }
   ],
   "source": [
    "# list of 10 people in the party  \n",
    "people = ['P1','P2','P3','P4','P5','P6','P7','P8','P9','P10']  \n",
    "# all the ways that the 3 prizes are distributed  \n",
    "perm = permutations(people, 3)  \n",
    "list_perm = list(perm)  \n",
    "print(f\"There are {len(list_perm)} ways to distribute the prizes!\")"
   ]
  },
  {
   "cell_type": "code",
   "execution_count": 3,
   "id": "a528fa69-6239-4ea2-bdda-8c04a168e8e1",
   "metadata": {},
   "outputs": [
    {
     "name": "stdout",
     "output_type": "stream",
     "text": [
      "There are 3628800 ways to distribute the prizes!\n"
     ]
    }
   ],
   "source": [
    "# list of 10 people in the party \n",
    "people = ['P1','P2','P3','P4','P5','P6','P7','P8','P9','P10']  \n",
    "# all the ways that the 10 different gifts are distributed \n",
    "perm = permutations(people)  \n",
    "list_perm = list(perm)  \n",
    "print(f\"There are {len(list_perm)} ways to distribute the prizes!\")"
   ]
  },
  {
   "cell_type": "code",
   "execution_count": null,
   "id": "4ec9ff2d-1abb-4ec5-8509-ecdbe5fba469",
   "metadata": {},
   "outputs": [],
   "source": []
  },
  {
   "cell_type": "code",
   "execution_count": 4,
   "id": "efbbcfe3-fcd0-4ce8-8464-6f77538db7ae",
   "metadata": {},
   "outputs": [],
   "source": [
    "# Combinations\n",
    "from itertools import combinations"
   ]
  },
  {
   "cell_type": "code",
   "execution_count": 5,
   "id": "d92604c5-4005-4e3c-9353-cdc73d42157f",
   "metadata": {},
   "outputs": [
    {
     "name": "stdout",
     "output_type": "stream",
     "text": [
      "There are 120 ways to distribute the prizes!\n"
     ]
    }
   ],
   "source": [
    "# list of 10 people in the party  \n",
    "people = ['P1','P2','P3','P4','P5','P6','P7','P8','P9','P10']  \n",
    "# all the ways that the 3 prizes are distributed  \n",
    "comb = combinations(people, 3)  \n",
    "list_comb = list(comb)  \n",
    "print(f\"There are {len(list_comb)} ways to distribute the prizes!\") "
   ]
  },
  {
   "cell_type": "code",
   "execution_count": null,
   "id": "362da4e7-e3ec-47f2-9458-6663ea0a66f3",
   "metadata": {},
   "outputs": [],
   "source": []
  }
 ],
 "metadata": {
  "kernelspec": {
   "display_name": "Python 3 (ipykernel)",
   "language": "python",
   "name": "python3"
  },
  "language_info": {
   "codemirror_mode": {
    "name": "ipython",
    "version": 3
   },
   "file_extension": ".py",
   "mimetype": "text/x-python",
   "name": "python",
   "nbconvert_exporter": "python",
   "pygments_lexer": "ipython3",
   "version": "3.9.7"
  }
 },
 "nbformat": 4,
 "nbformat_minor": 5
}
