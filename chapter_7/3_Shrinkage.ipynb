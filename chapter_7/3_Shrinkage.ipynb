{
 "cells": [
  {
   "cell_type": "markdown",
   "id": "fb29a9cd-e1be-4e12-93c4-09cf274855ee",
   "metadata": {},
   "source": [
    "# Prep Data"
   ]
  },
  {
   "cell_type": "code",
   "execution_count": 5,
   "id": "f0c53df5-4deb-42b6-90e2-fe45ebad939e",
   "metadata": {},
   "outputs": [],
   "source": [
    "from sklearn.metrics import mean_squared_error as MSE\n",
    "from sklearn.model_selection import train_test_split\n",
    "from sklearn.preprocessing import StandardScaler\n",
    "from sklearn.datasets import fetch_california_housing\n",
    "import statsmodels.api as sm\n",
    "import pandas as pd\n",
    "\n",
    "california_housing = fetch_california_housing()\n",
    "df_california = pd.DataFrame(california_housing.data, columns = california_housing.feature_names)\n",
    "df_california['PRICE'] = california_housing.target\n",
    "df_california = sm.add_constant(df_california, prepend=False)"
   ]
  },
  {
   "cell_type": "code",
   "execution_count": 6,
   "id": "c5cc3dba-1695-48fe-8fa8-1e12bac2a12b",
   "metadata": {},
   "outputs": [],
   "source": [
    "df_california.head().to_clipboard()"
   ]
  },
  {
   "cell_type": "code",
   "execution_count": 7,
   "id": "ee667fa7-81cf-4be4-8c0e-8c5b2bf18321",
   "metadata": {},
   "outputs": [],
   "source": [
    "X = df_california.drop('PRICE', axis=1)\n",
    "y = df_california['PRICE']"
   ]
  },
  {
   "cell_type": "code",
   "execution_count": 8,
   "id": "56b54779-ed92-47f6-b205-ac8476cf4d63",
   "metadata": {},
   "outputs": [],
   "source": [
    "sc = StandardScaler()\n",
    "X_scaled = sc.fit_transform(X)"
   ]
  },
  {
   "cell_type": "code",
   "execution_count": 9,
   "id": "18ae04e9-cb2b-45a1-8dcb-00f24b022f30",
   "metadata": {},
   "outputs": [],
   "source": [
    "X_train, X_test, y_train, y_test = train_test_split(X_scaled, y, test_size=0.25, shuffle=True)"
   ]
  },
  {
   "cell_type": "markdown",
   "id": "35991f94-52c3-4822-8617-518f13653096",
   "metadata": {},
   "source": [
    "# Ridge Regression"
   ]
  },
  {
   "cell_type": "code",
   "execution_count": 10,
   "id": "775860e6-ef88-406d-9d21-92d21a5f06e4",
   "metadata": {},
   "outputs": [],
   "source": [
    "ols_model = sm.OLS(y_train, X_train)\n",
    "compiled_model = ols_model.fit()\n",
    "compiled_model_ridge = ols_model.fit_regularized(method='elastic_net', L1_wt=0, alpha=0.1,refit=True)"
   ]
  },
  {
   "cell_type": "code",
   "execution_count": 11,
   "id": "00095601-be50-4238-a586-f288405c5016",
   "metadata": {},
   "outputs": [
    {
     "name": "stdout",
     "output_type": "stream",
     "text": [
      "OLS Error:  4.806871781767541\n",
      "Ridge Regression Error:  4.862847117128481\n"
     ]
    }
   ],
   "source": [
    "print('OLS Error: ', MSE(y_train, compiled_model.predict(X_train)) )\n",
    "print('Ridge Regression Error: ', MSE(y_train, compiled_model_ridge.predict(X_train)))"
   ]
  },
  {
   "cell_type": "code",
   "execution_count": 12,
   "id": "33f7c116-739c-4c22-9201-12c0741694d4",
   "metadata": {},
   "outputs": [
    {
     "name": "stdout",
     "output_type": "stream",
     "text": [
      "OLS Error:  4.799965081300563\n",
      "Ridge Regression Error:  4.802637071118009\n"
     ]
    }
   ],
   "source": [
    "print('OLS Error: ', MSE(y_test, compiled_model.predict(X_test)) )\n",
    "print('Ridge Regression Error: ', MSE(y_test, compiled_model_ridge.predict(X_test)))"
   ]
  },
  {
   "cell_type": "code",
   "execution_count": 14,
   "id": "9a10cd1d-3d79-419d-a240-cae500d60ace",
   "metadata": {},
   "outputs": [],
   "source": [
    "df_compare = pd.DataFrame({'Before Ridge Regression':compiled_model.params,\n",
    "                           'After Ridge Regression':compiled_model_ridge.params})\n",
    "df_compare.index=list(X.columns)"
   ]
  },
  {
   "cell_type": "code",
   "execution_count": 15,
   "id": "7409eb33-4c0a-4a62-9c34-2cbf11036a76",
   "metadata": {},
   "outputs": [
    {
     "data": {
      "text/html": [
       "<div>\n",
       "<style scoped>\n",
       "    .dataframe tbody tr th:only-of-type {\n",
       "        vertical-align: middle;\n",
       "    }\n",
       "\n",
       "    .dataframe tbody tr th {\n",
       "        vertical-align: top;\n",
       "    }\n",
       "\n",
       "    .dataframe thead th {\n",
       "        text-align: right;\n",
       "    }\n",
       "</style>\n",
       "<table border=\"1\" class=\"dataframe\">\n",
       "  <thead>\n",
       "    <tr style=\"text-align: right;\">\n",
       "      <th></th>\n",
       "      <th>MedInc</th>\n",
       "      <th>HouseAge</th>\n",
       "      <th>AveRooms</th>\n",
       "      <th>AveBedrms</th>\n",
       "      <th>Population</th>\n",
       "      <th>AveOccup</th>\n",
       "      <th>Latitude</th>\n",
       "      <th>Longitude</th>\n",
       "      <th>const</th>\n",
       "    </tr>\n",
       "  </thead>\n",
       "  <tbody>\n",
       "    <tr>\n",
       "      <th>Before Ridge Regression</th>\n",
       "      <td>0.829497</td>\n",
       "      <td>0.118072</td>\n",
       "      <td>-0.261175</td>\n",
       "      <td>0.331459</td>\n",
       "      <td>-0.010918</td>\n",
       "      <td>-0.027147</td>\n",
       "      <td>-0.993947</td>\n",
       "      <td>-0.950686</td>\n",
       "      <td>0.0</td>\n",
       "    </tr>\n",
       "    <tr>\n",
       "      <th>After Ridge Regression</th>\n",
       "      <td>0.736616</td>\n",
       "      <td>0.159327</td>\n",
       "      <td>-0.074473</td>\n",
       "      <td>0.092443</td>\n",
       "      <td>0.004344</td>\n",
       "      <td>-0.027914</td>\n",
       "      <td>-0.438714</td>\n",
       "      <td>-0.388492</td>\n",
       "      <td>0.0</td>\n",
       "    </tr>\n",
       "  </tbody>\n",
       "</table>\n",
       "</div>"
      ],
      "text/plain": [
       "                           MedInc  HouseAge  AveRooms  AveBedrms  Population  \\\n",
       "Before Ridge Regression  0.829497  0.118072 -0.261175   0.331459   -0.010918   \n",
       "After Ridge Regression   0.736616  0.159327 -0.074473   0.092443    0.004344   \n",
       "\n",
       "                         AveOccup  Latitude  Longitude  const  \n",
       "Before Ridge Regression -0.027147 -0.993947  -0.950686    0.0  \n",
       "After Ridge Regression  -0.027914 -0.438714  -0.388492    0.0  "
      ]
     },
     "execution_count": 15,
     "metadata": {},
     "output_type": "execute_result"
    }
   ],
   "source": [
    "df_compare.T"
   ]
  },
  {
   "cell_type": "code",
   "execution_count": 500,
   "id": "a77527aa-22e9-416d-8ea7-764124ea62e4",
   "metadata": {},
   "outputs": [],
   "source": [
    "df_compare.T.to_clipboard()"
   ]
  },
  {
   "cell_type": "markdown",
   "id": "3e871245-d817-4047-90ad-0a7d0e36615f",
   "metadata": {},
   "source": [
    "# LASSO Regression"
   ]
  },
  {
   "cell_type": "code",
   "execution_count": 16,
   "id": "a2e5c9bc-ab39-4a0f-8edc-90aa96a78e17",
   "metadata": {},
   "outputs": [
    {
     "name": "stdout",
     "output_type": "stream",
     "text": [
      "OLS Error:  4.806871781767541\n",
      "LASSO Regression Error:  4.93937023995957\n"
     ]
    }
   ],
   "source": [
    "ols_model = sm.OLS(y_train, X_train)\n",
    "compiled_model = ols_model.fit()\n",
    "compiled_model_lasso = ols_model.fit_regularized(method='elastic_net', L1_wt=1, alpha=0.1,refit=True)\n",
    "\n",
    "print('OLS Error: ', MSE(y_train, compiled_model.predict(X_train)) )\n",
    "print('LASSO Regression Error: ', MSE(y_train, compiled_model_lasso.predict(X_train)))"
   ]
  },
  {
   "cell_type": "code",
   "execution_count": 17,
   "id": "6217d1b6-6d66-45e5-a051-b31a31e0a6af",
   "metadata": {},
   "outputs": [
    {
     "name": "stdout",
     "output_type": "stream",
     "text": [
      "OLS Error:  4.799965081300563\n",
      "LASSO Regression Error:  4.870307535710372\n"
     ]
    }
   ],
   "source": [
    "print('OLS Error: ', MSE(y_test, compiled_model.predict(X_test)) )\n",
    "print('LASSO Regression Error: ', MSE(y_test, compiled_model_lasso.predict(X_test)))"
   ]
  },
  {
   "cell_type": "code",
   "execution_count": 18,
   "id": "69e05a1c-53c7-491b-ba0f-a62e72810828",
   "metadata": {},
   "outputs": [],
   "source": [
    "df_compare = pd.DataFrame({'Before LASSO Regression':compiled_model.params,\n",
    "                           'After LASSO Regression':compiled_model_ridge.params})\n",
    "df_compare.index=list(X.columns)"
   ]
  },
  {
   "cell_type": "code",
   "execution_count": 19,
   "id": "07d0e90d-ca22-4624-91b3-81ddcd027fd6",
   "metadata": {},
   "outputs": [
    {
     "data": {
      "text/html": [
       "<div>\n",
       "<style scoped>\n",
       "    .dataframe tbody tr th:only-of-type {\n",
       "        vertical-align: middle;\n",
       "    }\n",
       "\n",
       "    .dataframe tbody tr th {\n",
       "        vertical-align: top;\n",
       "    }\n",
       "\n",
       "    .dataframe thead th {\n",
       "        text-align: right;\n",
       "    }\n",
       "</style>\n",
       "<table border=\"1\" class=\"dataframe\">\n",
       "  <thead>\n",
       "    <tr style=\"text-align: right;\">\n",
       "      <th></th>\n",
       "      <th>MedInc</th>\n",
       "      <th>HouseAge</th>\n",
       "      <th>AveRooms</th>\n",
       "      <th>AveBedrms</th>\n",
       "      <th>Population</th>\n",
       "      <th>AveOccup</th>\n",
       "      <th>Latitude</th>\n",
       "      <th>Longitude</th>\n",
       "      <th>const</th>\n",
       "    </tr>\n",
       "  </thead>\n",
       "  <tbody>\n",
       "    <tr>\n",
       "      <th>Before LASSO Regression</th>\n",
       "      <td>0.829497</td>\n",
       "      <td>0.118072</td>\n",
       "      <td>-0.261175</td>\n",
       "      <td>0.331459</td>\n",
       "      <td>-0.010918</td>\n",
       "      <td>-0.027147</td>\n",
       "      <td>-0.993947</td>\n",
       "      <td>-0.950686</td>\n",
       "      <td>0.0</td>\n",
       "    </tr>\n",
       "    <tr>\n",
       "      <th>After LASSO Regression</th>\n",
       "      <td>0.736616</td>\n",
       "      <td>0.159327</td>\n",
       "      <td>-0.074473</td>\n",
       "      <td>0.092443</td>\n",
       "      <td>0.004344</td>\n",
       "      <td>-0.027914</td>\n",
       "      <td>-0.438714</td>\n",
       "      <td>-0.388492</td>\n",
       "      <td>0.0</td>\n",
       "    </tr>\n",
       "  </tbody>\n",
       "</table>\n",
       "</div>"
      ],
      "text/plain": [
       "                           MedInc  HouseAge  AveRooms  AveBedrms  Population  \\\n",
       "Before LASSO Regression  0.829497  0.118072 -0.261175   0.331459   -0.010918   \n",
       "After LASSO Regression   0.736616  0.159327 -0.074473   0.092443    0.004344   \n",
       "\n",
       "                         AveOccup  Latitude  Longitude  const  \n",
       "Before LASSO Regression -0.027147 -0.993947  -0.950686    0.0  \n",
       "After LASSO Regression  -0.027914 -0.438714  -0.388492    0.0  "
      ]
     },
     "execution_count": 19,
     "metadata": {},
     "output_type": "execute_result"
    }
   ],
   "source": [
    "df_compare.T"
   ]
  },
  {
   "cell_type": "code",
   "execution_count": 20,
   "id": "843d4b10-b8a2-4a1b-ad94-be4a61643b35",
   "metadata": {},
   "outputs": [],
   "source": [
    "df_compare.T.to_clipboard()"
   ]
  },
  {
   "cell_type": "markdown",
   "id": "0630faa9-da96-4fbc-9d07-61a4f1cb4925",
   "metadata": {},
   "source": [
    "# Elastic Net Regression"
   ]
  },
  {
   "cell_type": "code",
   "execution_count": 21,
   "id": "1257fbd2-d5e0-445b-8012-088da3358879",
   "metadata": {},
   "outputs": [],
   "source": [
    "ols_model = sm.OLS(y_train, X_train)\n",
    "compiled_model = ols_model.fit()\n",
    "compiled_model_elastic = ols_model.fit_regularized(method='elastic_net', L1_wt=0.5, alpha=8,refit=True)"
   ]
  },
  {
   "cell_type": "code",
   "execution_count": 22,
   "id": "20103009-464c-41c8-a889-9f0cc2a4a456",
   "metadata": {},
   "outputs": [
    {
     "name": "stdout",
     "output_type": "stream",
     "text": [
      "OLS Error:  4.806871781767541\n",
      "Elastic Net Regression Error:  5.646749280108061\n"
     ]
    }
   ],
   "source": [
    "print('OLS Error: ', MSE(y_train, compiled_model.predict(X_train)) )\n",
    "print('Elastic Net Regression Error: ', MSE(y_train, compiled_model_elastic.predict(X_train)))"
   ]
  },
  {
   "cell_type": "code",
   "execution_count": 23,
   "id": "f3348a4c-53b6-4688-8c52-5a525e04a764",
   "metadata": {},
   "outputs": [
    {
     "name": "stdout",
     "output_type": "stream",
     "text": [
      "OLS Error:  4.799965081300563\n",
      "Elastic Net Regression Error:  5.501684955624825\n"
     ]
    }
   ],
   "source": [
    "print('OLS Error: ', MSE(y_test, compiled_model.predict(X_test)) )\n",
    "print('Elastic Net Regression Error: ', MSE(y_test, compiled_model_elastic.predict(X_test)))"
   ]
  },
  {
   "cell_type": "code",
   "execution_count": 24,
   "id": "d43c9e38-9720-4105-90a0-a8194464f99d",
   "metadata": {},
   "outputs": [],
   "source": [
    "df_compare = pd.DataFrame({'Before Elastic Net Regression':compiled_model.params,\n",
    "                           'After Elastic Net Regression':compiled_model_ridge.params})\n",
    "df_compare.index=list(X.columns)"
   ]
  },
  {
   "cell_type": "code",
   "execution_count": 25,
   "id": "a4bc06c9-5c52-4f7b-b155-0a4a0b4089bf",
   "metadata": {},
   "outputs": [
    {
     "data": {
      "text/html": [
       "<div>\n",
       "<style scoped>\n",
       "    .dataframe tbody tr th:only-of-type {\n",
       "        vertical-align: middle;\n",
       "    }\n",
       "\n",
       "    .dataframe tbody tr th {\n",
       "        vertical-align: top;\n",
       "    }\n",
       "\n",
       "    .dataframe thead th {\n",
       "        text-align: right;\n",
       "    }\n",
       "</style>\n",
       "<table border=\"1\" class=\"dataframe\">\n",
       "  <thead>\n",
       "    <tr style=\"text-align: right;\">\n",
       "      <th></th>\n",
       "      <th>MedInc</th>\n",
       "      <th>HouseAge</th>\n",
       "      <th>AveRooms</th>\n",
       "      <th>AveBedrms</th>\n",
       "      <th>Population</th>\n",
       "      <th>AveOccup</th>\n",
       "      <th>Latitude</th>\n",
       "      <th>Longitude</th>\n",
       "      <th>const</th>\n",
       "    </tr>\n",
       "  </thead>\n",
       "  <tbody>\n",
       "    <tr>\n",
       "      <th>Before Elastic Net Regression</th>\n",
       "      <td>0.829497</td>\n",
       "      <td>0.118072</td>\n",
       "      <td>-0.261175</td>\n",
       "      <td>0.331459</td>\n",
       "      <td>-0.010918</td>\n",
       "      <td>-0.027147</td>\n",
       "      <td>-0.993947</td>\n",
       "      <td>-0.950686</td>\n",
       "      <td>0.0</td>\n",
       "    </tr>\n",
       "    <tr>\n",
       "      <th>After Elastic Net Regression</th>\n",
       "      <td>0.736616</td>\n",
       "      <td>0.159327</td>\n",
       "      <td>-0.074473</td>\n",
       "      <td>0.092443</td>\n",
       "      <td>0.004344</td>\n",
       "      <td>-0.027914</td>\n",
       "      <td>-0.438714</td>\n",
       "      <td>-0.388492</td>\n",
       "      <td>0.0</td>\n",
       "    </tr>\n",
       "  </tbody>\n",
       "</table>\n",
       "</div>"
      ],
      "text/plain": [
       "                                 MedInc  HouseAge  AveRooms  AveBedrms  \\\n",
       "Before Elastic Net Regression  0.829497  0.118072 -0.261175   0.331459   \n",
       "After Elastic Net Regression   0.736616  0.159327 -0.074473   0.092443   \n",
       "\n",
       "                               Population  AveOccup  Latitude  Longitude  \\\n",
       "Before Elastic Net Regression   -0.010918 -0.027147 -0.993947  -0.950686   \n",
       "After Elastic Net Regression     0.004344 -0.027914 -0.438714  -0.388492   \n",
       "\n",
       "                               const  \n",
       "Before Elastic Net Regression    0.0  \n",
       "After Elastic Net Regression     0.0  "
      ]
     },
     "execution_count": 25,
     "metadata": {},
     "output_type": "execute_result"
    }
   ],
   "source": [
    "df_compare.T"
   ]
  },
  {
   "cell_type": "code",
   "execution_count": 26,
   "id": "50ad6baa-0bd0-4417-9399-d07926d6065f",
   "metadata": {},
   "outputs": [],
   "source": [
    "df_compare.T.to_clipboard()"
   ]
  }
 ],
 "metadata": {
  "kernelspec": {
   "display_name": "Python 3",
   "language": "python",
   "name": "python3"
  },
  "language_info": {
   "codemirror_mode": {
    "name": "ipython",
    "version": 3
   },
   "file_extension": ".py",
   "mimetype": "text/x-python",
   "name": "python",
   "nbconvert_exporter": "python",
   "pygments_lexer": "ipython3",
   "version": "3.8.3"
  }
 },
 "nbformat": 4,
 "nbformat_minor": 5
}
